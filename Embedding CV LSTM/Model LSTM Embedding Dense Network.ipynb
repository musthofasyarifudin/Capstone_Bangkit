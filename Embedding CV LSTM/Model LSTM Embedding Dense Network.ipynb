{
 "cells": [
  {
   "cell_type": "code",
   "execution_count": 137,
   "id": "2b797981",
   "metadata": {
    "ExecuteTime": {
     "end_time": "2021-06-07T04:46:57.794310Z",
     "start_time": "2021-06-07T04:46:57.781311Z"
    }
   },
   "outputs": [],
   "source": [
    "import tensorflow as tf\n",
    "import pandas as pd\n",
    "import numpy as np\n",
    "import matplotlib.pyplot as plt\n",
    "from sklearn.preprocessing import LabelEncoder\n",
    "import random\n",
    "from sklearn.model_selection import train_test_split\n",
    "from tqdm.notebook import tqdm"
   ]
  },
  {
   "cell_type": "code",
   "execution_count": 2,
   "id": "bfe1b23b",
   "metadata": {
    "ExecuteTime": {
     "end_time": "2021-06-07T04:00:50.262165Z",
     "start_time": "2021-06-07T04:00:49.781345Z"
    }
   },
   "outputs": [
    {
     "name": "stdout",
     "output_type": "stream",
     "text": [
      "<class 'pandas.core.frame.DataFrame'>\n",
      "RangeIndex: 4920 entries, 0 to 4919\n",
      "Data columns (total 18 columns):\n",
      " #   Column      Non-Null Count  Dtype   \n",
      "---  ------      --------------  -----   \n",
      " 0   Disease     4920 non-null   category\n",
      " 1   Symptom_1   4920 non-null   category\n",
      " 2   Symptom_2   4920 non-null   category\n",
      " 3   Symptom_3   4920 non-null   category\n",
      " 4   Symptom_4   4920 non-null   category\n",
      " 5   Symptom_5   4920 non-null   category\n",
      " 6   Symptom_6   4920 non-null   category\n",
      " 7   Symptom_7   4920 non-null   category\n",
      " 8   Symptom_8   4920 non-null   category\n",
      " 9   Symptom_9   4920 non-null   category\n",
      " 10  Symptom_10  4920 non-null   category\n",
      " 11  Symptom_11  4920 non-null   category\n",
      " 12  Symptom_12  4920 non-null   category\n",
      " 13  Symptom_13  4920 non-null   category\n",
      " 14  Symptom_14  4920 non-null   category\n",
      " 15  Symptom_15  4920 non-null   category\n",
      " 16  Symptom_16  4920 non-null   category\n",
      " 17  Symptom_17  4920 non-null   category\n",
      "dtypes: category(18)\n",
      "memory usage: 103.9 KB\n"
     ]
    }
   ],
   "source": [
    "df = pd.read_csv(\"dataset.csv\").fillna(\"0\").sort_values(\"Disease\").reset_index(drop=True)\n",
    "cat_col = df.select_dtypes(\"object\").columns\n",
    "df[cat_col] = df[cat_col].astype(\"category\")\n",
    "df.info()"
   ]
  },
  {
   "cell_type": "code",
   "execution_count": 3,
   "id": "71c4cbc8",
   "metadata": {
    "ExecuteTime": {
     "end_time": "2021-06-07T04:00:50.463339Z",
     "start_time": "2021-06-07T04:00:50.264117Z"
    }
   },
   "outputs": [
    {
     "data": {
      "text/html": [
       "<div>\n",
       "<style scoped>\n",
       "    .dataframe tbody tr th:only-of-type {\n",
       "        vertical-align: middle;\n",
       "    }\n",
       "\n",
       "    .dataframe tbody tr th {\n",
       "        vertical-align: top;\n",
       "    }\n",
       "\n",
       "    .dataframe thead th {\n",
       "        text-align: right;\n",
       "    }\n",
       "</style>\n",
       "<table border=\"1\" class=\"dataframe\">\n",
       "  <thead>\n",
       "    <tr style=\"text-align: right;\">\n",
       "      <th></th>\n",
       "      <th>index</th>\n",
       "      <th>cardinality</th>\n",
       "    </tr>\n",
       "  </thead>\n",
       "  <tbody>\n",
       "    <tr>\n",
       "      <th>0</th>\n",
       "      <td>Disease</td>\n",
       "      <td>41</td>\n",
       "    </tr>\n",
       "    <tr>\n",
       "      <th>1</th>\n",
       "      <td>Symptom_1</td>\n",
       "      <td>34</td>\n",
       "    </tr>\n",
       "    <tr>\n",
       "      <th>2</th>\n",
       "      <td>Symptom_2</td>\n",
       "      <td>48</td>\n",
       "    </tr>\n",
       "    <tr>\n",
       "      <th>3</th>\n",
       "      <td>Symptom_3</td>\n",
       "      <td>54</td>\n",
       "    </tr>\n",
       "    <tr>\n",
       "      <th>4</th>\n",
       "      <td>Symptom_4</td>\n",
       "      <td>51</td>\n",
       "    </tr>\n",
       "    <tr>\n",
       "      <th>5</th>\n",
       "      <td>Symptom_5</td>\n",
       "      <td>39</td>\n",
       "    </tr>\n",
       "    <tr>\n",
       "      <th>6</th>\n",
       "      <td>Symptom_6</td>\n",
       "      <td>33</td>\n",
       "    </tr>\n",
       "    <tr>\n",
       "      <th>7</th>\n",
       "      <td>Symptom_7</td>\n",
       "      <td>27</td>\n",
       "    </tr>\n",
       "    <tr>\n",
       "      <th>8</th>\n",
       "      <td>Symptom_8</td>\n",
       "      <td>22</td>\n",
       "    </tr>\n",
       "    <tr>\n",
       "      <th>9</th>\n",
       "      <td>Symptom_9</td>\n",
       "      <td>23</td>\n",
       "    </tr>\n",
       "    <tr>\n",
       "      <th>10</th>\n",
       "      <td>Symptom_10</td>\n",
       "      <td>22</td>\n",
       "    </tr>\n",
       "    <tr>\n",
       "      <th>11</th>\n",
       "      <td>Symptom_11</td>\n",
       "      <td>19</td>\n",
       "    </tr>\n",
       "    <tr>\n",
       "      <th>12</th>\n",
       "      <td>Symptom_12</td>\n",
       "      <td>12</td>\n",
       "    </tr>\n",
       "    <tr>\n",
       "      <th>13</th>\n",
       "      <td>Symptom_13</td>\n",
       "      <td>9</td>\n",
       "    </tr>\n",
       "    <tr>\n",
       "      <th>14</th>\n",
       "      <td>Symptom_14</td>\n",
       "      <td>5</td>\n",
       "    </tr>\n",
       "    <tr>\n",
       "      <th>15</th>\n",
       "      <td>Symptom_15</td>\n",
       "      <td>4</td>\n",
       "    </tr>\n",
       "    <tr>\n",
       "      <th>16</th>\n",
       "      <td>Symptom_16</td>\n",
       "      <td>4</td>\n",
       "    </tr>\n",
       "    <tr>\n",
       "      <th>17</th>\n",
       "      <td>Symptom_17</td>\n",
       "      <td>2</td>\n",
       "    </tr>\n",
       "  </tbody>\n",
       "</table>\n",
       "</div>"
      ],
      "text/plain": [
       "         index  cardinality\n",
       "0      Disease           41\n",
       "1    Symptom_1           34\n",
       "2    Symptom_2           48\n",
       "3    Symptom_3           54\n",
       "4    Symptom_4           51\n",
       "5    Symptom_5           39\n",
       "6    Symptom_6           33\n",
       "7    Symptom_7           27\n",
       "8    Symptom_8           22\n",
       "9    Symptom_9           23\n",
       "10  Symptom_10           22\n",
       "11  Symptom_11           19\n",
       "12  Symptom_12           12\n",
       "13  Symptom_13            9\n",
       "14  Symptom_14            5\n",
       "15  Symptom_15            4\n",
       "16  Symptom_16            4\n",
       "17  Symptom_17            2"
      ]
     },
     "execution_count": 3,
     "metadata": {},
     "output_type": "execute_result"
    }
   ],
   "source": [
    "df[cat_col].nunique().reset_index(name='cardinality')"
   ]
  },
  {
   "cell_type": "code",
   "execution_count": 4,
   "id": "b586008e",
   "metadata": {
    "ExecuteTime": {
     "end_time": "2021-06-07T04:00:50.495475Z",
     "start_time": "2021-06-07T04:00:50.465346Z"
    }
   },
   "outputs": [
    {
     "data": {
      "text/html": [
       "<div>\n",
       "<style scoped>\n",
       "    .dataframe tbody tr th:only-of-type {\n",
       "        vertical-align: middle;\n",
       "    }\n",
       "\n",
       "    .dataframe tbody tr th {\n",
       "        vertical-align: top;\n",
       "    }\n",
       "\n",
       "    .dataframe thead th {\n",
       "        text-align: right;\n",
       "    }\n",
       "</style>\n",
       "<table border=\"1\" class=\"dataframe\">\n",
       "  <thead>\n",
       "    <tr style=\"text-align: right;\">\n",
       "      <th></th>\n",
       "      <th>Disease</th>\n",
       "      <th>Symptom_1</th>\n",
       "      <th>Symptom_2</th>\n",
       "      <th>Symptom_3</th>\n",
       "      <th>Symptom_4</th>\n",
       "      <th>Symptom_5</th>\n",
       "      <th>Symptom_6</th>\n",
       "      <th>Symptom_7</th>\n",
       "      <th>Symptom_8</th>\n",
       "      <th>Symptom_9</th>\n",
       "      <th>Symptom_10</th>\n",
       "      <th>Symptom_11</th>\n",
       "      <th>Symptom_12</th>\n",
       "      <th>Symptom_13</th>\n",
       "      <th>Symptom_14</th>\n",
       "      <th>Symptom_15</th>\n",
       "      <th>Symptom_16</th>\n",
       "      <th>Symptom_17</th>\n",
       "    </tr>\n",
       "  </thead>\n",
       "  <tbody>\n",
       "    <tr>\n",
       "      <th>0</th>\n",
       "      <td>(vertigo) Paroymsal  Positional Vertigo</td>\n",
       "      <td>vomiting</td>\n",
       "      <td>headache</td>\n",
       "      <td>nausea</td>\n",
       "      <td>spinning_movements</td>\n",
       "      <td>unsteadiness</td>\n",
       "      <td>0</td>\n",
       "      <td>0</td>\n",
       "      <td>0</td>\n",
       "      <td>0</td>\n",
       "      <td>0</td>\n",
       "      <td>0</td>\n",
       "      <td>0</td>\n",
       "      <td>0</td>\n",
       "      <td>0</td>\n",
       "      <td>0</td>\n",
       "      <td>0</td>\n",
       "      <td>0</td>\n",
       "    </tr>\n",
       "    <tr>\n",
       "      <th>1</th>\n",
       "      <td>(vertigo) Paroymsal  Positional Vertigo</td>\n",
       "      <td>vomiting</td>\n",
       "      <td>headache</td>\n",
       "      <td>nausea</td>\n",
       "      <td>spinning_movements</td>\n",
       "      <td>loss_of_balance</td>\n",
       "      <td>unsteadiness</td>\n",
       "      <td>0</td>\n",
       "      <td>0</td>\n",
       "      <td>0</td>\n",
       "      <td>0</td>\n",
       "      <td>0</td>\n",
       "      <td>0</td>\n",
       "      <td>0</td>\n",
       "      <td>0</td>\n",
       "      <td>0</td>\n",
       "      <td>0</td>\n",
       "      <td>0</td>\n",
       "    </tr>\n",
       "    <tr>\n",
       "      <th>2</th>\n",
       "      <td>(vertigo) Paroymsal  Positional Vertigo</td>\n",
       "      <td>vomiting</td>\n",
       "      <td>headache</td>\n",
       "      <td>nausea</td>\n",
       "      <td>spinning_movements</td>\n",
       "      <td>loss_of_balance</td>\n",
       "      <td>0</td>\n",
       "      <td>0</td>\n",
       "      <td>0</td>\n",
       "      <td>0</td>\n",
       "      <td>0</td>\n",
       "      <td>0</td>\n",
       "      <td>0</td>\n",
       "      <td>0</td>\n",
       "      <td>0</td>\n",
       "      <td>0</td>\n",
       "      <td>0</td>\n",
       "      <td>0</td>\n",
       "    </tr>\n",
       "    <tr>\n",
       "      <th>3</th>\n",
       "      <td>(vertigo) Paroymsal  Positional Vertigo</td>\n",
       "      <td>vomiting</td>\n",
       "      <td>headache</td>\n",
       "      <td>nausea</td>\n",
       "      <td>spinning_movements</td>\n",
       "      <td>loss_of_balance</td>\n",
       "      <td>unsteadiness</td>\n",
       "      <td>0</td>\n",
       "      <td>0</td>\n",
       "      <td>0</td>\n",
       "      <td>0</td>\n",
       "      <td>0</td>\n",
       "      <td>0</td>\n",
       "      <td>0</td>\n",
       "      <td>0</td>\n",
       "      <td>0</td>\n",
       "      <td>0</td>\n",
       "      <td>0</td>\n",
       "    </tr>\n",
       "    <tr>\n",
       "      <th>4</th>\n",
       "      <td>(vertigo) Paroymsal  Positional Vertigo</td>\n",
       "      <td>vomiting</td>\n",
       "      <td>headache</td>\n",
       "      <td>nausea</td>\n",
       "      <td>spinning_movements</td>\n",
       "      <td>loss_of_balance</td>\n",
       "      <td>unsteadiness</td>\n",
       "      <td>0</td>\n",
       "      <td>0</td>\n",
       "      <td>0</td>\n",
       "      <td>0</td>\n",
       "      <td>0</td>\n",
       "      <td>0</td>\n",
       "      <td>0</td>\n",
       "      <td>0</td>\n",
       "      <td>0</td>\n",
       "      <td>0</td>\n",
       "      <td>0</td>\n",
       "    </tr>\n",
       "  </tbody>\n",
       "</table>\n",
       "</div>"
      ],
      "text/plain": [
       "                                   Disease  Symptom_1  Symptom_2 Symptom_3  \\\n",
       "0  (vertigo) Paroymsal  Positional Vertigo   vomiting   headache    nausea   \n",
       "1  (vertigo) Paroymsal  Positional Vertigo   vomiting   headache    nausea   \n",
       "2  (vertigo) Paroymsal  Positional Vertigo   vomiting   headache    nausea   \n",
       "3  (vertigo) Paroymsal  Positional Vertigo   vomiting   headache    nausea   \n",
       "4  (vertigo) Paroymsal  Positional Vertigo   vomiting   headache    nausea   \n",
       "\n",
       "             Symptom_4         Symptom_5      Symptom_6 Symptom_7 Symptom_8  \\\n",
       "0   spinning_movements      unsteadiness              0         0         0   \n",
       "1   spinning_movements   loss_of_balance   unsteadiness         0         0   \n",
       "2   spinning_movements   loss_of_balance              0         0         0   \n",
       "3   spinning_movements   loss_of_balance   unsteadiness         0         0   \n",
       "4   spinning_movements   loss_of_balance   unsteadiness         0         0   \n",
       "\n",
       "  Symptom_9 Symptom_10 Symptom_11 Symptom_12 Symptom_13 Symptom_14 Symptom_15  \\\n",
       "0         0          0          0          0          0          0          0   \n",
       "1         0          0          0          0          0          0          0   \n",
       "2         0          0          0          0          0          0          0   \n",
       "3         0          0          0          0          0          0          0   \n",
       "4         0          0          0          0          0          0          0   \n",
       "\n",
       "  Symptom_16 Symptom_17  \n",
       "0          0          0  \n",
       "1          0          0  \n",
       "2          0          0  \n",
       "3          0          0  \n",
       "4          0          0  "
      ]
     },
     "execution_count": 4,
     "metadata": {},
     "output_type": "execute_result"
    }
   ],
   "source": [
    "df.head()"
   ]
  },
  {
   "cell_type": "code",
   "execution_count": 5,
   "id": "57d8427c",
   "metadata": {
    "ExecuteTime": {
     "end_time": "2021-06-07T04:00:50.772996Z",
     "start_time": "2021-06-07T04:00:50.496339Z"
    }
   },
   "outputs": [],
   "source": [
    "for col in cat_col:\n",
    "    df[col] = df[col].str.replace(\" \", \"\")"
   ]
  },
  {
   "cell_type": "code",
   "execution_count": 8,
   "id": "c00a1ae1",
   "metadata": {
    "ExecuteTime": {
     "end_time": "2021-06-07T04:01:49.626331Z",
     "start_time": "2021-06-07T04:01:49.604306Z"
    }
   },
   "outputs": [
    {
     "name": "stdout",
     "output_type": "stream",
     "text": [
      "133\n"
     ]
    }
   ],
   "source": [
    "data_encoder = LabelEncoder()\n",
    "sym = pd.read_csv(\"symptom_severity.csv\").Symptom\n",
    "sym = list(sym) + [\"0\"]\n",
    "data_encoder = data_encoder.fit(sym)\n",
    "print (len(data_encoder.classes_))\n",
    "#np.save('data_classes.npy', data_encoder.classes_)"
   ]
  },
  {
   "cell_type": "code",
   "execution_count": 7,
   "id": "63f4ffd0",
   "metadata": {
    "ExecuteTime": {
     "end_time": "2021-06-07T04:00:51.006694Z",
     "start_time": "2021-06-07T04:00:50.962470Z"
    }
   },
   "outputs": [
    {
     "name": "stdout",
     "output_type": "stream",
     "text": [
      "['(vertigo)ParoymsalPositionalVertigo' 'AIDS' 'Acne' 'Alcoholichepatitis'\n",
      " 'Allergy' 'Arthritis' 'BronchialAsthma' 'Cervicalspondylosis'\n",
      " 'Chickenpox' 'Chroniccholestasis' 'CommonCold' 'Dengue' 'Diabetes'\n",
      " 'Dimorphichemmorhoids(piles)' 'DrugReaction' 'Fungalinfection' 'GERD'\n",
      " 'Gastroenteritis' 'Heartattack' 'HepatitisB' 'HepatitisC' 'HepatitisD'\n",
      " 'HepatitisE' 'Hypertension' 'Hyperthyroidism' 'Hypoglycemia'\n",
      " 'Hypothyroidism' 'Impetigo' 'Jaundice' 'Malaria' 'Migraine'\n",
      " 'Osteoarthristis' 'Paralysis(brainhemorrhage)' 'Pepticulcerdiseae'\n",
      " 'Pneumonia' 'Psoriasis' 'Tuberculosis' 'Typhoid' 'Urinarytractinfection'\n",
      " 'Varicoseveins' 'hepatitisA']\n"
     ]
    }
   ],
   "source": [
    "#df.to_csv(\"clean_dataset.csv\", index=False)\n",
    "encoder = LabelEncoder()\n",
    "encoder = encoder.fit(df.Disease)\n",
    "print (encoder.classes_)\n",
    "#np.save('labels_classes.npy', encoder.classes_)"
   ]
  },
  {
   "cell_type": "code",
   "execution_count": 147,
   "id": "7c0475f8",
   "metadata": {
    "ExecuteTime": {
     "end_time": "2021-06-07T04:50:44.689263Z",
     "start_time": "2021-06-07T04:50:44.668262Z"
    }
   },
   "outputs": [],
   "source": [
    "class model_embed:\n",
    "    random.seed(10) # seeding for reproductibility\n",
    "    \n",
    "    def __init__(self, data, cv, encoder, encoder_data, name_y):\n",
    "        self.name = \"Keras Categorical Embeding\"\n",
    "        self.data = data\n",
    "        self.cv = cv\n",
    "        self.class_encoder = encoder\n",
    "        self.y_name = name_y\n",
    "        self.data_encoder = encoder_data\n",
    "        self.model_ = self.model()\n",
    "        \n",
    "        \n",
    "    def split(self):\n",
    "        \"\"\"split data into train, val, and test index\"\"\"\n",
    "        cv_index = {}\n",
    "        for index in range(0, self.cv):\n",
    "            split_train = []\n",
    "            split_val = []\n",
    "            split_test = []\n",
    "            train_test_split = 0\n",
    "            for index_data in self.data.index:\n",
    "                if index_data % 120 == 0 and index_data != 0:\n",
    "                    for index_y in (random.sample(list(np.arange(index_data-120, index_data)), 24)):\n",
    "                        split_test.append(int(index_y))\n",
    "        \n",
    "            #print (\"done \", index+1)\n",
    "            train_test_split = [train_idx for train_idx in (self.data.index) if train_idx not in split_test]\n",
    "            split_val = list(np.random.choice(train_test_split, size=(18)))\n",
    "            split_train = [train_idx for train_idx in train_test_split if train_idx not in split_val]\n",
    "            cv_index[(index)] = np.array([(split_train), (split_val), list(split_test)])\n",
    "        return cv_index\n",
    "    def model(self):\n",
    "        \"\"\"creating the model\"\"\"\n",
    "        model_data = tf.keras.Sequential([\n",
    "            tf.keras.layers.Embedding(134, 328, input_length=17),\n",
    "            tf.keras.layers.LSTM(32),\n",
    "            tf.keras.layers.Flatten(),\n",
    "            tf.keras.layers.Dense(164, activation=\"relu\"),\n",
    "            tf.keras.layers.Dense(82, activation=\"relu\"),\n",
    "            tf.keras.layers.Dense(41, activation=\"softmax\")\n",
    "        ])\n",
    "        return model_data\n",
    "        \n",
    "    def model_train(self,data_x, data_y, val_x, val_y, test_x, test_y, num_epochs=5):\n",
    "        \"\"\"train model with specifid cross validation\"\"\"\n",
    "        self.model_.compile(loss='sparse_categorical_crossentropy', optimizer='adam', metrics=['accuracy'])\n",
    "        history = self.model_.fit(data_x, data_y, epochs=num_epochs, batch_size=32, verbose=1, validation_data=(val_x, val_y))\n",
    "        return self.model_.evaluate(test_x, test_y)\n",
    "    \n",
    "    def predict(self, test_x):\n",
    "        data_p = self.data_encoder.transform(test_x)\n",
    "        data_p = np.reshape(data_p, [1, 17])\n",
    "        prediction = (self.model_.predict(data_p))\n",
    "        label = self.class_encoder.inverse_transform([np.argmax(prediction)])\n",
    "        return label\n",
    "        \n",
    "    def data_slicing(self, cv, x):\n",
    "        \"\"\"return data x and y for every cv\"\"\"\n",
    "        train =  self.data.iloc[cv[0]]\n",
    "        train_x = train.drop([self.y_name], axis=1)\n",
    "        for col in train_x.columns:\n",
    "            train_x[col] = self.data_encoder.transform(train_x[col].values)\n",
    "        train_y = self.class_encoder.transform(train[self.y_name].values)\n",
    "        \n",
    "        val = self.data.iloc[cv[1]]\n",
    "        val_x = val.drop([self.y_name], axis=1)\n",
    "        for col in val_x.columns:\n",
    "            val_x[col] = self.data_encoder.transform(val_x[col].values)\n",
    "        val_y =  self.class_encoder.transform(val[self.y_name])\n",
    "        \n",
    "        test = self.data.iloc[cv[2]]\n",
    "        test_x = test.drop([self.y_name], axis=1)\n",
    "        for col in test_x.columns:\n",
    "            test_x[col] = self.data_encoder.transform(test_x[col].values)\n",
    "        test_y =  self.class_encoder.transform(test[self.y_name])\n",
    "        return train_x, train_y, val_x, val_y, test_x, test_y\n",
    "        \n",
    "    def run(self):\n",
    "        data_cv = self.split()\n",
    "        result = []\n",
    "        for x in tqdm(range(self.cv)):\n",
    "            print (x)\n",
    "            train_x, train_y, val_x, val_y, test_x, test_y = (self.data_slicing(data_cv[x], x))\n",
    "            #print (self.model_)\n",
    "            #print (train_x.shape, val_x.shape, test_x.shape)\n",
    "            #print (train_y.shape, val_y.shape, test_y.shape)\n",
    "            result.append(self.model_train(train_x, train_y, val_x, val_y, test_x, test_y, 5)[1])\n",
    "        #print (self.class_encoder.classes_)\n",
    "        print (sum(result)/self.cv)\n",
    "        "
   ]
  },
  {
   "cell_type": "code",
   "execution_count": 148,
   "id": "2e50955c",
   "metadata": {
    "ExecuteTime": {
     "end_time": "2021-06-07T04:50:59.182127Z",
     "start_time": "2021-06-07T04:50:45.704146Z"
    }
   },
   "outputs": [
    {
     "name": "stderr",
     "output_type": "stream",
     "text": [
      "C:\\Users\\musth\\Anaconda3\\lib\\site-packages\\ipykernel_launcher.py:31: VisibleDeprecationWarning: Creating an ndarray from ragged nested sequences (which is a list-or-tuple of lists-or-tuples-or ndarrays with different lengths or shapes) is deprecated. If you meant to do this, you must specify 'dtype=object' when creating the ndarray\n"
     ]
    },
    {
     "data": {
      "application/vnd.jupyter.widget-view+json": {
       "model_id": "228092e95dc440e3a6e974977220f4a7",
       "version_major": 2,
       "version_minor": 0
      },
      "text/plain": [
       "  0%|          | 0/1 [00:00<?, ?it/s]"
      ]
     },
     "metadata": {},
     "output_type": "display_data"
    },
    {
     "name": "stdout",
     "output_type": "stream",
     "text": [
      "0\n",
      "Epoch 1/5\n",
      "124/124 [==============================] - 7s 13ms/step - loss: 3.3280 - accuracy: 0.1103 - val_loss: 1.1809 - val_accuracy: 0.6667\n",
      "Epoch 2/5\n",
      "124/124 [==============================] - 1s 10ms/step - loss: 0.7283 - accuracy: 0.8338 - val_loss: 0.2618 - val_accuracy: 0.8333\n",
      "Epoch 3/5\n",
      "124/124 [==============================] - 1s 9ms/step - loss: 0.1214 - accuracy: 0.9693 - val_loss: 0.1205 - val_accuracy: 0.9444\n",
      "Epoch 4/5\n",
      "124/124 [==============================] - 1s 9ms/step - loss: 0.0393 - accuracy: 0.9926 - val_loss: 0.0124 - val_accuracy: 1.0000\n",
      "Epoch 5/5\n",
      "124/124 [==============================] - 1s 9ms/step - loss: 0.0188 - accuracy: 0.9964 - val_loss: 0.0053 - val_accuracy: 1.0000\n",
      "30/30 [==============================] - 0s 4ms/step - loss: 0.0051 - accuracy: 1.0000\n",
      "1.0\n"
     ]
    }
   ],
   "source": [
    "m = model_embed(df, 1, encoder, data_encoder, \"Disease\")\n",
    "m.run()"
   ]
  },
  {
   "cell_type": "code",
   "execution_count": 149,
   "id": "04f707c9",
   "metadata": {
    "ExecuteTime": {
     "end_time": "2021-06-07T04:51:02.938273Z",
     "start_time": "2021-06-07T04:51:02.641272Z"
    }
   },
   "outputs": [
    {
     "name": "stdout",
     "output_type": "stream",
     "text": [
      "HepatitisC HepatitisC\n"
     ]
    }
   ],
   "source": [
    "random_nmbr = random.sample(list(np.arange(0, 4920)), 1)\n",
    "test_x = df.iloc[random_nmbr].drop([\"Disease\"], axis=1).values\n",
    "test_y = df.iloc[random_nmbr][\"Disease\"].values\n",
    "y = m.predict(test_x[0])\n",
    "print (y.item(), test_y.item())"
   ]
  },
  {
   "cell_type": "code",
   "execution_count": 150,
   "id": "2f330ba5",
   "metadata": {
    "ExecuteTime": {
     "end_time": "2021-06-07T04:51:05.187545Z",
     "start_time": "2021-06-07T04:51:04.989386Z"
    }
   },
   "outputs": [
    {
     "name": "stdout",
     "output_type": "stream",
     "text": [
      "Model: \"sequential_36\"\n",
      "_________________________________________________________________\n",
      "Layer (type)                 Output Shape              Param #   \n",
      "=================================================================\n",
      "embedding_37 (Embedding)     (None, 17, 328)           43952     \n",
      "_________________________________________________________________\n",
      "lstm_1 (LSTM)                (None, 32)                46208     \n",
      "_________________________________________________________________\n",
      "flatten_31 (Flatten)         (None, 32)                0         \n",
      "_________________________________________________________________\n",
      "dense_108 (Dense)            (None, 164)               5412      \n",
      "_________________________________________________________________\n",
      "dense_109 (Dense)            (None, 82)                13530     \n",
      "_________________________________________________________________\n",
      "dense_110 (Dense)            (None, 41)                3403      \n",
      "=================================================================\n",
      "Total params: 112,505\n",
      "Trainable params: 112,505\n",
      "Non-trainable params: 0\n",
      "_________________________________________________________________\n"
     ]
    }
   ],
   "source": [
    "m.model().summary()"
   ]
  },
  {
   "cell_type": "code",
   "execution_count": 151,
   "id": "302ddb11",
   "metadata": {
    "ExecuteTime": {
     "end_time": "2021-06-07T04:51:35.952584Z",
     "start_time": "2021-06-07T04:51:31.915977Z"
    }
   },
   "outputs": [
    {
     "name": "stderr",
     "output_type": "stream",
     "text": [
      "WARNING:absl:Found untraced functions such as lstm_cell_2_layer_call_fn, lstm_cell_2_layer_call_and_return_conditional_losses, lstm_cell_2_layer_call_fn, lstm_cell_2_layer_call_and_return_conditional_losses, lstm_cell_2_layer_call_and_return_conditional_losses while saving (showing 5 of 5). These functions will not be directly callable after loading.\n",
      "WARNING:absl:Found untraced functions such as lstm_cell_2_layer_call_fn, lstm_cell_2_layer_call_and_return_conditional_losses, lstm_cell_2_layer_call_fn, lstm_cell_2_layer_call_and_return_conditional_losses, lstm_cell_2_layer_call_and_return_conditional_losses while saving (showing 5 of 5). These functions will not be directly callable after loading.\n"
     ]
    },
    {
     "name": "stdout",
     "output_type": "stream",
     "text": [
      "INFO:tensorflow:Assets written to: embedding_lstm\\assets\n"
     ]
    },
    {
     "name": "stderr",
     "output_type": "stream",
     "text": [
      "INFO:tensorflow:Assets written to: embedding_lstm\\assets\n"
     ]
    }
   ],
   "source": [
    "model_learned = m.model()\n",
    "model_learned.save('embedding_lstm')"
   ]
  },
  {
   "cell_type": "code",
   "execution_count": 5,
   "id": "14457a8e",
   "metadata": {
    "ExecuteTime": {
     "end_time": "2021-05-30T09:30:22.641030Z",
     "start_time": "2021-05-30T09:30:19.743383Z"
    }
   },
   "outputs": [],
   "source": [
    "# Model Load\n",
    "from tensorflow import keras\n",
    "model = keras.models.load_model('base_lstm')\n",
    "# Encoder Load\n",
    "data_enc = LabelEncoder()\n",
    "data_enc.classes_ = np.load(\"data_classes.npy\", allow_pickle=True)\n",
    "\n",
    "label_enc = LabelEncoder()\n",
    "label_enc.classes_ = np.load(\"labels_classes.npy\", allow_pickle=True)"
   ]
  },
  {
   "cell_type": "code",
   "execution_count": 39,
   "id": "8ece9612",
   "metadata": {
    "ExecuteTime": {
     "end_time": "2021-05-30T09:39:38.305988Z",
     "start_time": "2021-05-30T09:39:38.284985Z"
    }
   },
   "outputs": [],
   "source": [
    "x = list(df[0:1].drop(\"Disease\", axis=1).values)\n",
    "y = df[0:1].Disease"
   ]
  },
  {
   "cell_type": "code",
   "execution_count": 42,
   "id": "04add1ea",
   "metadata": {
    "ExecuteTime": {
     "end_time": "2021-05-30T09:42:37.737898Z",
     "start_time": "2021-05-30T09:42:37.726899Z"
    }
   },
   "outputs": [
    {
     "data": {
      "text/plain": [
       "[array(['vomiting', 'headache', 'nausea', 'spinning_movements',\n",
       "        'unsteadiness', '0', '0', '0', '0', '0', '0', '0', '0', '0', '0',\n",
       "        '0', '0'], dtype=object)]"
      ]
     },
     "execution_count": 42,
     "metadata": {},
     "output_type": "execute_result"
    }
   ],
   "source": [
    "x"
   ]
  },
  {
   "cell_type": "code",
   "execution_count": 41,
   "id": "eb6213c5",
   "metadata": {
    "ExecuteTime": {
     "end_time": "2021-05-30T09:39:46.704561Z",
     "start_time": "2021-05-30T09:39:46.690505Z"
    }
   },
   "outputs": [
    {
     "data": {
      "text/plain": [
       "array([123,  45,  72, 105, 121,   0,   0,   0,   0,   0,   0,   0,   0,\n",
       "         0,   0,   0,   0])"
      ]
     },
     "execution_count": 41,
     "metadata": {},
     "output_type": "execute_result"
    }
   ],
   "source": [
    "x_mod = data_enc.transform(np.reshape(x, [17, 1]))\n",
    "x_mod"
   ]
  },
  {
   "cell_type": "code",
   "execution_count": 30,
   "id": "03a7d360",
   "metadata": {
    "ExecuteTime": {
     "end_time": "2021-05-30T09:35:20.905533Z",
     "start_time": "2021-05-30T09:35:20.898534Z"
    }
   },
   "outputs": [
    {
     "data": {
      "text/plain": [
       "array([[[123,  45,  72, 105, 121,   0,   0,   0,   0,   0,   0,   0,\n",
       "           0,   0,   0,   0,   0]]])"
      ]
     },
     "execution_count": 30,
     "metadata": {},
     "output_type": "execute_result"
    }
   ],
   "source": [
    "x_mod_p = np.reshape(x_mod, [1, 1, 17])\n",
    "x_mod_p"
   ]
  },
  {
   "cell_type": "code",
   "execution_count": 38,
   "id": "17dccc7e",
   "metadata": {
    "ExecuteTime": {
     "end_time": "2021-05-30T09:36:44.152079Z",
     "start_time": "2021-05-30T09:36:44.096983Z"
    }
   },
   "outputs": [
    {
     "data": {
      "text/plain": [
       "'(vertigo)ParoymsalPositionalVertigo'"
      ]
     },
     "execution_count": 38,
     "metadata": {},
     "output_type": "execute_result"
    }
   ],
   "source": [
    "label_enc.inverse_transform([np.argmax(model.predict(x_mod_p))])[0]"
   ]
  }
 ],
 "metadata": {
  "kernelspec": {
   "display_name": "Python 3",
   "language": "python",
   "name": "python3"
  },
  "language_info": {
   "codemirror_mode": {
    "name": "ipython",
    "version": 3
   },
   "file_extension": ".py",
   "mimetype": "text/x-python",
   "name": "python",
   "nbconvert_exporter": "python",
   "pygments_lexer": "ipython3",
   "version": "3.7.3"
  },
  "toc": {
   "base_numbering": 1,
   "nav_menu": {},
   "number_sections": true,
   "sideBar": true,
   "skip_h1_title": false,
   "title_cell": "Table of Contents",
   "title_sidebar": "Contents",
   "toc_cell": false,
   "toc_position": {},
   "toc_section_display": true,
   "toc_window_display": false
  }
 },
 "nbformat": 4,
 "nbformat_minor": 5
}
