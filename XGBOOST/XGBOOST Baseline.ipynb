{
 "cells": [
  {
   "cell_type": "code",
   "execution_count": 135,
   "id": "transparent-prediction",
   "metadata": {
    "ExecuteTime": {
     "end_time": "2021-05-21T12:46:56.577118Z",
     "start_time": "2021-05-21T12:46:56.567102Z"
    }
   },
   "outputs": [],
   "source": [
    "import pandas as pd\n",
    "import xgboost as xgb\n",
    "from sklearn.preprocessing import LabelEncoder\n",
    "from sklearn.model_selection import train_test_split, GridSearchCV\n",
    "from sklearn.pipeline import Pipeline\n",
    "from sklearn.preprocessing import StandardScaler\n",
    "from sklearn.decomposition import PCA\n",
    "import numpy as np"
   ]
  },
  {
   "cell_type": "code",
   "execution_count": 136,
   "id": "missing-partnership",
   "metadata": {
    "ExecuteTime": {
     "end_time": "2021-05-21T12:46:56.840837Z",
     "start_time": "2021-05-21T12:46:56.579102Z"
    }
   },
   "outputs": [
    {
     "name": "stdout",
     "output_type": "stream",
     "text": [
      "<class 'pandas.core.frame.DataFrame'>\n",
      "RangeIndex: 3936 entries, 0 to 3935\n",
      "Columns: 410 entries, index to Symptom_17_0\n",
      "dtypes: int64(409), object(1)\n",
      "memory usage: 12.3+ MB\n"
     ]
    }
   ],
   "source": [
    "train = pd.read_csv(\"train_data.csv\")\n",
    "train.info()"
   ]
  },
  {
   "cell_type": "code",
   "execution_count": 137,
   "id": "finnish-plaintiff",
   "metadata": {
    "ExecuteTime": {
     "end_time": "2021-05-21T12:46:56.918963Z",
     "start_time": "2021-05-21T12:46:56.842872Z"
    }
   },
   "outputs": [
    {
     "name": "stdout",
     "output_type": "stream",
     "text": [
      "<class 'pandas.core.frame.DataFrame'>\n",
      "RangeIndex: 984 entries, 0 to 983\n",
      "Columns: 410 entries, index to Symptom_17_0\n",
      "dtypes: int64(409), object(1)\n",
      "memory usage: 3.1+ MB\n"
     ]
    }
   ],
   "source": [
    "test = pd.read_csv(\"test_data.csv\")\n",
    "test.info()"
   ]
  },
  {
   "cell_type": "code",
   "execution_count": 138,
   "id": "comparative-number",
   "metadata": {
    "ExecuteTime": {
     "end_time": "2021-05-21T12:46:56.949985Z",
     "start_time": "2021-05-21T12:46:56.920870Z"
    }
   },
   "outputs": [
    {
     "name": "stdout",
     "output_type": "stream",
     "text": [
      "<class 'pandas.core.frame.DataFrame'>\n",
      "RangeIndex: 41 entries, 0 to 40\n",
      "Data columns (total 6 columns):\n",
      " #   Column        Non-Null Count  Dtype \n",
      "---  ------        --------------  ----- \n",
      " 0   Disease       41 non-null     object\n",
      " 1   Precaution_1  41 non-null     object\n",
      " 2   Precaution_2  41 non-null     object\n",
      " 3   Precaution_3  41 non-null     object\n",
      " 4   Precaution_4  41 non-null     object\n",
      " 5   Description   41 non-null     object\n",
      "dtypes: object(6)\n",
      "memory usage: 2.0+ KB\n"
     ]
    }
   ],
   "source": [
    "data_d = pd.read_csv(\"data_disease_precautions.csv\")\n",
    "data_d.info()"
   ]
  },
  {
   "cell_type": "code",
   "execution_count": 139,
   "id": "muslim-particular",
   "metadata": {
    "ExecuteTime": {
     "end_time": "2021-05-21T12:46:57.044791Z",
     "start_time": "2021-05-21T12:46:56.951873Z"
    }
   },
   "outputs": [],
   "source": [
    "#randomize train and test data\n",
    "train = train.sample(frac=1).reset_index(drop=True)\n",
    "test = test.sample(frac=1).reset_index(drop=True)\n",
    "# Split train and test\n",
    "train_x = train.drop([\"index\", \"Disease\"], axis=1)\n",
    "train_y = train[\"Disease\"].values\n",
    "\n",
    "test_x = test.drop([\"index\", \"Disease\"], axis=1)\n",
    "test_y = test[\"Disease\"].values"
   ]
  },
  {
   "cell_type": "code",
   "execution_count": 140,
   "id": "accepted-antibody",
   "metadata": {
    "ExecuteTime": {
     "end_time": "2021-05-21T12:46:57.091344Z",
     "start_time": "2021-05-21T12:46:57.045680Z"
    }
   },
   "outputs": [
    {
     "name": "stdout",
     "output_type": "stream",
     "text": [
      "3936\n",
      "3936\n",
      "984\n",
      "984\n"
     ]
    }
   ],
   "source": [
    "#sanity check\n",
    "print (len(train_x))\n",
    "print (len(train_y))\n",
    "print (len(test_x))\n",
    "print (len(test_y))"
   ]
  },
  {
   "cell_type": "code",
   "execution_count": 141,
   "id": "radio-hammer",
   "metadata": {
    "ExecuteTime": {
     "end_time": "2021-05-21T12:46:57.169410Z",
     "start_time": "2021-05-21T12:46:57.092342Z"
    }
   },
   "outputs": [
    {
     "name": "stdout",
     "output_type": "stream",
     "text": [
      "[ 6 32 14 ... 14  3 39]\n",
      "['(vertigo) Paroymsal  Positional Vertigo' 'AIDS' 'Acne'\n",
      " 'Alcoholic hepatitis' 'Allergy' 'Arthritis' 'Bronchial Asthma'\n",
      " 'Cervical spondylosis' 'Chicken pox' 'Chronic cholestasis' 'Common Cold'\n",
      " 'Dengue' 'Diabetes ' 'Dimorphic hemmorhoids(piles)' 'Drug Reaction'\n",
      " 'Fungal infection' 'GERD' 'Gastroenteritis' 'Heart attack' 'Hepatitis B'\n",
      " 'Hepatitis C' 'Hepatitis D' 'Hepatitis E' 'Hypertension '\n",
      " 'Hyperthyroidism' 'Hypoglycemia' 'Hypothyroidism' 'Impetigo' 'Jaundice'\n",
      " 'Malaria' 'Migraine' 'Osteoarthristis' 'Paralysis (brain hemorrhage)'\n",
      " 'Peptic ulcer diseae' 'Pneumonia' 'Psoriasis' 'Tuberculosis' 'Typhoid'\n",
      " 'Urinary tract infection' 'Varicose veins' 'hepatitis A']\n",
      "['Hepatitis D' 'Peptic ulcer diseae' 'Heart attack' 'Drug Reaction' 'GERD'\n",
      " 'Gastroenteritis' 'Drug Reaction' 'Arthritis' 'Gastroenteritis'\n",
      " 'Hyperthyroidism' 'Varicose veins' 'Gastroenteritis' 'Tuberculosis'\n",
      " 'Drug Reaction' 'Osteoarthristis' 'Peptic ulcer diseae' 'Osteoarthristis'\n",
      " 'Peptic ulcer diseae' 'Tuberculosis' 'AIDS']\n"
     ]
    }
   ],
   "source": [
    "#One Hot Encoding\n",
    "#Label Encoding\n",
    "label_encoder = LabelEncoder()\n",
    "label_encoder = label_encoder.fit(train_y)\n",
    "train_y_endcoded = label_encoder.transform(train_y)\n",
    "print (train_y_endcoded)\n",
    "print (label_encoder.classes_)\n",
    "print (label_encoder.inverse_transform(train_y_endcoded[100:120]))"
   ]
  },
  {
   "cell_type": "code",
   "execution_count": 145,
   "id": "following-employee",
   "metadata": {
    "ExecuteTime": {
     "end_time": "2021-05-21T12:48:16.850794Z",
     "start_time": "2021-05-21T12:48:16.804795Z"
    }
   },
   "outputs": [],
   "source": [
    "param = {'max_depth': 2, 'eta': 1, 'objective': 'multi:softprob'}\n",
    "param['nthread'] = 4\n",
    "param['eval_metric'] = ['auc', \"merror\"]\n",
    "param[\"num_class\"]=41\n",
    "\n",
    "dtrain = xgb.DMatrix(train_x, label=label_encoder.transform(train_y))\n",
    "dtest = xgb.DMatrix(test_x, label=label_encoder.transform(test_y))\n",
    "evallist = [(dtest, 'eval'), (dtrain, 'train')]"
   ]
  },
  {
   "cell_type": "code",
   "execution_count": 146,
   "id": "southern-afternoon",
   "metadata": {
    "ExecuteTime": {
     "end_time": "2021-05-21T12:48:18.664981Z",
     "start_time": "2021-05-21T12:48:17.039388Z"
    }
   },
   "outputs": [
    {
     "name": "stdout",
     "output_type": "stream",
     "text": [
      "[0]\teval-auc:0.99897\teval-merror:0.03455\ttrain-auc:0.99863\ttrain-merror:0.03862\n",
      "[1]\teval-auc:0.99976\teval-merror:0.01219\ttrain-auc:0.99971\ttrain-merror:0.00915\n",
      "[2]\teval-auc:0.99985\teval-merror:0.00102\ttrain-auc:0.99982\ttrain-merror:0.00127\n",
      "[3]\teval-auc:0.99990\teval-merror:0.00102\ttrain-auc:0.99988\ttrain-merror:0.00127\n",
      "[4]\teval-auc:0.99997\teval-merror:0.00102\ttrain-auc:0.99997\ttrain-merror:0.00127\n",
      "[5]\teval-auc:0.99999\teval-merror:0.00102\ttrain-auc:0.99999\ttrain-merror:0.00127\n",
      "[6]\teval-auc:1.00000\teval-merror:0.00102\ttrain-auc:0.99999\ttrain-merror:0.00127\n",
      "[7]\teval-auc:1.00000\teval-merror:0.00102\ttrain-auc:1.00000\ttrain-merror:0.00127\n",
      "[8]\teval-auc:1.00000\teval-merror:0.00000\ttrain-auc:1.00000\ttrain-merror:0.00000\n",
      "[9]\teval-auc:1.00000\teval-merror:0.00000\ttrain-auc:1.00000\ttrain-merror:0.00000\n"
     ]
    }
   ],
   "source": [
    "num_round = 10\n",
    "bst = xgb.train(param, dtrain, num_round, evallist)"
   ]
  },
  {
   "cell_type": "code",
   "execution_count": 147,
   "id": "liberal-doctor",
   "metadata": {
    "ExecuteTime": {
     "end_time": "2021-05-21T12:48:20.709849Z",
     "start_time": "2021-05-21T12:48:20.701850Z"
    }
   },
   "outputs": [],
   "source": [
    "def predict(ddata):\n",
    "    prediction = bst.predict(ddata)\n",
    "    predict_index = []\n",
    "    for x in prediction:\n",
    "        predict_index.append(np.argmax(x))\n",
    "    return label_encoder.inverse_transform(predict_index)"
   ]
  },
  {
   "cell_type": "code",
   "execution_count": 148,
   "id": "oriental-wilson",
   "metadata": {
    "ExecuteTime": {
     "end_time": "2021-05-21T12:48:21.161440Z",
     "start_time": "2021-05-21T12:48:21.145440Z"
    }
   },
   "outputs": [],
   "source": [
    "predict_arr = predict(dtest)"
   ]
  },
  {
   "cell_type": "code",
   "execution_count": 149,
   "id": "included-memory",
   "metadata": {
    "ExecuteTime": {
     "end_time": "2021-05-21T12:48:21.643699Z",
     "start_time": "2021-05-21T12:48:21.632664Z"
    }
   },
   "outputs": [
    {
     "data": {
      "text/plain": [
       "1.0"
      ]
     },
     "execution_count": 149,
     "metadata": {},
     "output_type": "execute_result"
    }
   ],
   "source": [
    "from sklearn.metrics import accuracy_score, confusion_matrix\n",
    "accuracy_score(test_y, predict_arr)"
   ]
  },
  {
   "cell_type": "code",
   "execution_count": 151,
   "id": "intended-teach",
   "metadata": {
    "ExecuteTime": {
     "end_time": "2021-05-21T12:48:48.767545Z",
     "start_time": "2021-05-21T12:48:48.757545Z"
    }
   },
   "outputs": [],
   "source": [
    "# link https://xgboost.readthedocs.io/en/latest/parameter.html"
   ]
  },
  {
   "cell_type": "code",
   "execution_count": 152,
   "id": "wireless-classic",
   "metadata": {
    "ExecuteTime": {
     "end_time": "2021-05-21T12:50:29.350797Z",
     "start_time": "2021-05-21T12:50:29.315777Z"
    }
   },
   "outputs": [],
   "source": [
    "# Save Model\n",
    "bst.save_model('xgbboost_1.model')"
   ]
  },
  {
   "cell_type": "code",
   "execution_count": 156,
   "id": "assumed-medicaid",
   "metadata": {
    "ExecuteTime": {
     "end_time": "2021-05-21T12:51:38.123008Z",
     "start_time": "2021-05-21T12:51:38.110006Z"
    }
   },
   "outputs": [],
   "source": [
    "# Load Model\n",
    "bst = xgb.Booster({'nthread': 4})  # init model\n",
    "bst.load_model('xgbboost_1.model')  # load data"
   ]
  }
 ],
 "metadata": {
  "kernelspec": {
   "display_name": "Python 3",
   "language": "python",
   "name": "python3"
  },
  "language_info": {
   "codemirror_mode": {
    "name": "ipython",
    "version": 3
   },
   "file_extension": ".py",
   "mimetype": "text/x-python",
   "name": "python",
   "nbconvert_exporter": "python",
   "pygments_lexer": "ipython3",
   "version": "3.7.3"
  },
  "toc": {
   "base_numbering": 1,
   "nav_menu": {},
   "number_sections": true,
   "sideBar": true,
   "skip_h1_title": false,
   "title_cell": "Table of Contents",
   "title_sidebar": "Contents",
   "toc_cell": false,
   "toc_position": {},
   "toc_section_display": true,
   "toc_window_display": false
  }
 },
 "nbformat": 4,
 "nbformat_minor": 5
}
