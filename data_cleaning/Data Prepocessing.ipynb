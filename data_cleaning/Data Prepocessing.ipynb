{
 "cells": [
  {
   "cell_type": "code",
   "execution_count": 19,
   "id": "comprehensive-quantum",
   "metadata": {
    "ExecuteTime": {
     "end_time": "2021-05-21T12:05:08.142075Z",
     "start_time": "2021-05-21T12:05:08.138071Z"
    }
   },
   "outputs": [],
   "source": [
    "import pandas as pd\n",
    "import matplotlib.pyplot\n",
    "import lux\n",
    "import numpy as np\n",
    "from sklearn.preprocessing import LabelEncoder"
   ]
  },
  {
   "cell_type": "code",
   "execution_count": 2,
   "id": "virtual-shade",
   "metadata": {
    "ExecuteTime": {
     "end_time": "2021-05-21T12:01:55.760279Z",
     "start_time": "2021-05-21T12:01:54.590619Z"
    }
   },
   "outputs": [
    {
     "data": {
      "application/vnd.jupyter.widget-view+json": {
       "model_id": "dedc32d0d91947c59681eef020ee96bd",
       "version_major": 2,
       "version_minor": 0
      },
      "text/plain": [
       "Button(description='Toggle Pandas/Lux', layout=Layout(top='5px', width='140px'), style=ButtonStyle())"
      ]
     },
     "metadata": {},
     "output_type": "display_data"
    },
    {
     "data": {
      "application/vnd.jupyter.widget-view+json": {
       "model_id": "beb527ca36c14b97b4c7c561e44e7d3a",
       "version_major": 2,
       "version_minor": 0
      },
      "text/plain": [
       "Output()"
      ]
     },
     "metadata": {},
     "output_type": "display_data"
    },
    {
     "data": {
      "text/plain": []
     },
     "execution_count": 2,
     "metadata": {},
     "output_type": "execute_result"
    }
   ],
   "source": [
    "data = pd.read_csv(\"dataset.csv\")\n",
    "data = data.fillna(\"0\")\n",
    "data = data.sort_values(\"Disease\").reset_index()\n",
    "data"
   ]
  },
  {
   "cell_type": "code",
   "execution_count": 3,
   "id": "marked-finance",
   "metadata": {
    "ExecuteTime": {
     "end_time": "2021-05-21T12:02:04.217823Z",
     "start_time": "2021-05-21T12:02:03.616820Z"
    }
   },
   "outputs": [
    {
     "data": {
      "application/vnd.jupyter.widget-view+json": {
       "model_id": "041b0ae0bf1147f5bfc4cd005ec1ae1c",
       "version_major": 2,
       "version_minor": 0
      },
      "text/plain": [
       "Button(description='Toggle Pandas/Lux', layout=Layout(top='5px', width='140px'), style=ButtonStyle())"
      ]
     },
     "metadata": {},
     "output_type": "display_data"
    },
    {
     "data": {
      "application/vnd.jupyter.widget-view+json": {
       "model_id": "dc4d31ba6dc84f618ea370aed513c9b9",
       "version_major": 2,
       "version_minor": 0
      },
      "text/plain": [
       "Output()"
      ]
     },
     "metadata": {},
     "output_type": "display_data"
    },
    {
     "data": {
      "text/plain": []
     },
     "execution_count": 3,
     "metadata": {},
     "output_type": "execute_result"
    }
   ],
   "source": [
    "data.loc[data.Disease == \"hepatitis A\"]"
   ]
  },
  {
   "cell_type": "code",
   "execution_count": 4,
   "id": "received-spanish",
   "metadata": {
    "ExecuteTime": {
     "end_time": "2021-05-21T12:02:04.948443Z",
     "start_time": "2021-05-21T12:02:04.879408Z"
    }
   },
   "outputs": [
    {
     "name": "stdout",
     "output_type": "stream",
     "text": [
      "<class 'lux.core.frame.LuxDataFrame'>\n",
      "RangeIndex: 4920 entries, 0 to 4919\n",
      "Data columns (total 19 columns):\n",
      " #   Column      Non-Null Count  Dtype   \n",
      "---  ------      --------------  -----   \n",
      " 0   index       4920 non-null   int64   \n",
      " 1   Disease     4920 non-null   category\n",
      " 2   Symptom_1   4920 non-null   category\n",
      " 3   Symptom_2   4920 non-null   category\n",
      " 4   Symptom_3   4920 non-null   category\n",
      " 5   Symptom_4   4920 non-null   category\n",
      " 6   Symptom_5   4920 non-null   category\n",
      " 7   Symptom_6   4920 non-null   category\n",
      " 8   Symptom_7   4920 non-null   category\n",
      " 9   Symptom_8   4920 non-null   category\n",
      " 10  Symptom_9   4920 non-null   category\n",
      " 11  Symptom_10  4920 non-null   category\n",
      " 12  Symptom_11  4920 non-null   category\n",
      " 13  Symptom_12  4920 non-null   category\n",
      " 14  Symptom_13  4920 non-null   category\n",
      " 15  Symptom_14  4920 non-null   category\n",
      " 16  Symptom_15  4920 non-null   category\n",
      " 17  Symptom_16  4920 non-null   category\n",
      " 18  Symptom_17  4920 non-null   category\n",
      "dtypes: category(18), int64(1)\n",
      "memory usage: 142.3 KB\n"
     ]
    }
   ],
   "source": [
    "for x in data.columns:\n",
    "    if x != \"index\":\n",
    "        data[x] = data[x].astype(\"category\")\n",
    "data.info()"
   ]
  },
  {
   "cell_type": "code",
   "execution_count": 5,
   "id": "beautiful-prospect",
   "metadata": {
    "ExecuteTime": {
     "end_time": "2021-05-21T12:02:06.096717Z",
     "start_time": "2021-05-21T12:02:05.998690Z"
    }
   },
   "outputs": [
    {
     "data": {
      "application/vnd.jupyter.widget-view+json": {
       "model_id": "91b844a441d541a386ff06cbdb91fc0e",
       "version_major": 2,
       "version_minor": 0
      },
      "text/plain": [
       "Button(description='Toggle Pandas/Lux', layout=Layout(top='5px', width='140px'), style=ButtonStyle())"
      ]
     },
     "metadata": {},
     "output_type": "display_data"
    },
    {
     "data": {
      "application/vnd.jupyter.widget-view+json": {
       "model_id": "6d5bac3f8c784b6499d616ce1d58010c",
       "version_major": 2,
       "version_minor": 0
      },
      "text/plain": [
       "Output()"
      ]
     },
     "metadata": {},
     "output_type": "display_data"
    },
    {
     "data": {
      "text/plain": []
     },
     "execution_count": 5,
     "metadata": {},
     "output_type": "execute_result"
    }
   ],
   "source": [
    "data1 = pd.read_csv(\"symptom_severity.csv\")\n",
    "data1"
   ]
  },
  {
   "cell_type": "code",
   "execution_count": 6,
   "id": "personalized-interval",
   "metadata": {
    "ExecuteTime": {
     "end_time": "2021-05-21T12:02:06.827051Z",
     "start_time": "2021-05-21T12:02:06.777973Z"
    }
   },
   "outputs": [
    {
     "name": "stdout",
     "output_type": "stream",
     "text": [
      "<class 'lux.core.frame.LuxDataFrame'>\n",
      "RangeIndex: 41 entries, 0 to 40\n",
      "Data columns (total 5 columns):\n",
      " #   Column        Non-Null Count  Dtype \n",
      "---  ------        --------------  ----- \n",
      " 0   Disease       41 non-null     object\n",
      " 1   Precaution_1  41 non-null     object\n",
      " 2   Precaution_2  41 non-null     object\n",
      " 3   Precaution_3  40 non-null     object\n",
      " 4   Precaution_4  40 non-null     object\n",
      "dtypes: object(5)\n",
      "memory usage: 1.7+ KB\n"
     ]
    }
   ],
   "source": [
    "data2 = pd.read_csv(\"symptom_precaution.csv\")\n",
    "data2.info()"
   ]
  },
  {
   "cell_type": "code",
   "execution_count": 7,
   "id": "grateful-cisco",
   "metadata": {
    "ExecuteTime": {
     "end_time": "2021-05-21T12:02:07.836107Z",
     "start_time": "2021-05-21T12:02:07.779255Z"
    }
   },
   "outputs": [
    {
     "name": "stdout",
     "output_type": "stream",
     "text": [
      "<class 'lux.core.frame.LuxDataFrame'>\n",
      "RangeIndex: 41 entries, 0 to 40\n",
      "Data columns (total 2 columns):\n",
      " #   Column       Non-Null Count  Dtype \n",
      "---  ------       --------------  ----- \n",
      " 0   Disease      41 non-null     object\n",
      " 1   Description  41 non-null     object\n",
      "dtypes: object(2)\n",
      "memory usage: 784.0+ bytes\n"
     ]
    }
   ],
   "source": [
    "data3 = pd.read_csv(\"symptom_Description.csv\")\n",
    "data3.info()"
   ]
  },
  {
   "cell_type": "code",
   "execution_count": 8,
   "id": "hollow-picture",
   "metadata": {
    "ExecuteTime": {
     "end_time": "2021-05-21T12:02:08.690822Z",
     "start_time": "2021-05-21T12:02:08.664822Z"
    }
   },
   "outputs": [
    {
     "name": "stdout",
     "output_type": "stream",
     "text": [
      "<class 'lux.core.frame.LuxDataFrame'>\n",
      "RangeIndex: 41 entries, 0 to 40\n",
      "Data columns (total 6 columns):\n",
      " #   Column        Non-Null Count  Dtype \n",
      "---  ------        --------------  ----- \n",
      " 0   Disease       41 non-null     object\n",
      " 1   Precaution_1  41 non-null     object\n",
      " 2   Precaution_2  41 non-null     object\n",
      " 3   Precaution_3  40 non-null     object\n",
      " 4   Precaution_4  40 non-null     object\n",
      " 5   Description   41 non-null     object\n",
      "dtypes: object(6)\n",
      "memory usage: 2.0+ KB\n"
     ]
    }
   ],
   "source": [
    "data_p_fix = pd.concat([ data2, data3[\"Description\"]], axis=1)\n",
    "data_p_fix.info()"
   ]
  },
  {
   "cell_type": "code",
   "execution_count": 9,
   "id": "mysterious-hurricane",
   "metadata": {
    "ExecuteTime": {
     "end_time": "2021-05-21T12:02:10.010832Z",
     "start_time": "2021-05-21T12:02:09.977831Z"
    },
    "scrolled": true
   },
   "outputs": [
    {
     "data": {
      "text/html": [
       "<div>\n",
       "<style scoped>\n",
       "    .dataframe tbody tr th:only-of-type {\n",
       "        vertical-align: middle;\n",
       "    }\n",
       "\n",
       "    .dataframe tbody tr th {\n",
       "        vertical-align: top;\n",
       "    }\n",
       "\n",
       "    .dataframe thead th {\n",
       "        text-align: right;\n",
       "    }\n",
       "</style>\n",
       "<table border=\"1\" class=\"dataframe\">\n",
       "  <thead>\n",
       "    <tr style=\"text-align: right;\">\n",
       "      <th></th>\n",
       "      <th>Disease</th>\n",
       "      <th>Precaution_1</th>\n",
       "      <th>Precaution_2</th>\n",
       "      <th>Precaution_3</th>\n",
       "      <th>Precaution_4</th>\n",
       "      <th>Description</th>\n",
       "    </tr>\n",
       "  </thead>\n",
       "  <tbody>\n",
       "    <tr>\n",
       "      <th>0</th>\n",
       "      <td>Drug Reaction</td>\n",
       "      <td>stop irritation</td>\n",
       "      <td>consult nearest hospital</td>\n",
       "      <td>stop taking drug</td>\n",
       "      <td>follow up</td>\n",
       "      <td>An adverse drug reaction (ADR) is an injury ca...</td>\n",
       "    </tr>\n",
       "    <tr>\n",
       "      <th>1</th>\n",
       "      <td>Malaria</td>\n",
       "      <td>Consult nearest hospital</td>\n",
       "      <td>avoid oily food</td>\n",
       "      <td>avoid non veg food</td>\n",
       "      <td>keep mosquitos out</td>\n",
       "      <td>An infectious disease caused by protozoan para...</td>\n",
       "    </tr>\n",
       "    <tr>\n",
       "      <th>2</th>\n",
       "      <td>Allergy</td>\n",
       "      <td>apply calamine</td>\n",
       "      <td>cover area with bandage</td>\n",
       "      <td>0</td>\n",
       "      <td>use ice to compress itching</td>\n",
       "      <td>An allergy is an immune system response to a f...</td>\n",
       "    </tr>\n",
       "    <tr>\n",
       "      <th>3</th>\n",
       "      <td>Hypothyroidism</td>\n",
       "      <td>reduce stress</td>\n",
       "      <td>exercise</td>\n",
       "      <td>eat healthy</td>\n",
       "      <td>get proper sleep</td>\n",
       "      <td>Hypothyroidism, also called underactive thyroi...</td>\n",
       "    </tr>\n",
       "    <tr>\n",
       "      <th>4</th>\n",
       "      <td>Psoriasis</td>\n",
       "      <td>wash hands with warm soapy water</td>\n",
       "      <td>stop bleeding using pressure</td>\n",
       "      <td>consult doctor</td>\n",
       "      <td>salt baths</td>\n",
       "      <td>Psoriasis is a common skin disorder that forms...</td>\n",
       "    </tr>\n",
       "    <tr>\n",
       "      <th>5</th>\n",
       "      <td>GERD</td>\n",
       "      <td>avoid fatty spicy food</td>\n",
       "      <td>avoid lying down after eating</td>\n",
       "      <td>maintain healthy weight</td>\n",
       "      <td>exercise</td>\n",
       "      <td>Gastroesophageal reflux disease, or GERD, is a...</td>\n",
       "    </tr>\n",
       "    <tr>\n",
       "      <th>6</th>\n",
       "      <td>Chronic cholestasis</td>\n",
       "      <td>cold baths</td>\n",
       "      <td>anti itch medicine</td>\n",
       "      <td>consult doctor</td>\n",
       "      <td>eat healthy</td>\n",
       "      <td>Chronic cholestatic diseases, whether occurrin...</td>\n",
       "    </tr>\n",
       "    <tr>\n",
       "      <th>7</th>\n",
       "      <td>hepatitis A</td>\n",
       "      <td>Consult nearest hospital</td>\n",
       "      <td>wash hands through</td>\n",
       "      <td>avoid fatty spicy food</td>\n",
       "      <td>medication</td>\n",
       "      <td>Hepatitis A is a highly contagious liver infec...</td>\n",
       "    </tr>\n",
       "    <tr>\n",
       "      <th>8</th>\n",
       "      <td>Osteoarthristis</td>\n",
       "      <td>acetaminophen</td>\n",
       "      <td>consult nearest hospital</td>\n",
       "      <td>follow up</td>\n",
       "      <td>salt baths</td>\n",
       "      <td>Osteoarthritis is the most common form of arth...</td>\n",
       "    </tr>\n",
       "    <tr>\n",
       "      <th>9</th>\n",
       "      <td>(vertigo) Paroymsal  Positional Vertigo</td>\n",
       "      <td>lie down</td>\n",
       "      <td>avoid sudden change in body</td>\n",
       "      <td>avoid abrupt head movment</td>\n",
       "      <td>relax</td>\n",
       "      <td>Benign paroxysmal positional vertigo (BPPV) is...</td>\n",
       "    </tr>\n",
       "    <tr>\n",
       "      <th>10</th>\n",
       "      <td>Hypoglycemia</td>\n",
       "      <td>lie down on side</td>\n",
       "      <td>check in pulse</td>\n",
       "      <td>drink sugary drinks</td>\n",
       "      <td>consult doctor</td>\n",
       "      <td>Hypoglycemia is a condition in which your blo...</td>\n",
       "    </tr>\n",
       "    <tr>\n",
       "      <th>11</th>\n",
       "      <td>Acne</td>\n",
       "      <td>bath twice</td>\n",
       "      <td>avoid fatty spicy food</td>\n",
       "      <td>drink plenty of water</td>\n",
       "      <td>avoid too many products</td>\n",
       "      <td>Acne vulgaris is the formation of comedones, p...</td>\n",
       "    </tr>\n",
       "    <tr>\n",
       "      <th>12</th>\n",
       "      <td>Diabetes</td>\n",
       "      <td>have balanced diet</td>\n",
       "      <td>exercise</td>\n",
       "      <td>consult doctor</td>\n",
       "      <td>follow up</td>\n",
       "      <td>Diabetes is a disease that occurs when your bl...</td>\n",
       "    </tr>\n",
       "    <tr>\n",
       "      <th>13</th>\n",
       "      <td>Impetigo</td>\n",
       "      <td>soak affected area in warm water</td>\n",
       "      <td>use antibiotics</td>\n",
       "      <td>remove scabs with wet compressed cloth</td>\n",
       "      <td>consult doctor</td>\n",
       "      <td>Impetigo (im-puh-TIE-go) is a common and highl...</td>\n",
       "    </tr>\n",
       "    <tr>\n",
       "      <th>14</th>\n",
       "      <td>Hypertension</td>\n",
       "      <td>meditation</td>\n",
       "      <td>salt baths</td>\n",
       "      <td>reduce stress</td>\n",
       "      <td>get proper sleep</td>\n",
       "      <td>Hypertension (HTN or HT), also known as high b...</td>\n",
       "    </tr>\n",
       "    <tr>\n",
       "      <th>15</th>\n",
       "      <td>Peptic ulcer diseae</td>\n",
       "      <td>avoid fatty spicy food</td>\n",
       "      <td>consume probiotic food</td>\n",
       "      <td>eliminate milk</td>\n",
       "      <td>limit alcohol</td>\n",
       "      <td>Peptic ulcer disease (PUD) is a break in the i...</td>\n",
       "    </tr>\n",
       "    <tr>\n",
       "      <th>16</th>\n",
       "      <td>Dimorphic hemmorhoids(piles)</td>\n",
       "      <td>avoid fatty spicy food</td>\n",
       "      <td>consume witch hazel</td>\n",
       "      <td>warm bath with epsom salt</td>\n",
       "      <td>consume alovera juice</td>\n",
       "      <td>Hemorrhoids, also spelled haemorrhoids, are va...</td>\n",
       "    </tr>\n",
       "    <tr>\n",
       "      <th>17</th>\n",
       "      <td>Common Cold</td>\n",
       "      <td>drink vitamin c rich drinks</td>\n",
       "      <td>take vapour</td>\n",
       "      <td>avoid cold food</td>\n",
       "      <td>keep fever in check</td>\n",
       "      <td>The common cold is a viral infection of your n...</td>\n",
       "    </tr>\n",
       "    <tr>\n",
       "      <th>18</th>\n",
       "      <td>Chicken pox</td>\n",
       "      <td>use neem in bathing</td>\n",
       "      <td>consume neem leaves</td>\n",
       "      <td>take vaccine</td>\n",
       "      <td>avoid public places</td>\n",
       "      <td>Chickenpox is a highly contagious disease caus...</td>\n",
       "    </tr>\n",
       "    <tr>\n",
       "      <th>19</th>\n",
       "      <td>Cervical spondylosis</td>\n",
       "      <td>use heating pad or cold pack</td>\n",
       "      <td>exercise</td>\n",
       "      <td>take otc pain reliver</td>\n",
       "      <td>consult doctor</td>\n",
       "      <td>Cervical spondylosis is a general term for age...</td>\n",
       "    </tr>\n",
       "    <tr>\n",
       "      <th>20</th>\n",
       "      <td>Hyperthyroidism</td>\n",
       "      <td>eat healthy</td>\n",
       "      <td>massage</td>\n",
       "      <td>use lemon balm</td>\n",
       "      <td>take radioactive iodine treatment</td>\n",
       "      <td>Hyperthyroidism (overactive thyroid) occurs wh...</td>\n",
       "    </tr>\n",
       "    <tr>\n",
       "      <th>21</th>\n",
       "      <td>Urinary tract infection</td>\n",
       "      <td>drink plenty of water</td>\n",
       "      <td>increase vitamin c intake</td>\n",
       "      <td>drink cranberry juice</td>\n",
       "      <td>take probiotics</td>\n",
       "      <td>Urinary tract infection: An infection of the k...</td>\n",
       "    </tr>\n",
       "    <tr>\n",
       "      <th>22</th>\n",
       "      <td>Varicose veins</td>\n",
       "      <td>lie down flat and raise the leg high</td>\n",
       "      <td>use oinments</td>\n",
       "      <td>use vein compression</td>\n",
       "      <td>dont stand still for long</td>\n",
       "      <td>A vein that has enlarged and twisted, often ap...</td>\n",
       "    </tr>\n",
       "    <tr>\n",
       "      <th>23</th>\n",
       "      <td>AIDS</td>\n",
       "      <td>avoid open cuts</td>\n",
       "      <td>wear ppe if possible</td>\n",
       "      <td>consult doctor</td>\n",
       "      <td>follow up</td>\n",
       "      <td>Acquired immunodeficiency syndrome (AIDS) is a...</td>\n",
       "    </tr>\n",
       "    <tr>\n",
       "      <th>24</th>\n",
       "      <td>Paralysis (brain hemorrhage)</td>\n",
       "      <td>massage</td>\n",
       "      <td>eat healthy</td>\n",
       "      <td>exercise</td>\n",
       "      <td>consult doctor</td>\n",
       "      <td>Intracerebral hemorrhage (ICH) is when blood s...</td>\n",
       "    </tr>\n",
       "    <tr>\n",
       "      <th>25</th>\n",
       "      <td>Typhoid</td>\n",
       "      <td>eat high calorie vegitables</td>\n",
       "      <td>antiboitic therapy</td>\n",
       "      <td>consult doctor</td>\n",
       "      <td>medication</td>\n",
       "      <td>An acute illness characterized by fever caused...</td>\n",
       "    </tr>\n",
       "    <tr>\n",
       "      <th>26</th>\n",
       "      <td>Hepatitis B</td>\n",
       "      <td>consult nearest hospital</td>\n",
       "      <td>vaccination</td>\n",
       "      <td>eat healthy</td>\n",
       "      <td>medication</td>\n",
       "      <td>Hepatitis B is an infection of your liver. It ...</td>\n",
       "    </tr>\n",
       "    <tr>\n",
       "      <th>27</th>\n",
       "      <td>Fungal infection</td>\n",
       "      <td>bath twice</td>\n",
       "      <td>use detol or neem in bathing water</td>\n",
       "      <td>keep infected area dry</td>\n",
       "      <td>use clean cloths</td>\n",
       "      <td>In humans, fungal infections occur when an inv...</td>\n",
       "    </tr>\n",
       "    <tr>\n",
       "      <th>28</th>\n",
       "      <td>Hepatitis C</td>\n",
       "      <td>Consult nearest hospital</td>\n",
       "      <td>vaccination</td>\n",
       "      <td>eat healthy</td>\n",
       "      <td>medication</td>\n",
       "      <td>Inflammation of the liver due to the hepatitis...</td>\n",
       "    </tr>\n",
       "    <tr>\n",
       "      <th>29</th>\n",
       "      <td>Migraine</td>\n",
       "      <td>meditation</td>\n",
       "      <td>reduce stress</td>\n",
       "      <td>use poloroid glasses in sun</td>\n",
       "      <td>consult doctor</td>\n",
       "      <td>A migraine can cause severe throbbing pain or ...</td>\n",
       "    </tr>\n",
       "    <tr>\n",
       "      <th>30</th>\n",
       "      <td>Bronchial Asthma</td>\n",
       "      <td>switch to loose cloothing</td>\n",
       "      <td>take deep breaths</td>\n",
       "      <td>get away from trigger</td>\n",
       "      <td>seek help</td>\n",
       "      <td>Bronchial asthma is a medical condition which ...</td>\n",
       "    </tr>\n",
       "    <tr>\n",
       "      <th>31</th>\n",
       "      <td>Alcoholic hepatitis</td>\n",
       "      <td>stop alcohol consumption</td>\n",
       "      <td>consult doctor</td>\n",
       "      <td>medication</td>\n",
       "      <td>follow up</td>\n",
       "      <td>Alcoholic hepatitis is a diseased, inflammator...</td>\n",
       "    </tr>\n",
       "    <tr>\n",
       "      <th>32</th>\n",
       "      <td>Jaundice</td>\n",
       "      <td>drink plenty of water</td>\n",
       "      <td>consume milk thistle</td>\n",
       "      <td>eat fruits and high fiberous food</td>\n",
       "      <td>medication</td>\n",
       "      <td>Yellow staining of the skin and sclerae (the w...</td>\n",
       "    </tr>\n",
       "    <tr>\n",
       "      <th>33</th>\n",
       "      <td>Hepatitis E</td>\n",
       "      <td>stop alcohol consumption</td>\n",
       "      <td>rest</td>\n",
       "      <td>consult doctor</td>\n",
       "      <td>medication</td>\n",
       "      <td>A rare form of liver inflammation caused by in...</td>\n",
       "    </tr>\n",
       "    <tr>\n",
       "      <th>34</th>\n",
       "      <td>Dengue</td>\n",
       "      <td>drink papaya leaf juice</td>\n",
       "      <td>avoid fatty spicy food</td>\n",
       "      <td>keep mosquitos away</td>\n",
       "      <td>keep hydrated</td>\n",
       "      <td>an acute infectious disease caused by a flaviv...</td>\n",
       "    </tr>\n",
       "    <tr>\n",
       "      <th>35</th>\n",
       "      <td>Hepatitis D</td>\n",
       "      <td>consult doctor</td>\n",
       "      <td>medication</td>\n",
       "      <td>eat healthy</td>\n",
       "      <td>follow up</td>\n",
       "      <td>Hepatitis D, also known as the hepatitis delta...</td>\n",
       "    </tr>\n",
       "    <tr>\n",
       "      <th>36</th>\n",
       "      <td>Heart attack</td>\n",
       "      <td>call ambulance</td>\n",
       "      <td>chew or swallow asprin</td>\n",
       "      <td>keep calm</td>\n",
       "      <td>0</td>\n",
       "      <td>The death of heart muscle due to the loss of b...</td>\n",
       "    </tr>\n",
       "    <tr>\n",
       "      <th>37</th>\n",
       "      <td>Pneumonia</td>\n",
       "      <td>consult doctor</td>\n",
       "      <td>medication</td>\n",
       "      <td>rest</td>\n",
       "      <td>follow up</td>\n",
       "      <td>Pneumonia is an infection in one or both lungs...</td>\n",
       "    </tr>\n",
       "    <tr>\n",
       "      <th>38</th>\n",
       "      <td>Arthritis</td>\n",
       "      <td>exercise</td>\n",
       "      <td>use hot and cold therapy</td>\n",
       "      <td>try acupuncture</td>\n",
       "      <td>massage</td>\n",
       "      <td>Arthritis is the swelling and tenderness of on...</td>\n",
       "    </tr>\n",
       "    <tr>\n",
       "      <th>39</th>\n",
       "      <td>Gastroenteritis</td>\n",
       "      <td>stop eating solid food for while</td>\n",
       "      <td>try taking small sips of water</td>\n",
       "      <td>rest</td>\n",
       "      <td>ease back into eating</td>\n",
       "      <td>Gastroenteritis is an inflammation of the dige...</td>\n",
       "    </tr>\n",
       "    <tr>\n",
       "      <th>40</th>\n",
       "      <td>Tuberculosis</td>\n",
       "      <td>cover mouth</td>\n",
       "      <td>consult doctor</td>\n",
       "      <td>medication</td>\n",
       "      <td>rest</td>\n",
       "      <td>Tuberculosis (TB) is an infectious disease usu...</td>\n",
       "    </tr>\n",
       "  </tbody>\n",
       "</table>\n",
       "</div>"
      ],
      "text/plain": [
       "                                    Disease  \\\n",
       "0                             Drug Reaction   \n",
       "1                                   Malaria   \n",
       "2                                   Allergy   \n",
       "3                            Hypothyroidism   \n",
       "4                                 Psoriasis   \n",
       "5                                      GERD   \n",
       "6                       Chronic cholestasis   \n",
       "7                               hepatitis A   \n",
       "8                           Osteoarthristis   \n",
       "9   (vertigo) Paroymsal  Positional Vertigo   \n",
       "10                             Hypoglycemia   \n",
       "11                                     Acne   \n",
       "12                                Diabetes    \n",
       "13                                 Impetigo   \n",
       "14                            Hypertension    \n",
       "15                      Peptic ulcer diseae   \n",
       "16             Dimorphic hemmorhoids(piles)   \n",
       "17                              Common Cold   \n",
       "18                              Chicken pox   \n",
       "19                     Cervical spondylosis   \n",
       "20                          Hyperthyroidism   \n",
       "21                  Urinary tract infection   \n",
       "22                           Varicose veins   \n",
       "23                                     AIDS   \n",
       "24             Paralysis (brain hemorrhage)   \n",
       "25                                  Typhoid   \n",
       "26                              Hepatitis B   \n",
       "27                         Fungal infection   \n",
       "28                              Hepatitis C   \n",
       "29                                 Migraine   \n",
       "30                         Bronchial Asthma   \n",
       "31                      Alcoholic hepatitis   \n",
       "32                                 Jaundice   \n",
       "33                              Hepatitis E   \n",
       "34                                   Dengue   \n",
       "35                              Hepatitis D   \n",
       "36                             Heart attack   \n",
       "37                                Pneumonia   \n",
       "38                                Arthritis   \n",
       "39                          Gastroenteritis   \n",
       "40                             Tuberculosis   \n",
       "\n",
       "                            Precaution_1                        Precaution_2  \\\n",
       "0                        stop irritation            consult nearest hospital   \n",
       "1               Consult nearest hospital                     avoid oily food   \n",
       "2                         apply calamine             cover area with bandage   \n",
       "3                          reduce stress                            exercise   \n",
       "4       wash hands with warm soapy water        stop bleeding using pressure   \n",
       "5                 avoid fatty spicy food       avoid lying down after eating   \n",
       "6                             cold baths                  anti itch medicine   \n",
       "7               Consult nearest hospital                  wash hands through   \n",
       "8                          acetaminophen            consult nearest hospital   \n",
       "9                               lie down         avoid sudden change in body   \n",
       "10                      lie down on side                      check in pulse   \n",
       "11                            bath twice              avoid fatty spicy food   \n",
       "12                    have balanced diet                            exercise   \n",
       "13      soak affected area in warm water                     use antibiotics   \n",
       "14                            meditation                          salt baths   \n",
       "15                avoid fatty spicy food              consume probiotic food   \n",
       "16                avoid fatty spicy food                 consume witch hazel   \n",
       "17           drink vitamin c rich drinks                         take vapour   \n",
       "18                  use neem in bathing                  consume neem leaves   \n",
       "19          use heating pad or cold pack                            exercise   \n",
       "20                           eat healthy                             massage   \n",
       "21                 drink plenty of water           increase vitamin c intake   \n",
       "22  lie down flat and raise the leg high                        use oinments   \n",
       "23                       avoid open cuts                wear ppe if possible   \n",
       "24                               massage                         eat healthy   \n",
       "25           eat high calorie vegitables                  antiboitic therapy   \n",
       "26              consult nearest hospital                         vaccination   \n",
       "27                            bath twice  use detol or neem in bathing water   \n",
       "28              Consult nearest hospital                         vaccination   \n",
       "29                            meditation                       reduce stress   \n",
       "30             switch to loose cloothing                   take deep breaths   \n",
       "31              stop alcohol consumption                      consult doctor   \n",
       "32                 drink plenty of water                consume milk thistle   \n",
       "33              stop alcohol consumption                                rest   \n",
       "34               drink papaya leaf juice              avoid fatty spicy food   \n",
       "35                        consult doctor                          medication   \n",
       "36                        call ambulance              chew or swallow asprin   \n",
       "37                        consult doctor                          medication   \n",
       "38                              exercise            use hot and cold therapy   \n",
       "39      stop eating solid food for while      try taking small sips of water   \n",
       "40                           cover mouth                      consult doctor   \n",
       "\n",
       "                              Precaution_3                       Precaution_4  \\\n",
       "0                         stop taking drug                          follow up   \n",
       "1                       avoid non veg food                 keep mosquitos out   \n",
       "2                                        0        use ice to compress itching   \n",
       "3                              eat healthy                   get proper sleep   \n",
       "4                           consult doctor                         salt baths   \n",
       "5                  maintain healthy weight                           exercise   \n",
       "6                           consult doctor                        eat healthy   \n",
       "7                   avoid fatty spicy food                         medication   \n",
       "8                                follow up                         salt baths   \n",
       "9                avoid abrupt head movment                              relax   \n",
       "10                     drink sugary drinks                     consult doctor   \n",
       "11                   drink plenty of water            avoid too many products   \n",
       "12                          consult doctor                          follow up   \n",
       "13  remove scabs with wet compressed cloth                     consult doctor   \n",
       "14                           reduce stress                   get proper sleep   \n",
       "15                          eliminate milk                      limit alcohol   \n",
       "16               warm bath with epsom salt              consume alovera juice   \n",
       "17                         avoid cold food                keep fever in check   \n",
       "18                            take vaccine                avoid public places   \n",
       "19                   take otc pain reliver                     consult doctor   \n",
       "20                          use lemon balm  take radioactive iodine treatment   \n",
       "21                   drink cranberry juice                    take probiotics   \n",
       "22                    use vein compression          dont stand still for long   \n",
       "23                          consult doctor                          follow up   \n",
       "24                                exercise                     consult doctor   \n",
       "25                          consult doctor                         medication   \n",
       "26                             eat healthy                         medication   \n",
       "27                  keep infected area dry                   use clean cloths   \n",
       "28                             eat healthy                         medication   \n",
       "29             use poloroid glasses in sun                     consult doctor   \n",
       "30                   get away from trigger                          seek help   \n",
       "31                              medication                          follow up   \n",
       "32       eat fruits and high fiberous food                         medication   \n",
       "33                          consult doctor                         medication   \n",
       "34                     keep mosquitos away                      keep hydrated   \n",
       "35                             eat healthy                          follow up   \n",
       "36                               keep calm                                  0   \n",
       "37                                    rest                          follow up   \n",
       "38                         try acupuncture                            massage   \n",
       "39                                    rest              ease back into eating   \n",
       "40                              medication                               rest   \n",
       "\n",
       "                                          Description  \n",
       "0   An adverse drug reaction (ADR) is an injury ca...  \n",
       "1   An infectious disease caused by protozoan para...  \n",
       "2   An allergy is an immune system response to a f...  \n",
       "3   Hypothyroidism, also called underactive thyroi...  \n",
       "4   Psoriasis is a common skin disorder that forms...  \n",
       "5   Gastroesophageal reflux disease, or GERD, is a...  \n",
       "6   Chronic cholestatic diseases, whether occurrin...  \n",
       "7   Hepatitis A is a highly contagious liver infec...  \n",
       "8   Osteoarthritis is the most common form of arth...  \n",
       "9   Benign paroxysmal positional vertigo (BPPV) is...  \n",
       "10   Hypoglycemia is a condition in which your blo...  \n",
       "11  Acne vulgaris is the formation of comedones, p...  \n",
       "12  Diabetes is a disease that occurs when your bl...  \n",
       "13  Impetigo (im-puh-TIE-go) is a common and highl...  \n",
       "14  Hypertension (HTN or HT), also known as high b...  \n",
       "15  Peptic ulcer disease (PUD) is a break in the i...  \n",
       "16  Hemorrhoids, also spelled haemorrhoids, are va...  \n",
       "17  The common cold is a viral infection of your n...  \n",
       "18  Chickenpox is a highly contagious disease caus...  \n",
       "19  Cervical spondylosis is a general term for age...  \n",
       "20  Hyperthyroidism (overactive thyroid) occurs wh...  \n",
       "21  Urinary tract infection: An infection of the k...  \n",
       "22  A vein that has enlarged and twisted, often ap...  \n",
       "23  Acquired immunodeficiency syndrome (AIDS) is a...  \n",
       "24  Intracerebral hemorrhage (ICH) is when blood s...  \n",
       "25  An acute illness characterized by fever caused...  \n",
       "26  Hepatitis B is an infection of your liver. It ...  \n",
       "27  In humans, fungal infections occur when an inv...  \n",
       "28  Inflammation of the liver due to the hepatitis...  \n",
       "29  A migraine can cause severe throbbing pain or ...  \n",
       "30  Bronchial asthma is a medical condition which ...  \n",
       "31  Alcoholic hepatitis is a diseased, inflammator...  \n",
       "32  Yellow staining of the skin and sclerae (the w...  \n",
       "33  A rare form of liver inflammation caused by in...  \n",
       "34  an acute infectious disease caused by a flaviv...  \n",
       "35  Hepatitis D, also known as the hepatitis delta...  \n",
       "36  The death of heart muscle due to the loss of b...  \n",
       "37  Pneumonia is an infection in one or both lungs...  \n",
       "38  Arthritis is the swelling and tenderness of on...  \n",
       "39  Gastroenteritis is an inflammation of the dige...  \n",
       "40  Tuberculosis (TB) is an infectious disease usu...  "
      ]
     },
     "metadata": {},
     "output_type": "display_data"
    },
    {
     "data": {
      "text/plain": []
     },
     "execution_count": 9,
     "metadata": {},
     "output_type": "execute_result"
    }
   ],
   "source": [
    "data_p = data_p_fix.fillna(\"0\")\n",
    "data_p"
   ]
  },
  {
   "cell_type": "code",
   "execution_count": 10,
   "id": "exciting-smooth",
   "metadata": {
    "ExecuteTime": {
     "end_time": "2021-05-21T12:02:11.365141Z",
     "start_time": "2021-05-21T12:02:11.350144Z"
    }
   },
   "outputs": [
    {
     "data": {
      "text/plain": [
       "984"
      ]
     },
     "execution_count": 10,
     "metadata": {},
     "output_type": "execute_result"
    }
   ],
   "source": [
    "list_train_split = []\n",
    "int_x = 120-24\n",
    "for x in range(0, 41):\n",
    "    for y in range(int_x, int_x+24):\n",
    "        list_train_split.append(y)\n",
    "    int_x = int_x+120\n",
    "len(list_train_split)"
   ]
  },
  {
   "cell_type": "code",
   "execution_count": 11,
   "id": "assigned-plane",
   "metadata": {
    "ExecuteTime": {
     "end_time": "2021-05-21T12:03:17.669036Z",
     "start_time": "2021-05-21T12:03:09.489814Z"
    }
   },
   "outputs": [
    {
     "data": {
      "application/vnd.jupyter.widget-view+json": {
       "model_id": "1d3001546422416c83d0b2d7bc7d542b",
       "version_major": 2,
       "version_minor": 0
      },
      "text/plain": [
       "Button(description='Toggle Pandas/Lux', layout=Layout(top='5px', width='140px'), style=ButtonStyle())"
      ]
     },
     "metadata": {},
     "output_type": "display_data"
    },
    {
     "data": {
      "application/vnd.jupyter.widget-view+json": {
       "model_id": "9ed08a7d3e424838a872efc8c6084e3b",
       "version_major": 2,
       "version_minor": 0
      },
      "text/plain": [
       "Output()"
      ]
     },
     "metadata": {},
     "output_type": "display_data"
    },
    {
     "data": {
      "text/plain": []
     },
     "execution_count": 11,
     "metadata": {},
     "output_type": "execute_result"
    }
   ],
   "source": [
    "from sklearn.preprocessing import OneHotEncoder\n",
    "categorical_cols = []\n",
    "for x in data.columns:\n",
    "    if x != \"index\" and x!= \"Disease\":\n",
    "        categorical_cols.append(x)\n",
    "\n",
    "data = pd.get_dummies(data, columns = categorical_cols)\n",
    "data"
   ]
  },
  {
   "cell_type": "code",
   "execution_count": 12,
   "id": "south-rocket",
   "metadata": {
    "ExecuteTime": {
     "end_time": "2021-05-21T12:03:53.023802Z",
     "start_time": "2021-05-21T12:03:52.994788Z"
    }
   },
   "outputs": [],
   "source": [
    "test = data.iloc[list_train_split]\n",
    "train = data.drop(list_train_split)"
   ]
  },
  {
   "cell_type": "code",
   "execution_count": 13,
   "id": "theoretical-issue",
   "metadata": {
    "ExecuteTime": {
     "end_time": "2021-05-21T12:04:00.923404Z",
     "start_time": "2021-05-21T12:03:53.696405Z"
    }
   },
   "outputs": [
    {
     "data": {
      "application/vnd.jupyter.widget-view+json": {
       "model_id": "2248d58246fa4f4381cf2d0289d63324",
       "version_major": 2,
       "version_minor": 0
      },
      "text/plain": [
       "Button(description='Toggle Pandas/Lux', layout=Layout(top='5px', width='140px'), style=ButtonStyle())"
      ]
     },
     "metadata": {},
     "output_type": "display_data"
    },
    {
     "data": {
      "application/vnd.jupyter.widget-view+json": {
       "model_id": "55c98cb93a6b4d3bbf36e2571912e22b",
       "version_major": 2,
       "version_minor": 0
      },
      "text/plain": [
       "Output()"
      ]
     },
     "metadata": {},
     "output_type": "display_data"
    },
    {
     "data": {
      "text/plain": []
     },
     "execution_count": 13,
     "metadata": {},
     "output_type": "execute_result"
    }
   ],
   "source": [
    "test"
   ]
  },
  {
   "cell_type": "code",
   "execution_count": 14,
   "id": "tired-interstate",
   "metadata": {
    "ExecuteTime": {
     "end_time": "2021-05-21T12:04:08.373409Z",
     "start_time": "2021-05-21T12:04:00.925406Z"
    }
   },
   "outputs": [
    {
     "data": {
      "application/vnd.jupyter.widget-view+json": {
       "model_id": "95612e8f2bab470fba0d0ebae7ad61b0",
       "version_major": 2,
       "version_minor": 0
      },
      "text/plain": [
       "Button(description='Toggle Pandas/Lux', layout=Layout(top='5px', width='140px'), style=ButtonStyle())"
      ]
     },
     "metadata": {},
     "output_type": "display_data"
    },
    {
     "data": {
      "application/vnd.jupyter.widget-view+json": {
       "model_id": "a1b625e2e06d42d5b93a77b144678d92",
       "version_major": 2,
       "version_minor": 0
      },
      "text/plain": [
       "Output()"
      ]
     },
     "metadata": {},
     "output_type": "display_data"
    },
    {
     "data": {
      "text/plain": []
     },
     "execution_count": 14,
     "metadata": {},
     "output_type": "execute_result"
    }
   ],
   "source": [
    "train"
   ]
  },
  {
   "cell_type": "code",
   "execution_count": 15,
   "id": "republican-chester",
   "metadata": {
    "ExecuteTime": {
     "end_time": "2021-05-21T12:04:08.421405Z",
     "start_time": "2021-05-21T12:04:08.375410Z"
    }
   },
   "outputs": [
    {
     "name": "stdout",
     "output_type": "stream",
     "text": [
      "<class 'lux.core.frame.LuxDataFrame'>\n",
      "Int64Index: 3936 entries, 0 to 4895\n",
      "Columns: 410 entries, index to Symptom_17_0\n",
      "dtypes: category(1), int64(1), uint8(408)\n",
      "memory usage: 1.6 MB\n"
     ]
    }
   ],
   "source": [
    "train.info()"
   ]
  },
  {
   "cell_type": "code",
   "execution_count": 16,
   "id": "detected-aaron",
   "metadata": {
    "ExecuteTime": {
     "end_time": "2021-05-21T12:04:26.449397Z",
     "start_time": "2021-05-21T12:04:26.433370Z"
    }
   },
   "outputs": [],
   "source": [
    "# Split train and test\n",
    "train_x = train.drop([\"index\", \"Disease\"], axis=1)\n",
    "train_y = train[\"Disease\"].values\n",
    "\n",
    "test_x = test.drop([\"index\", \"Disease\"], axis=1)\n",
    "test_y = test[\"Disease\"].values"
   ]
  },
  {
   "cell_type": "code",
   "execution_count": 17,
   "id": "invalid-delight",
   "metadata": {
    "ExecuteTime": {
     "end_time": "2021-05-21T12:04:27.536335Z",
     "start_time": "2021-05-21T12:04:27.524323Z"
    }
   },
   "outputs": [
    {
     "name": "stdout",
     "output_type": "stream",
     "text": [
      "3936\n",
      "984\n"
     ]
    }
   ],
   "source": [
    "print (len(train_x))\n",
    "print (len(test_x))"
   ]
  },
  {
   "cell_type": "code",
   "execution_count": 18,
   "id": "modular-textbook",
   "metadata": {
    "ExecuteTime": {
     "end_time": "2021-05-21T12:04:29.640555Z",
     "start_time": "2021-05-21T12:04:29.141206Z"
    }
   },
   "outputs": [],
   "source": [
    "# Save into csv \n",
    "train.to_csv(\"train_data.csv\", index=False)\n",
    "test.to_csv(\"test_data.csv\", index=False)\n",
    "data_p.to_csv(\"data_disease_precautions.csv\", index=False)"
   ]
  },
  {
   "cell_type": "code",
   "execution_count": null,
   "id": "average-playing",
   "metadata": {},
   "outputs": [],
   "source": []
  }
 ],
 "metadata": {
  "kernelspec": {
   "display_name": "Python 3",
   "language": "python",
   "name": "python3"
  },
  "language_info": {
   "codemirror_mode": {
    "name": "ipython",
    "version": 3
   },
   "file_extension": ".py",
   "mimetype": "text/x-python",
   "name": "python",
   "nbconvert_exporter": "python",
   "pygments_lexer": "ipython3",
   "version": "3.7.3"
  },
  "toc": {
   "base_numbering": 1,
   "nav_menu": {},
   "number_sections": true,
   "sideBar": true,
   "skip_h1_title": false,
   "title_cell": "Table of Contents",
   "title_sidebar": "Contents",
   "toc_cell": false,
   "toc_position": {},
   "toc_section_display": true,
   "toc_window_display": false
  }
 },
 "nbformat": 4,
 "nbformat_minor": 5
}
