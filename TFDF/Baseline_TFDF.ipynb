{
  "nbformat": 4,
  "nbformat_minor": 0,
  "metadata": {
    "colab": {
      "name": "Baseline TFDF.ipynb",
      "provenance": []
    },
    "kernelspec": {
      "name": "python3",
      "display_name": "Python 3"
    },
    "language_info": {
      "name": "python"
    }
  },
  "cells": [
    {
      "cell_type": "markdown",
      "metadata": {
        "id": "KqqexEhICHj1"
      },
      "source": [
        "# Tensorflow Decision Forest (TFDF)"
      ]
    },
    {
      "cell_type": "markdown",
      "metadata": {
        "id": "D1IIfVpzBdr3"
      },
      "source": [
        "# Import and Install dependecies"
      ]
    },
    {
      "cell_type": "code",
      "metadata": {
        "id": "Qhqx8ilKdy0n"
      },
      "source": [
        "!pip install tensorflow_decision_forests\n",
        "!pip install pandas"
      ],
      "execution_count": null,
      "outputs": []
    },
    {
      "cell_type": "code",
      "metadata": {
        "id": "B6DwTpXTebi3"
      },
      "source": [
        "import tensorflow_decision_forests as tfdf\n",
        "import pandas as pd"
      ],
      "execution_count": 3,
      "outputs": []
    },
    {
      "cell_type": "markdown",
      "metadata": {
        "id": "63mWdO0FBkl4"
      },
      "source": [
        "# Loading Data"
      ]
    },
    {
      "cell_type": "code",
      "metadata": {
        "id": "e2FKcZLceuXZ"
      },
      "source": [
        "train_df = pd.read_csv(\"/content/drive/Shareddrives/Capstone Victor/TFDF/train_data.csv\")\n",
        "test_df = pd.read_csv(\"/content/drive/Shareddrives/Capstone Victor/TFDF/test_data.csv\")"
      ],
      "execution_count": 4,
      "outputs": []
    },
    {
      "cell_type": "code",
      "metadata": {
        "colab": {
          "base_uri": "https://localhost:8080/"
        },
        "id": "LcGGrTc-fnOG",
        "outputId": "7c61c3d4-0a2c-4335-b946-11760a06705c"
      },
      "source": [
        "train_df.pop(\"index\")\n",
        "test_df.pop(\"index\")"
      ],
      "execution_count": 6,
      "outputs": [
        {
          "output_type": "execute_result",
          "data": {
            "text/plain": [
              "0      2537\n",
              "1      4751\n",
              "2      3644\n",
              "3      4464\n",
              "4      3275\n",
              "       ... \n",
              "979    2520\n",
              "980    3914\n",
              "981    4037\n",
              "982    3504\n",
              "983    1016\n",
              "Name: index, Length: 984, dtype: int64"
            ]
          },
          "metadata": {
            "tags": []
          },
          "execution_count": 6
        }
      ]
    },
    {
      "cell_type": "code",
      "metadata": {
        "colab": {
          "base_uri": "https://localhost:8080/",
          "height": 779
        },
        "id": "QNVIcKo9e2hW",
        "outputId": "3f604292-5245-4197-ccc4-895a72f11eaa"
      },
      "source": [
        "train_df"
      ],
      "execution_count": 7,
      "outputs": [
        {
          "output_type": "execute_result",
          "data": {
            "text/html": [
              "<div>\n",
              "<style scoped>\n",
              "    .dataframe tbody tr th:only-of-type {\n",
              "        vertical-align: middle;\n",
              "    }\n",
              "\n",
              "    .dataframe tbody tr th {\n",
              "        vertical-align: top;\n",
              "    }\n",
              "\n",
              "    .dataframe thead th {\n",
              "        text-align: right;\n",
              "    }\n",
              "</style>\n",
              "<table border=\"1\" class=\"dataframe\">\n",
              "  <thead>\n",
              "    <tr style=\"text-align: right;\">\n",
              "      <th></th>\n",
              "      <th>Disease</th>\n",
              "      <th>Symptom_1</th>\n",
              "      <th>Symptom_2</th>\n",
              "      <th>Symptom_3</th>\n",
              "      <th>Symptom_4</th>\n",
              "      <th>Symptom_5</th>\n",
              "      <th>Symptom_6</th>\n",
              "      <th>Symptom_7</th>\n",
              "      <th>Symptom_8</th>\n",
              "      <th>Symptom_9</th>\n",
              "      <th>Symptom_10</th>\n",
              "      <th>Symptom_11</th>\n",
              "      <th>Symptom_12</th>\n",
              "      <th>Symptom_13</th>\n",
              "      <th>Symptom_14</th>\n",
              "      <th>Symptom_15</th>\n",
              "      <th>Symptom_16</th>\n",
              "      <th>Symptom_17</th>\n",
              "    </tr>\n",
              "  </thead>\n",
              "  <tbody>\n",
              "    <tr>\n",
              "      <th>0</th>\n",
              "      <td>(vertigo) Paroymsal  Positional Vertigo</td>\n",
              "      <td>vomiting</td>\n",
              "      <td>headache</td>\n",
              "      <td>nausea</td>\n",
              "      <td>spinning_movements</td>\n",
              "      <td>unsteadiness</td>\n",
              "      <td>0</td>\n",
              "      <td>0</td>\n",
              "      <td>0</td>\n",
              "      <td>0</td>\n",
              "      <td>0</td>\n",
              "      <td>0</td>\n",
              "      <td>0</td>\n",
              "      <td>0</td>\n",
              "      <td>0</td>\n",
              "      <td>0</td>\n",
              "      <td>0</td>\n",
              "      <td>0</td>\n",
              "    </tr>\n",
              "    <tr>\n",
              "      <th>1</th>\n",
              "      <td>(vertigo) Paroymsal  Positional Vertigo</td>\n",
              "      <td>vomiting</td>\n",
              "      <td>headache</td>\n",
              "      <td>nausea</td>\n",
              "      <td>spinning_movements</td>\n",
              "      <td>loss_of_balance</td>\n",
              "      <td>unsteadiness</td>\n",
              "      <td>0</td>\n",
              "      <td>0</td>\n",
              "      <td>0</td>\n",
              "      <td>0</td>\n",
              "      <td>0</td>\n",
              "      <td>0</td>\n",
              "      <td>0</td>\n",
              "      <td>0</td>\n",
              "      <td>0</td>\n",
              "      <td>0</td>\n",
              "      <td>0</td>\n",
              "    </tr>\n",
              "    <tr>\n",
              "      <th>2</th>\n",
              "      <td>(vertigo) Paroymsal  Positional Vertigo</td>\n",
              "      <td>vomiting</td>\n",
              "      <td>headache</td>\n",
              "      <td>nausea</td>\n",
              "      <td>spinning_movements</td>\n",
              "      <td>loss_of_balance</td>\n",
              "      <td>0</td>\n",
              "      <td>0</td>\n",
              "      <td>0</td>\n",
              "      <td>0</td>\n",
              "      <td>0</td>\n",
              "      <td>0</td>\n",
              "      <td>0</td>\n",
              "      <td>0</td>\n",
              "      <td>0</td>\n",
              "      <td>0</td>\n",
              "      <td>0</td>\n",
              "      <td>0</td>\n",
              "    </tr>\n",
              "    <tr>\n",
              "      <th>3</th>\n",
              "      <td>(vertigo) Paroymsal  Positional Vertigo</td>\n",
              "      <td>vomiting</td>\n",
              "      <td>headache</td>\n",
              "      <td>nausea</td>\n",
              "      <td>spinning_movements</td>\n",
              "      <td>loss_of_balance</td>\n",
              "      <td>unsteadiness</td>\n",
              "      <td>0</td>\n",
              "      <td>0</td>\n",
              "      <td>0</td>\n",
              "      <td>0</td>\n",
              "      <td>0</td>\n",
              "      <td>0</td>\n",
              "      <td>0</td>\n",
              "      <td>0</td>\n",
              "      <td>0</td>\n",
              "      <td>0</td>\n",
              "      <td>0</td>\n",
              "    </tr>\n",
              "    <tr>\n",
              "      <th>4</th>\n",
              "      <td>(vertigo) Paroymsal  Positional Vertigo</td>\n",
              "      <td>vomiting</td>\n",
              "      <td>headache</td>\n",
              "      <td>nausea</td>\n",
              "      <td>spinning_movements</td>\n",
              "      <td>loss_of_balance</td>\n",
              "      <td>unsteadiness</td>\n",
              "      <td>0</td>\n",
              "      <td>0</td>\n",
              "      <td>0</td>\n",
              "      <td>0</td>\n",
              "      <td>0</td>\n",
              "      <td>0</td>\n",
              "      <td>0</td>\n",
              "      <td>0</td>\n",
              "      <td>0</td>\n",
              "      <td>0</td>\n",
              "      <td>0</td>\n",
              "    </tr>\n",
              "    <tr>\n",
              "      <th>...</th>\n",
              "      <td>...</td>\n",
              "      <td>...</td>\n",
              "      <td>...</td>\n",
              "      <td>...</td>\n",
              "      <td>...</td>\n",
              "      <td>...</td>\n",
              "      <td>...</td>\n",
              "      <td>...</td>\n",
              "      <td>...</td>\n",
              "      <td>...</td>\n",
              "      <td>...</td>\n",
              "      <td>...</td>\n",
              "      <td>...</td>\n",
              "      <td>...</td>\n",
              "      <td>...</td>\n",
              "      <td>...</td>\n",
              "      <td>...</td>\n",
              "      <td>...</td>\n",
              "    </tr>\n",
              "    <tr>\n",
              "      <th>3931</th>\n",
              "      <td>hepatitis A</td>\n",
              "      <td>joint_pain</td>\n",
              "      <td>vomiting</td>\n",
              "      <td>yellowish_skin</td>\n",
              "      <td>dark_urine</td>\n",
              "      <td>nausea</td>\n",
              "      <td>loss_of_appetite</td>\n",
              "      <td>abdominal_pain</td>\n",
              "      <td>diarrhoea</td>\n",
              "      <td>mild_fever</td>\n",
              "      <td>yellowing_of_eyes</td>\n",
              "      <td>muscle_pain</td>\n",
              "      <td>0</td>\n",
              "      <td>0</td>\n",
              "      <td>0</td>\n",
              "      <td>0</td>\n",
              "      <td>0</td>\n",
              "      <td>0</td>\n",
              "    </tr>\n",
              "    <tr>\n",
              "      <th>3932</th>\n",
              "      <td>hepatitis A</td>\n",
              "      <td>joint_pain</td>\n",
              "      <td>vomiting</td>\n",
              "      <td>yellowish_skin</td>\n",
              "      <td>dark_urine</td>\n",
              "      <td>nausea</td>\n",
              "      <td>abdominal_pain</td>\n",
              "      <td>diarrhoea</td>\n",
              "      <td>mild_fever</td>\n",
              "      <td>yellowing_of_eyes</td>\n",
              "      <td>muscle_pain</td>\n",
              "      <td>0</td>\n",
              "      <td>0</td>\n",
              "      <td>0</td>\n",
              "      <td>0</td>\n",
              "      <td>0</td>\n",
              "      <td>0</td>\n",
              "      <td>0</td>\n",
              "    </tr>\n",
              "    <tr>\n",
              "      <th>3933</th>\n",
              "      <td>hepatitis A</td>\n",
              "      <td>joint_pain</td>\n",
              "      <td>vomiting</td>\n",
              "      <td>yellowish_skin</td>\n",
              "      <td>dark_urine</td>\n",
              "      <td>nausea</td>\n",
              "      <td>loss_of_appetite</td>\n",
              "      <td>abdominal_pain</td>\n",
              "      <td>diarrhoea</td>\n",
              "      <td>mild_fever</td>\n",
              "      <td>yellowing_of_eyes</td>\n",
              "      <td>muscle_pain</td>\n",
              "      <td>0</td>\n",
              "      <td>0</td>\n",
              "      <td>0</td>\n",
              "      <td>0</td>\n",
              "      <td>0</td>\n",
              "      <td>0</td>\n",
              "    </tr>\n",
              "    <tr>\n",
              "      <th>3934</th>\n",
              "      <td>hepatitis A</td>\n",
              "      <td>joint_pain</td>\n",
              "      <td>vomiting</td>\n",
              "      <td>yellowish_skin</td>\n",
              "      <td>dark_urine</td>\n",
              "      <td>nausea</td>\n",
              "      <td>loss_of_appetite</td>\n",
              "      <td>abdominal_pain</td>\n",
              "      <td>diarrhoea</td>\n",
              "      <td>mild_fever</td>\n",
              "      <td>yellowing_of_eyes</td>\n",
              "      <td>muscle_pain</td>\n",
              "      <td>0</td>\n",
              "      <td>0</td>\n",
              "      <td>0</td>\n",
              "      <td>0</td>\n",
              "      <td>0</td>\n",
              "      <td>0</td>\n",
              "    </tr>\n",
              "    <tr>\n",
              "      <th>3935</th>\n",
              "      <td>hepatitis A</td>\n",
              "      <td>joint_pain</td>\n",
              "      <td>vomiting</td>\n",
              "      <td>yellowish_skin</td>\n",
              "      <td>dark_urine</td>\n",
              "      <td>nausea</td>\n",
              "      <td>loss_of_appetite</td>\n",
              "      <td>abdominal_pain</td>\n",
              "      <td>diarrhoea</td>\n",
              "      <td>mild_fever</td>\n",
              "      <td>yellowing_of_eyes</td>\n",
              "      <td>muscle_pain</td>\n",
              "      <td>0</td>\n",
              "      <td>0</td>\n",
              "      <td>0</td>\n",
              "      <td>0</td>\n",
              "      <td>0</td>\n",
              "      <td>0</td>\n",
              "    </tr>\n",
              "  </tbody>\n",
              "</table>\n",
              "<p>3936 rows × 18 columns</p>\n",
              "</div>"
            ],
            "text/plain": [
              "                                      Disease  ... Symptom_17\n",
              "0     (vertigo) Paroymsal  Positional Vertigo  ...          0\n",
              "1     (vertigo) Paroymsal  Positional Vertigo  ...          0\n",
              "2     (vertigo) Paroymsal  Positional Vertigo  ...          0\n",
              "3     (vertigo) Paroymsal  Positional Vertigo  ...          0\n",
              "4     (vertigo) Paroymsal  Positional Vertigo  ...          0\n",
              "...                                       ...  ...        ...\n",
              "3931                              hepatitis A  ...          0\n",
              "3932                              hepatitis A  ...          0\n",
              "3933                              hepatitis A  ...          0\n",
              "3934                              hepatitis A  ...          0\n",
              "3935                              hepatitis A  ...          0\n",
              "\n",
              "[3936 rows x 18 columns]"
            ]
          },
          "metadata": {
            "tags": []
          },
          "execution_count": 7
        }
      ]
    },
    {
      "cell_type": "code",
      "metadata": {
        "id": "P9K0WZIgfJSN"
      },
      "source": [
        "train_ds = tfdf.keras.pd_dataframe_to_tf_dataset(train_df, label=\"Disease\")\n",
        "test_ds = tfdf.keras.pd_dataframe_to_tf_dataset(test_df, label=\"Disease\")"
      ],
      "execution_count": 8,
      "outputs": []
    },
    {
      "cell_type": "markdown",
      "metadata": {
        "id": "9ft87tC-B4EE"
      },
      "source": [
        "# Training and Evaluation"
      ]
    },
    {
      "cell_type": "code",
      "metadata": {
        "colab": {
          "base_uri": "https://localhost:8080/"
        },
        "id": "lN33Dr0jfuHM",
        "outputId": "0f284950-ffb1-4f15-a075-54b5735ab610"
      },
      "source": [
        "model = tfdf.keras.RandomForestModel()\n",
        "model.fit(train_ds)"
      ],
      "execution_count": 13,
      "outputs": [
        {
          "output_type": "stream",
          "text": [
            "62/62 [==============================] - 0s 2ms/step\n"
          ],
          "name": "stdout"
        },
        {
          "output_type": "execute_result",
          "data": {
            "text/plain": [
              "<tensorflow.python.keras.callbacks.History at 0x7f561d4636d0>"
            ]
          },
          "metadata": {
            "tags": []
          },
          "execution_count": 13
        }
      ]
    },
    {
      "cell_type": "code",
      "metadata": {
        "colab": {
          "base_uri": "https://localhost:8080/"
        },
        "id": "Xy_I0VB6fzfT",
        "outputId": "4f17a7f3-03f3-46a5-ac4f-1ef7c9014206"
      },
      "source": [
        "# model.summary()\n",
        "model.compile(metrics=[\"accuracy\"])\n",
        "print(model.evaluate(test_ds))"
      ],
      "execution_count": 12,
      "outputs": [
        {
          "output_type": "stream",
          "text": [
            "16/16 [==============================] - 0s 4ms/step - loss: 0.0000e+00 - accuracy: 1.0000\n",
            "[0.0, 1.0]\n"
          ],
          "name": "stdout"
        }
      ]
    },
    {
      "cell_type": "code",
      "metadata": {
        "colab": {
          "base_uri": "https://localhost:8080/"
        },
        "id": "YvcYGsXBgDby",
        "outputId": "eaa7dee7-5897-433d-be1b-dab6d96f86ec"
      },
      "source": [
        "model.evaluate(test_ds)"
      ],
      "execution_count": 11,
      "outputs": [
        {
          "output_type": "stream",
          "text": [
            "16/16 [==============================] - 0s 4ms/step - loss: 0.0000e+00\n"
          ],
          "name": "stdout"
        },
        {
          "output_type": "execute_result",
          "data": {
            "text/plain": [
              "0.0"
            ]
          },
          "metadata": {
            "tags": []
          },
          "execution_count": 11
        }
      ]
    },
    {
      "cell_type": "code",
      "metadata": {
        "colab": {
          "base_uri": "https://localhost:8080/",
          "height": 404
        },
        "id": "sMLirHdOgDvE",
        "outputId": "0fca4076-0815-472c-90b5-3c083f00fb60"
      },
      "source": [
        "tfdf.model_plotter.plot_model_in_colab(model, tree_idx=0)\n"
      ],
      "execution_count": 14,
      "outputs": [
        {
          "output_type": "execute_result",
          "data": {
            "text/html": [
              "\n",
              "<script src=\"https://d3js.org/d3.v6.min.js\"></script>\n",
              "<div id=\"tree_plot_4d219cc6615a4434853deb2956c65398\"></div>\n",
              "<script>\n",
              "/*\n",
              " * Copyright 2021 Google LLC.\n",
              " * Licensed under the Apache License, Version 2.0 (the \"License\");\n",
              " * you may not use this file except in compliance with the License.\n",
              " * You may obtain a copy of the License at\n",
              " *\n",
              " *     https://www.apache.org/licenses/LICENSE-2.0\n",
              " *\n",
              " * Unless required by applicable law or agreed to in writing, software\n",
              " * distributed under the License is distributed on an \"AS IS\" BASIS,\n",
              " * WITHOUT WARRANTIES OR CONDITIONS OF ANY KIND, either express or implied.\n",
              " * See the License for the specific language governing permissions and\n",
              " * limitations under the License.\n",
              " */\n",
              "\n",
              "/**\n",
              " *  Plotting of decision trees generated by TF-DF.\n",
              " *\n",
              " *  A tree is a recursive structure of node objects.\n",
              " *  A node contains one or more of the following components:\n",
              " *\n",
              " *    - A value: Representing the output of the node. If the node is not a leaf,\n",
              " *      the value is only present for analysis i.e. it is not used for\n",
              " *      predictions.\n",
              " *\n",
              " *    - A condition : For non-leaf nodes, the condition (also known as split)\n",
              " *      defines a binary test to branch to the positive or negative child.\n",
              " *\n",
              " *    - An explanation: Generally a plot showing the relation between the label\n",
              " *      and the condition to give insights about the effect of the condition.\n",
              " *\n",
              " *    - Two children : For non-leaf nodes, the children nodes. The first\n",
              " *      children (i.e. \"node.children[0]\") is the negative children (drawn in\n",
              " *      red). The second children is the positive one (drawn in green).\n",
              " *\n",
              " */\n",
              "\n",
              "/**\n",
              " * Generate the default options object.\n",
              " * @return {!options} Default configuration options.\n",
              " */\n",
              "function build_default_options() {\n",
              "  // Display configuration.\n",
              "  // Note: Dimensions are expressed in pixels.\n",
              "  return {\n",
              "    // Margin around the entire plot.\n",
              "    margin: 10,\n",
              "\n",
              "    // Size of a tree node.\n",
              "    node_x_size: 160,\n",
              "    node_y_size: 12 * 2 + 4,\n",
              "\n",
              "    // Space between tree nodes.\n",
              "    node_x_offset: 160 + 20,\n",
              "    node_y_offset: 12 * 2 + 4 + 5,\n",
              "\n",
              "    // Text size.\n",
              "    font_size: 10,\n",
              "\n",
              "    // Rounding effect of the edges.\n",
              "    // This value is the distance (in pixel) of the Bezier control anchor from\n",
              "    // the source point.\n",
              "    edge_rounding: 20,\n",
              "\n",
              "    // Padding inside nodes.\n",
              "    node_padding: 2,\n",
              "\n",
              "    // Show a bb box around the plot. For debug only.\n",
              "    show_plot_bounding_box: false,\n",
              "  };\n",
              "}\n",
              "\n",
              "/**\n",
              " * Plots a single decision tree into a DOM element.\n",
              " * @param {!options} options Dictionary of configurations.\n",
              " * @param {!tree} raw_tree Recursive tree structure.\n",
              " * @param {string} canvas_id Id of the output dom element.\n",
              " */\n",
              "function display_tree(options, raw_tree, canvas_id) {\n",
              "  // Get default options.\n",
              "  const default_options = build_default_options();\n",
              "  Object.keys(default_options).forEach(function(key) {\n",
              "    if (!(key in options)) {\n",
              "      options[key] = default_options[key];\n",
              "    }\n",
              "  });\n",
              "\n",
              "  console.log(options);\n",
              "\n",
              "  // Determine the node placement.\n",
              "  const tree_struct = d3.tree().nodeSize(\n",
              "      [options.node_y_offset, options.node_x_offset])(d3.hierarchy(raw_tree));\n",
              "\n",
              "  // Boundaries of the node placement.\n",
              "  let x_min = Infinity;\n",
              "  let x_max = -x_min;\n",
              "  let y_min = Infinity;\n",
              "  let y_max = -x_min;\n",
              "\n",
              "  tree_struct.each(d => {\n",
              "    if (d.x > x_max) x_max = d.x;\n",
              "    if (d.x < x_min) x_min = d.x;\n",
              "    if (d.y > y_max) y_max = d.y;\n",
              "    if (d.y < y_min) y_min = d.y;\n",
              "  });\n",
              "\n",
              "  // Size of the plot.\n",
              "  const width = y_max - y_min + options.node_x_size + options.margin * 2;\n",
              "  const height = x_max - x_min + options.node_y_size + options.margin * 2 +\n",
              "      options.node_y_offset - options.node_y_size;\n",
              "\n",
              "  const plot = d3.select(canvas_id);\n",
              "\n",
              "  // Tool tip\n",
              "  options.tooltip = plot.append('div')\n",
              "                        .attr('width', 100)\n",
              "                        .attr('height', 100)\n",
              "                        .style('padding', '4px')\n",
              "                        .style('background', '#fff')\n",
              "                        .style('box-shadow', '4px 4px 0px rgba(0,0,0,0.1)')\n",
              "                        .style('border', '1px solid black')\n",
              "                        .style('font-family', 'sans-serif')\n",
              "                        .style('font-size', options.font_size)\n",
              "                        .style('position', 'absolute')\n",
              "                        .style('z-index', '10')\n",
              "                        .attr('pointer-events', 'none')\n",
              "                        .style('display', 'none');\n",
              "\n",
              "  // Create canvas\n",
              "  const svg = plot.append('svg').attr('width', width).attr('height', height);\n",
              "  const graph =\n",
              "      svg.style('overflow', 'visible')\n",
              "          .append('g')\n",
              "          .attr('font-family', 'sans-serif')\n",
              "          .attr('font-size', options.font_size)\n",
              "          .attr(\n",
              "              'transform',\n",
              "              () => `translate(${options.margin},${\n",
              "                  - x_min + options.node_y_offset / 2 + options.margin})`);\n",
              "\n",
              "  // Plot bounding box.\n",
              "  if (options.show_plot_bounding_box) {\n",
              "    svg.append('rect')\n",
              "        .attr('width', width)\n",
              "        .attr('height', height)\n",
              "        .attr('fill', 'none')\n",
              "        .attr('stroke-width', 1.0)\n",
              "        .attr('stroke', 'black');\n",
              "  }\n",
              "\n",
              "  // Draw the edges.\n",
              "  display_edges(options, graph, tree_struct);\n",
              "\n",
              "  // Draw the nodes.\n",
              "  display_nodes(options, graph, tree_struct);\n",
              "}\n",
              "\n",
              "/**\n",
              " * Draw the nodes of the tree.\n",
              " * @param {!options} options Dictionary of configurations.\n",
              " * @param {!graph} graph D3 search handle containing the graph.\n",
              " * @param {!tree_struct} tree_struct Structure of the tree (node placement,\n",
              " *     data, etc.).\n",
              " */\n",
              "function display_nodes(options, graph, tree_struct) {\n",
              "  const nodes = graph.append('g')\n",
              "                    .selectAll('g')\n",
              "                    .data(tree_struct.descendants())\n",
              "                    .join('g')\n",
              "                    .attr('transform', d => `translate(${d.y},${d.x})`);\n",
              "\n",
              "  nodes.append('rect')\n",
              "      .attr('x', 0.5)\n",
              "      .attr('y', 0.5)\n",
              "      .attr('width', options.node_x_size)\n",
              "      .attr('height', options.node_y_size)\n",
              "      .attr('stroke', 'lightgrey')\n",
              "      .attr('stroke-width', 1)\n",
              "      .attr('fill', 'white')\n",
              "      .attr('y', -options.node_y_size / 2);\n",
              "\n",
              "  // Brackets on the right of condition nodes without children.\n",
              "  non_leaf_node_without_children =\n",
              "      nodes.filter(node => node.data.condition != null && node.children == null)\n",
              "          .append('g')\n",
              "          .attr('transform', `translate(${options.node_x_size},0)`);\n",
              "\n",
              "  non_leaf_node_without_children.append('path')\n",
              "      .attr('d', 'M0,0 C 10,0 0,10 10,10')\n",
              "      .attr('fill', 'none')\n",
              "      .attr('stroke-width', 1.0)\n",
              "      .attr('stroke', '#F00');\n",
              "\n",
              "  non_leaf_node_without_children.append('path')\n",
              "      .attr('d', 'M0,0 C 10,0 0,-10 10,-10')\n",
              "      .attr('fill', 'none')\n",
              "      .attr('stroke-width', 1.0)\n",
              "      .attr('stroke', '#0F0');\n",
              "\n",
              "  const node_content = nodes.append('g').attr(\n",
              "      'transform',\n",
              "      `translate(0,${options.node_padding - options.node_y_size / 2})`);\n",
              "\n",
              "  node_content.append(node => create_node_element(options, node));\n",
              "}\n",
              "\n",
              "/**\n",
              " * Creates the D3 content for a single node.\n",
              " * @param {!options} options Dictionary of configurations.\n",
              " * @param {!node} node Node to draw.\n",
              " * @return {!d3} D3 content.\n",
              " */\n",
              "function create_node_element(options, node) {\n",
              "  // Output accumulator.\n",
              "  let output = {\n",
              "    // Content to draw.\n",
              "    content: d3.create('svg:g'),\n",
              "    // Vertical offset to the next element to draw.\n",
              "    vertical_offset: 0\n",
              "  };\n",
              "\n",
              "  // Conditions.\n",
              "  if (node.data.condition != null) {\n",
              "    display_condition(options, node.data.condition, output);\n",
              "  }\n",
              "\n",
              "  // Values.\n",
              "  if (node.data.value != null) {\n",
              "    display_value(options, node.data.value, output);\n",
              "  }\n",
              "\n",
              "  // Explanations.\n",
              "  if (node.data.explanation != null) {\n",
              "    display_explanation(options, node.data.explanation, output);\n",
              "  }\n",
              "\n",
              "  return output.content.node();\n",
              "}\n",
              "\n",
              "\n",
              "/**\n",
              " * Adds a single line of text inside of a node.\n",
              " * @param {!options} options Dictionary of configurations.\n",
              " * @param {string} text Text to display.\n",
              " * @param {!output} output Output display accumulator.\n",
              " */\n",
              "function display_node_text(options, text, output) {\n",
              "  output.content.append('text')\n",
              "      .attr('x', options.node_padding)\n",
              "      .attr('y', output.vertical_offset)\n",
              "      .attr('alignment-baseline', 'hanging')\n",
              "      .text(text);\n",
              "  output.vertical_offset += 10;\n",
              "}\n",
              "\n",
              "/**\n",
              " * Adds a single line of text inside of a node with a tooltip.\n",
              " * @param {!options} options Dictionary of configurations.\n",
              " * @param {string} text Text to display.\n",
              " * @param {string} tooltip Text in the Tooltip.\n",
              " * @param {!output} output Output display accumulator.\n",
              " */\n",
              "function display_node_text_with_tooltip(options, text, tooltip, output) {\n",
              "  const item = output.content.append('text')\n",
              "                   .attr('x', options.node_padding)\n",
              "                   .attr('alignment-baseline', 'hanging')\n",
              "                   .text(text);\n",
              "\n",
              "  add_tooltip(options, item, () => tooltip);\n",
              "  output.vertical_offset += 10;\n",
              "}\n",
              "\n",
              "/**\n",
              " * Adds a tooltip to a dom element.\n",
              " * @param {!options} options Dictionary of configurations.\n",
              " * @param {!dom} target Dom element to equip with a tooltip.\n",
              " * @param {!func} get_content Generates the html content of the tooltip.\n",
              " */\n",
              "function add_tooltip(options, target, get_content) {\n",
              "  function show(d) {\n",
              "    options.tooltip.style('display', 'block');\n",
              "    options.tooltip.html(get_content());\n",
              "  }\n",
              "\n",
              "  function hide(d) {\n",
              "    options.tooltip.style('display', 'none');\n",
              "  }\n",
              "\n",
              "  function move(d) {\n",
              "    options.tooltip.style('display', 'block');\n",
              "    options.tooltip.style('left', (d.pageX + 5) + 'px');\n",
              "    options.tooltip.style('top', d.pageY + 'px');\n",
              "  }\n",
              "\n",
              "  target.on('mouseover', show);\n",
              "  target.on('mouseout', hide);\n",
              "  target.on('mousemove', move);\n",
              "}\n",
              "\n",
              "/**\n",
              " * Adds a condition inside of a node.\n",
              " * @param {!options} options Dictionary of configurations.\n",
              " * @param {!condition} condition Condition to display.\n",
              " * @param {!output} output Output display accumulator.\n",
              " */\n",
              "function display_condition(options, condition, output) {\n",
              "  threshold_format = d3.format('r');\n",
              "\n",
              "  if (condition.type === 'IS_MISSING') {\n",
              "    display_node_text(options, `${condition.attribute} is missing`, output);\n",
              "    return;\n",
              "  }\n",
              "\n",
              "  if (condition.type === 'IS_TRUE') {\n",
              "    display_node_text(options, `${condition.attribute} is true`, output);\n",
              "    return;\n",
              "  }\n",
              "\n",
              "  if (condition.type === 'NUMERICAL_IS_HIGHER_THAN') {\n",
              "    format = d3.format('r');\n",
              "    display_node_text(\n",
              "        options,\n",
              "        `${condition.attribute} >= ${threshold_format(condition.threshold)}`,\n",
              "        output);\n",
              "    return;\n",
              "  }\n",
              "\n",
              "  if (condition.type === 'CATEGORICAL_IS_IN') {\n",
              "    display_node_text_with_tooltip(\n",
              "        options, `${condition.attribute} in [...]`,\n",
              "        `${condition.attribute} in [${condition.mask}]`, output);\n",
              "    return;\n",
              "  }\n",
              "\n",
              "  if (condition.type === 'CATEGORICAL_SET_CONTAINS') {\n",
              "    display_node_text_with_tooltip(\n",
              "        options, `${condition.attribute} intersect [...]`,\n",
              "        `${condition.attribute} intersect [${condition.mask}]`, output);\n",
              "    return;\n",
              "  }\n",
              "\n",
              "  if (condition.type === 'NUMERICAL_SPARSE_OBLIQUE') {\n",
              "    display_node_text_with_tooltip(\n",
              "        options, `Sparse oblique split...`,\n",
              "        `[${condition.attributes}]*[${condition.weights}]>=${\n",
              "            threshold_format(condition.threshold)}`,\n",
              "        output);\n",
              "    return;\n",
              "  }\n",
              "\n",
              "  display_node_text(\n",
              "      options, `Non supported condition ${condition.type}`, output);\n",
              "}\n",
              "\n",
              "/**\n",
              " * Adds a value inside of a node.\n",
              " * @param {!options} options Dictionary of configurations.\n",
              " * @param {!value} value Value to display.\n",
              " * @param {!output} output Output display accumulator.\n",
              " */\n",
              "function display_value(options, value, output) {\n",
              "  if (value.type === 'PROBABILITY') {\n",
              "    const left_margin = 0;\n",
              "    const right_margin = 50;\n",
              "    const plot_width = options.node_x_size - options.node_padding * 2 -\n",
              "        left_margin - right_margin;\n",
              "\n",
              "    let cusum = Array.from(d3.cumsum(value.distribution));\n",
              "    cusum.unshift(0);\n",
              "    const distribution_plot = output.content.append('g').attr(\n",
              "        'transform', `translate(0,${output.vertical_offset + 0.5})`);\n",
              "\n",
              "    distribution_plot.selectAll('rect')\n",
              "        .data(value.distribution)\n",
              "        .join('rect')\n",
              "        .attr('height', 10)\n",
              "        .attr(\n",
              "            'x',\n",
              "            (d, i) =>\n",
              "                (cusum[i] * plot_width + left_margin + options.node_padding))\n",
              "        .attr('width', (d, i) => d * plot_width)\n",
              "        .style('fill', (d, i) => d3.schemeSet1[i]);\n",
              "\n",
              "    const num_examples =\n",
              "        output.content.append('g')\n",
              "            .attr('transform', `translate(0,${output.vertical_offset})`)\n",
              "            .append('text')\n",
              "            .attr('x', options.node_x_size - options.node_padding)\n",
              "            .attr('alignment-baseline', 'hanging')\n",
              "            .attr('text-anchor', 'end')\n",
              "            .text(`(${value.num_examples})`);\n",
              "\n",
              "    const distribution_details = d3.create('ul');\n",
              "    distribution_details.selectAll('li')\n",
              "        .data(value.distribution)\n",
              "        .join('li')\n",
              "        .append('span')\n",
              "        .text(\n",
              "            (d, i) =>\n",
              "                'class ' + i + ': ' + d3.format('.3%')(value.distribution[i]));\n",
              "\n",
              "    add_tooltip(options, distribution_plot, () => distribution_details.html());\n",
              "    add_tooltip(options, num_examples, () => 'Number of examples');\n",
              "\n",
              "    output.vertical_offset += 10;\n",
              "    return;\n",
              "  }\n",
              "\n",
              "  if (value.type === 'REGRESSION') {\n",
              "    display_node_text(\n",
              "        options,\n",
              "        'value: ' + d3.format('r')(value.value) + ` (${value.num_examples})`,\n",
              "        output);\n",
              "    return;\n",
              "  }\n",
              "\n",
              "  display_node_text(options, `Non supported value ${value.type}`, output);\n",
              "}\n",
              "\n",
              "/**\n",
              " * Adds an explanation inside of a node.\n",
              " * @param {!options} options Dictionary of configurations.\n",
              " * @param {!explanation} explanation Explanation to display.\n",
              " * @param {!output} output Output display accumulator.\n",
              " */\n",
              "function display_explanation(options, explanation, output) {\n",
              "  // Margin before the explanation.\n",
              "  output.vertical_offset += 10;\n",
              "\n",
              "  display_node_text(\n",
              "      options, `Non supported explanation ${explanation.type}`, output);\n",
              "}\n",
              "\n",
              "\n",
              "/**\n",
              " * Draw the edges of the tree.\n",
              " * @param {!options} options Dictionary of configurations.\n",
              " * @param {!graph} graph D3 search handle containing the graph.\n",
              " * @param {!tree_struct} tree_struct Structure of the tree (node placement,\n",
              " *     data, etc.).\n",
              " */\n",
              "function display_edges(options, graph, tree_struct) {\n",
              "  // Draw an edge between a parent and a child node with a bezier.\n",
              "  function draw_single_edge(d) {\n",
              "    return 'M' + (d.source.y + options.node_x_size) + ',' + d.source.x + ' C' +\n",
              "        (d.source.y + options.node_x_size + options.edge_rounding) + ',' +\n",
              "        d.source.x + ' ' + (d.target.y - options.edge_rounding) + ',' +\n",
              "        d.target.x + ' ' + d.target.y + ',' + d.target.x;\n",
              "  }\n",
              "\n",
              "  graph.append('g')\n",
              "      .attr('fill', 'none')\n",
              "      .attr('stroke-width', 1.2)\n",
              "      .selectAll('path')\n",
              "      .data(tree_struct.links())\n",
              "      .join('path')\n",
              "      .attr('d', draw_single_edge)\n",
              "      .attr(\n",
              "          'stroke', d => (d.target === d.source.children[0]) ? '#0F0' : '#F00');\n",
              "}\n",
              "\n",
              "display_tree({}, {\"value\": {\"type\": \"PROBABILITY\", \"distribution\": [0.024136178861788617, 0.022357723577235773, 0.02184959349593496, 0.022865853658536585, 0.02616869918699187, 0.02464430894308943, 0.026422764227642278, 0.023628048780487805, 0.024898373983739838, 0.030233739837398375, 0.026676829268292682, 0.020579268292682928, 0.02464430894308943, 0.025660569105691058, 0.023373983739837397, 0.020833333333333332, 0.023628048780487805, 0.02540650406504065, 0.027947154471544715, 0.02184959349593496, 0.025152439024390245, 0.02769308943089431, 0.022103658536585365, 0.022103658536585365, 0.02464430894308943, 0.024136178861788617, 0.027184959349593495, 0.026676829268292682, 0.025152439024390245, 0.025152439024390245, 0.02184959349593496, 0.023628048780487805, 0.02972560975609756, 0.024390243902439025, 0.025152439024390245, 0.021595528455284552, 0.02184959349593496, 0.022865853658536585, 0.02540650406504065, 0.024136178861788617, 0.021595528455284552], \"num_examples\": 3936.0}, \"condition\": {\"type\": \"CATEGORICAL_IS_IN\", \"attribute\": \"Symptom_8\", \"mask\": [\"0\", \" muscle_pain\"]}, \"children\": [{\"value\": {\"type\": \"PROBABILITY\", \"distribution\": [0.03835284618490109, 0.03552684699232943, 0.03471941865159467, 0.036334275333064193, 0.04158255954784013, 0.03916027452563585, 0.04198627371820751, 0.03754541784416633, 0.0, 0.04804198627371821, 0.0, 0.0, 0.0, 0.04077513120710537, 0.03714170367379895, 0.03310456197012515, 0.03754541784416633, 0.04037141703673799, 0.04440855874041179, 0.0, 0.03996770286637061, 0.0, 0.0, 0.03512313282196205, 0.0, 0.0, 0.0, 0.04238998788857489, 0.019378280177634235, 0.03996770286637061, 0.0, 0.03754541784416633, 0.04723455793298345, 0.03875656035526847, 0.0, 0.03431570448122729, 0.0, 0.0, 0.04037141703673799, 0.03835284618490109, 0.0], \"num_examples\": 2477.0}, \"condition\": {\"type\": \"CATEGORICAL_IS_IN\", \"attribute\": \"Symptom_1\", \"mask\": [\"itching\", \" skin_rash\", \" chills\", \" joint_pain\", \" continuous_sneezing\", \" headache\", \" acidity\", \" constipation\", \" stomach_pain\"]}, \"children\": [{\"value\": {\"type\": \"PROBABILITY\", \"distribution\": [0.004299226139294927, 0.0, 0.0705073086844368, 0.0, 0.0825451418744626, 0.0, 0.0, 0.0, 0.0, 0.09802235597592433, 0.0, 0.0, 0.0, 0.08598452278589853, 0.07910576096302666, 0.0705073086844368, 0.07996560619088564, 0.0, 0.0, 0.0, 0.0, 0.0, 0.0, 0.06878761822871883, 0.0, 0.0, 0.0, 0.08512467755803955, 0.037833190025795355, 0.08426483233018056, 0.0, 0.07738607050730868, 0.0025795356835769563, 0.0, 0.0, 0.07308684436801376, 0.0, 0.0, 0.0, 0.0, 0.0], \"num_examples\": 1163.0}, \"condition\": {\"type\": \"CATEGORICAL_IS_IN\", \"attribute\": \"Symptom_5\", \"mask\": [\"0\", \" painful_walking\", \" swelling_joints\", \" irritation_in_anus\", \" spotting_ urination\"]}, \"children\": [{\"value\": {\"type\": \"PROBABILITY\", \"distribution\": [0.0, 0.0, 0.13874788494077833, 0.0, 0.16243654822335024, 0.0, 0.0, 0.0, 0.0, 0.0, 0.0, 0.0, 0.0, 0.1692047377326565, 0.155668358714044, 0.13874788494077833, 0.0, 0.0, 0.0, 0.0, 0.0, 0.0, 0.0, 0.03553299492385787, 0.0, 0.0, 0.0, 0.04230118443316413, 0.0, 0.0, 0.0, 0.15228426395939088, 0.005076142131979695, 0.0, 0.0, 0.0, 0.0, 0.0, 0.0, 0.0, 0.0], \"num_examples\": 591.0}, \"condition\": {\"type\": \"CATEGORICAL_IS_IN\", \"attribute\": \"Symptom_1\", \"mask\": [\"itching\", \" skin_rash\", \" headache\"]}}, {\"value\": {\"type\": \"PROBABILITY\", \"distribution\": [0.008741258741258742, 0.0, 0.0, 0.0, 0.0, 0.0, 0.0, 0.0, 0.0, 0.1993006993006993, 0.0, 0.0, 0.0, 0.0, 0.0, 0.0, 0.16258741258741258, 0.0, 0.0, 0.0, 0.0, 0.0, 0.0, 0.10314685314685315, 0.0, 0.0, 0.0, 0.12937062937062938, 0.07692307692307693, 0.17132867132867133, 0.0, 0.0, 0.0, 0.0, 0.0, 0.1486013986013986, 0.0, 0.0, 0.0, 0.0, 0.0], \"num_examples\": 572.0}, \"condition\": {\"type\": \"CATEGORICAL_IS_IN\", \"attribute\": \"Symptom_5\", \"mask\": [\" loss_of_appetite\", \" yellow_crust_ooze\", \" lack_of_concentration\", \" abdominal_pain\"]}}]}, {\"value\": {\"type\": \"PROBABILITY\", \"distribution\": [0.0684931506849315, 0.0669710806697108, 0.0030441400304414, 0.0684931506849315, 0.00532724505327245, 0.07382039573820395, 0.0791476407914764, 0.07077625570776255, 0.0, 0.00380517503805175, 0.0, 0.0, 0.0, 0.00076103500761035, 0.0, 0.0, 0.0, 0.076103500761035, 0.0837138508371385, 0.0, 0.07534246575342465, 0.0, 0.0, 0.00532724505327245, 0.0, 0.0, 0.0, 0.0045662100456621, 0.0030441400304414, 0.00076103500761035, 0.0, 0.00228310502283105, 0.0867579908675799, 0.0730593607305936, 0.0, 0.0, 0.0, 0.0, 0.076103500761035, 0.07229832572298325, 0.0], \"num_examples\": 1314.0}, \"condition\": {\"type\": \"CATEGORICAL_IS_IN\", \"attribute\": \"Symptom_5\", \"mask\": [\"0\", \" nausea\", \" loss_of_balance\", \" yellowish_skin\", \" painful_walking\", \" unsteadiness\"]}, \"children\": [{\"value\": {\"type\": \"PROBABILITY\", \"distribution\": [0.10909090909090909, 0.10666666666666667, 0.0048484848484848485, 0.0, 0.008484848484848486, 0.11757575757575757, 0.0, 0.11272727272727273, 0.0, 0.0, 0.0, 0.0, 0.0, 0.0012121212121212121, 0.0, 0.0, 0.0, 0.12121212121212122, 0.13333333333333333, 0.0, 0.0, 0.0, 0.0, 0.008484848484848486, 0.0, 0.0, 0.0, 0.007272727272727273, 0.0048484848484848485, 0.0012121212121212121, 0.0, 0.0036363636363636364, 0.13818181818181818, 0.0, 0.0, 0.0, 0.0, 0.0, 0.12121212121212122, 0.0, 0.0], \"num_examples\": 825.0}, \"condition\": {\"type\": \"CATEGORICAL_IS_IN\", \"attribute\": \"Symptom_1\", \"mask\": [\" vomiting\", \" breathlessness\"]}}, {\"value\": {\"type\": \"PROBABILITY\", \"distribution\": [0.0, 0.0, 0.0, 0.18404907975460122, 0.0, 0.0, 0.21267893660531698, 0.0, 0.0, 0.010224948875255624, 0.0, 0.0, 0.0, 0.0, 0.0, 0.0, 0.0, 0.0, 0.0, 0.0, 0.20245398773006135, 0.0, 0.0, 0.0, 0.0, 0.0, 0.0, 0.0, 0.0, 0.0, 0.0, 0.0, 0.0, 0.19631901840490798, 0.0, 0.0, 0.0, 0.0, 0.0, 0.19427402862985685, 0.0], \"num_examples\": 489.0}, \"condition\": {\"type\": \"CATEGORICAL_IS_IN\", \"attribute\": \"Symptom_4\", \"mask\": [\" loss_of_appetite\", \" breathlessness\", \" family_history\", \" yellowing_of_eyes\"]}}]}]}, {\"value\": {\"type\": \"PROBABILITY\", \"distribution\": [0.0, 0.0, 0.0, 0.0, 0.0, 0.0, 0.0, 0.0, 0.06716929403701165, 0.0, 0.07196710075394105, 0.055517477724468814, 0.06648389307745031, 0.0, 0.0, 0.0, 0.0, 0.0, 0.0, 0.05894448252227553, 0.0, 0.07470870459218643, 0.05962988348183688, 0.0, 0.06648389307745031, 0.06511309115832763, 0.07333790267306374, 0.0, 0.03495544893762851, 0.0, 0.05894448252227553, 0.0, 0.0, 0.0, 0.067854694996573, 0.0, 0.05894448252227553, 0.061686086360520906, 0.0, 0.0, 0.058259081562714185], \"num_examples\": 1459.0}, \"condition\": {\"type\": \"CATEGORICAL_IS_IN\", \"attribute\": \"Symptom_5\", \"mask\": [\" headache\", \" high_fever\", \" fatigue\"]}, \"children\": [{\"value\": {\"type\": \"PROBABILITY\", \"distribution\": [0.0, 0.0, 0.0, 0.0, 0.0, 0.0, 0.0, 0.0, 0.19103313840155944, 0.0, 0.2046783625730994, 0.15789473684210525, 0.0, 0.0, 0.0, 0.0, 0.0, 0.0, 0.0, 0.0, 0.0, 0.0, 0.0, 0.0, 0.0, 0.14814814814814814, 0.0, 0.0, 0.09941520467836257, 0.0, 0.0, 0.0, 0.0, 0.0, 0.0, 0.0, 0.03898635477582846, 0.15984405458089668, 0.0, 0.0, 0.0], \"num_examples\": 513.0}, \"condition\": {\"type\": \"CATEGORICAL_IS_IN\", \"attribute\": \"Symptom_12\", \"mask\": [\"0\", \" palpitations\"]}, \"children\": [{\"value\": {\"type\": \"PROBABILITY\", \"distribution\": [0.0, 0.0, 0.0, 0.0, 0.0, 0.0, 0.0, 0.0, 0.31921824104234525, 0.0, 0.0, 0.0, 0.0, 0.0, 0.0, 0.0, 0.0, 0.0, 0.0, 0.0, 0.0, 0.0, 0.0, 0.0, 0.0, 0.247557003257329, 0.0, 0.0, 0.16612377850162866, 0.0, 0.0, 0.0, 0.0, 0.0, 0.0, 0.0, 0.0, 0.2671009771986971, 0.0, 0.0, 0.0], \"num_examples\": 307.0}, \"condition\": {\"type\": \"CATEGORICAL_IS_IN\", \"attribute\": \"Symptom_9\", \"mask\": [\"0\", \" malaise\", \" swelled_lymph_nodes\"]}}, {\"value\": {\"type\": \"PROBABILITY\", \"distribution\": [0.0, 0.0, 0.0, 0.0, 0.0, 0.0, 0.0, 0.0, 0.0, 0.0, 0.5097087378640777, 0.3932038834951456, 0.0, 0.0, 0.0, 0.0, 0.0, 0.0, 0.0, 0.0, 0.0, 0.0, 0.0, 0.0, 0.0, 0.0, 0.0, 0.0, 0.0, 0.0, 0.0, 0.0, 0.0, 0.0, 0.0, 0.0, 0.0970873786407767, 0.0, 0.0, 0.0, 0.0], \"num_examples\": 206.0}, \"condition\": {\"type\": \"CATEGORICAL_IS_IN\", \"attribute\": \"Symptom_7\", \"mask\": [\" malaise\", \" swelled_lymph_nodes\"]}}]}, {\"value\": {\"type\": \"PROBABILITY\", \"distribution\": [0.0, 0.0, 0.0, 0.0, 0.0, 0.0, 0.0, 0.0, 0.0, 0.0, 0.0, 0.0, 0.10253699788583509, 0.0, 0.0, 0.0, 0.0, 0.0, 0.0, 0.09090909090909091, 0.0, 0.11522198731501057, 0.0919661733615222, 0.0, 0.10253699788583509, 0.0200845665961945, 0.113107822410148, 0.0, 0.0, 0.0, 0.09090909090909091, 0.0, 0.0, 0.0, 0.10465116279069768, 0.0, 0.06976744186046512, 0.008456659619450317, 0.0, 0.0, 0.08985200845665962], \"num_examples\": 946.0}, \"condition\": {\"type\": \"CATEGORICAL_IS_IN\", \"attribute\": \"Symptom_2\", \"mask\": [\" vomiting\", \" fatigue\", \" yellowish_skin\", \" lethargy\"]}, \"children\": [{\"value\": {\"type\": \"PROBABILITY\", \"distribution\": [0.0, 0.0, 0.0, 0.0, 0.0, 0.0, 0.0, 0.0, 0.0, 0.0, 0.0, 0.0, 0.0, 0.0, 0.0, 0.0, 0.0, 0.0, 0.0, 0.15925925925925927, 0.0, 0.20185185185185187, 0.16111111111111112, 0.0, 0.0, 0.022222222222222223, 0.0, 0.0, 0.0, 0.0, 0.0, 0.0, 0.0, 0.0, 0.16111111111111112, 0.0, 0.12222222222222222, 0.014814814814814815, 0.0, 0.0, 0.1574074074074074], \"num_examples\": 540.0}, \"condition\": {\"type\": \"CATEGORICAL_IS_IN\", \"attribute\": \"Symptom_10\", \"mask\": [\"0\", \" fast_heart_rate\", \" rusty_sputum\", \" belly_pain\"]}}, {\"value\": {\"type\": \"PROBABILITY\", \"distribution\": [0.0, 0.0, 0.0, 0.0, 0.0, 0.0, 0.0, 0.0, 0.0, 0.0, 0.0, 0.0, 0.23891625615763548, 0.0, 0.0, 0.0, 0.0, 0.0, 0.0, 0.0, 0.0, 0.0, 0.0, 0.0, 0.23891625615763548, 0.017241379310344827, 0.26354679802955666, 0.0, 0.0, 0.0, 0.21182266009852216, 0.0, 0.0, 0.0, 0.029556650246305417, 0.0, 0.0, 0.0, 0.0, 0.0, 0.0], \"num_examples\": 406.0}, \"condition\": {\"type\": \"CATEGORICAL_IS_IN\", \"attribute\": \"Symptom_10\", \"mask\": [\"0\", \" polyuria\"]}}]}]}]}, \"#tree_plot_4d219cc6615a4434853deb2956c65398\")\n",
              "</script>\n"
            ],
            "text/plain": [
              "<IPython.core.display.HTML object>"
            ]
          },
          "metadata": {
            "tags": []
          },
          "execution_count": 14
        }
      ]
    },
    {
      "cell_type": "code",
      "metadata": {
        "id": "pTTmajSxg9Nx"
      },
      "source": [
        "predictions = model.predict(test_ds)"
      ],
      "execution_count": 15,
      "outputs": []
    },
    {
      "cell_type": "code",
      "metadata": {
        "colab": {
          "base_uri": "https://localhost:8080/"
        },
        "id": "YJSc66KphYDk",
        "outputId": "6120bbf5-5675-4c03-fb45-c6a4879a5356"
      },
      "source": [
        "print(predictions)"
      ],
      "execution_count": 16,
      "outputs": [
        {
          "output_type": "stream",
          "text": [
            "[[0.99999917 0.         0.         ... 0.         0.         0.        ]\n",
            " [0.99999917 0.         0.         ... 0.         0.         0.        ]\n",
            " [0.99999917 0.         0.         ... 0.         0.         0.        ]\n",
            " ...\n",
            " [0.         0.         0.         ... 0.         0.         0.99999917]\n",
            " [0.         0.         0.         ... 0.         0.         0.99999917]\n",
            " [0.         0.         0.         ... 0.         0.         0.99999917]]\n"
          ],
          "name": "stdout"
        }
      ]
    },
    {
      "cell_type": "code",
      "metadata": {
        "colab": {
          "base_uri": "https://localhost:8080/"
        },
        "id": "78DFXHj8hZr1",
        "outputId": "e94b5b0b-0b9b-4d10-98ba-11d1f99bfca6"
      },
      "source": [
        "len(predictions[0])"
      ],
      "execution_count": 19,
      "outputs": [
        {
          "output_type": "execute_result",
          "data": {
            "text/plain": [
              "41"
            ]
          },
          "metadata": {
            "tags": []
          },
          "execution_count": 19
        }
      ]
    },
    {
      "cell_type": "code",
      "metadata": {
        "colab": {
          "base_uri": "https://localhost:8080/"
        },
        "id": "vc3qdHkMhdAe",
        "outputId": "73dd6ffd-9efd-4e49-ee5f-bf534b76872b"
      },
      "source": [
        "predictions"
      ],
      "execution_count": 20,
      "outputs": [
        {
          "output_type": "execute_result",
          "data": {
            "text/plain": [
              "array([[0.99999917, 0.        , 0.        , ..., 0.        , 0.        ,\n",
              "        0.        ],\n",
              "       [0.99999917, 0.        , 0.        , ..., 0.        , 0.        ,\n",
              "        0.        ],\n",
              "       [0.99999917, 0.        , 0.        , ..., 0.        , 0.        ,\n",
              "        0.        ],\n",
              "       ...,\n",
              "       [0.        , 0.        , 0.        , ..., 0.        , 0.        ,\n",
              "        0.99999917],\n",
              "       [0.        , 0.        , 0.        , ..., 0.        , 0.        ,\n",
              "        0.99999917],\n",
              "       [0.        , 0.        , 0.        , ..., 0.        , 0.        ,\n",
              "        0.99999917]], dtype=float32)"
            ]
          },
          "metadata": {
            "tags": []
          },
          "execution_count": 20
        }
      ]
    },
    {
      "cell_type": "code",
      "metadata": {
        "colab": {
          "base_uri": "https://localhost:8080/"
        },
        "id": "_i_phkiPiA5e",
        "outputId": "c5658c31-4b4a-4e3f-a6b6-62f33a6919ac"
      },
      "source": [
        "model.save(\"/content/drive/Shareddrives/Capstone Victor/TFDF\")"
      ],
      "execution_count": 21,
      "outputs": [
        {
          "output_type": "stream",
          "text": [
            "WARNING:absl:Function `_wrapped_model` contains input name(s) Symptom_1, Symptom_10, Symptom_11, Symptom_12, Symptom_13, Symptom_14, Symptom_15, Symptom_16, Symptom_17, Symptom_2, Symptom_3, Symptom_4, Symptom_5, Symptom_6, Symptom_7, Symptom_8, Symptom_9 with unsupported characters which will be renamed to symptom_1, symptom_10, symptom_11, symptom_12, symptom_13, symptom_14, symptom_15, symptom_16, symptom_17, symptom_2, symptom_3, symptom_4, symptom_5, symptom_6, symptom_7, symptom_8, symptom_9 in the SavedModel.\n"
          ],
          "name": "stderr"
        },
        {
          "output_type": "stream",
          "text": [
            "INFO:tensorflow:Assets written to: /content/drive/Shareddrives/Capstone Victor/TFDF/assets\n"
          ],
          "name": "stdout"
        },
        {
          "output_type": "stream",
          "text": [
            "INFO:tensorflow:Assets written to: /content/drive/Shareddrives/Capstone Victor/TFDF/assets\n"
          ],
          "name": "stderr"
        }
      ]
    }
  ]
}