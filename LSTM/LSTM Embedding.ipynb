{
 "cells": [
  {
   "cell_type": "code",
   "execution_count": 1,
   "id": "2b797981",
   "metadata": {
    "ExecuteTime": {
     "end_time": "2021-05-30T08:49:49.956074Z",
     "start_time": "2021-05-30T08:49:46.049962Z"
    }
   },
   "outputs": [],
   "source": [
    "import tensorflow as tf\n",
    "import pandas as pd\n",
    "import lux \n",
    "import numpy as np\n",
    "import matplotlib.pyplot as plt\n",
    "from sklearn.preprocessing import LabelEncoder"
   ]
  },
  {
   "cell_type": "code",
   "execution_count": 3,
   "id": "bfe1b23b",
   "metadata": {
    "ExecuteTime": {
     "end_time": "2021-05-30T08:50:08.839878Z",
     "start_time": "2021-05-30T08:50:08.758878Z"
    }
   },
   "outputs": [
    {
     "name": "stdout",
     "output_type": "stream",
     "text": [
      "<class 'lux.core.frame.LuxDataFrame'>\n",
      "RangeIndex: 4920 entries, 0 to 4919\n",
      "Data columns (total 18 columns):\n",
      " #   Column      Non-Null Count  Dtype   \n",
      "---  ------      --------------  -----   \n",
      " 0   Disease     4920 non-null   category\n",
      " 1   Symptom_1   4920 non-null   category\n",
      " 2   Symptom_2   4920 non-null   category\n",
      " 3   Symptom_3   4920 non-null   category\n",
      " 4   Symptom_4   4920 non-null   category\n",
      " 5   Symptom_5   4920 non-null   category\n",
      " 6   Symptom_6   4920 non-null   category\n",
      " 7   Symptom_7   4920 non-null   category\n",
      " 8   Symptom_8   4920 non-null   category\n",
      " 9   Symptom_9   4920 non-null   category\n",
      " 10  Symptom_10  4920 non-null   category\n",
      " 11  Symptom_11  4920 non-null   category\n",
      " 12  Symptom_12  4920 non-null   category\n",
      " 13  Symptom_13  4920 non-null   category\n",
      " 14  Symptom_14  4920 non-null   category\n",
      " 15  Symptom_15  4920 non-null   category\n",
      " 16  Symptom_16  4920 non-null   category\n",
      " 17  Symptom_17  4920 non-null   category\n",
      "dtypes: category(18)\n",
      "memory usage: 103.9 KB\n"
     ]
    }
   ],
   "source": [
    "df = pd.read_csv(\"dataset.csv\").fillna(\"0\").sort_values(\"Disease\").reset_index(drop=True)\n",
    "cat_col = df.select_dtypes(\"object\").columns\n",
    "df = df[cat_col].astype(\"category\")\n",
    "df.info()"
   ]
  },
  {
   "cell_type": "code",
   "execution_count": 4,
   "id": "71c4cbc8",
   "metadata": {
    "ExecuteTime": {
     "end_time": "2021-05-30T08:50:11.133030Z",
     "start_time": "2021-05-30T08:50:11.044991Z"
    }
   },
   "outputs": [
    {
     "data": {
      "text/html": [
       "<div>\n",
       "<style scoped>\n",
       "    .dataframe tbody tr th:only-of-type {\n",
       "        vertical-align: middle;\n",
       "    }\n",
       "\n",
       "    .dataframe tbody tr th {\n",
       "        vertical-align: top;\n",
       "    }\n",
       "\n",
       "    .dataframe thead th {\n",
       "        text-align: right;\n",
       "    }\n",
       "</style>\n",
       "<table border=\"1\" class=\"dataframe\">\n",
       "  <thead>\n",
       "    <tr style=\"text-align: right;\">\n",
       "      <th></th>\n",
       "      <th>index</th>\n",
       "      <th>cardinality</th>\n",
       "    </tr>\n",
       "  </thead>\n",
       "  <tbody>\n",
       "    <tr>\n",
       "      <th>0</th>\n",
       "      <td>Disease</td>\n",
       "      <td>41</td>\n",
       "    </tr>\n",
       "    <tr>\n",
       "      <th>1</th>\n",
       "      <td>Symptom_1</td>\n",
       "      <td>34</td>\n",
       "    </tr>\n",
       "    <tr>\n",
       "      <th>2</th>\n",
       "      <td>Symptom_2</td>\n",
       "      <td>48</td>\n",
       "    </tr>\n",
       "    <tr>\n",
       "      <th>3</th>\n",
       "      <td>Symptom_3</td>\n",
       "      <td>54</td>\n",
       "    </tr>\n",
       "    <tr>\n",
       "      <th>4</th>\n",
       "      <td>Symptom_4</td>\n",
       "      <td>51</td>\n",
       "    </tr>\n",
       "    <tr>\n",
       "      <th>5</th>\n",
       "      <td>Symptom_5</td>\n",
       "      <td>39</td>\n",
       "    </tr>\n",
       "    <tr>\n",
       "      <th>6</th>\n",
       "      <td>Symptom_6</td>\n",
       "      <td>33</td>\n",
       "    </tr>\n",
       "    <tr>\n",
       "      <th>7</th>\n",
       "      <td>Symptom_7</td>\n",
       "      <td>27</td>\n",
       "    </tr>\n",
       "    <tr>\n",
       "      <th>8</th>\n",
       "      <td>Symptom_8</td>\n",
       "      <td>22</td>\n",
       "    </tr>\n",
       "    <tr>\n",
       "      <th>9</th>\n",
       "      <td>Symptom_9</td>\n",
       "      <td>23</td>\n",
       "    </tr>\n",
       "    <tr>\n",
       "      <th>10</th>\n",
       "      <td>Symptom_10</td>\n",
       "      <td>22</td>\n",
       "    </tr>\n",
       "    <tr>\n",
       "      <th>11</th>\n",
       "      <td>Symptom_11</td>\n",
       "      <td>19</td>\n",
       "    </tr>\n",
       "    <tr>\n",
       "      <th>12</th>\n",
       "      <td>Symptom_12</td>\n",
       "      <td>12</td>\n",
       "    </tr>\n",
       "    <tr>\n",
       "      <th>13</th>\n",
       "      <td>Symptom_13</td>\n",
       "      <td>9</td>\n",
       "    </tr>\n",
       "    <tr>\n",
       "      <th>14</th>\n",
       "      <td>Symptom_14</td>\n",
       "      <td>5</td>\n",
       "    </tr>\n",
       "    <tr>\n",
       "      <th>15</th>\n",
       "      <td>Symptom_15</td>\n",
       "      <td>4</td>\n",
       "    </tr>\n",
       "    <tr>\n",
       "      <th>16</th>\n",
       "      <td>Symptom_16</td>\n",
       "      <td>4</td>\n",
       "    </tr>\n",
       "    <tr>\n",
       "      <th>17</th>\n",
       "      <td>Symptom_17</td>\n",
       "      <td>2</td>\n",
       "    </tr>\n",
       "  </tbody>\n",
       "</table>\n",
       "</div>"
      ],
      "text/plain": [
       "         index  cardinality\n",
       "0      Disease           41\n",
       "1    Symptom_1           34\n",
       "2    Symptom_2           48\n",
       "3    Symptom_3           54\n",
       "4    Symptom_4           51\n",
       "5    Symptom_5           39\n",
       "6    Symptom_6           33\n",
       "7    Symptom_7           27\n",
       "8    Symptom_8           22\n",
       "9    Symptom_9           23\n",
       "10  Symptom_10           22\n",
       "11  Symptom_11           19\n",
       "12  Symptom_12           12\n",
       "13  Symptom_13            9\n",
       "14  Symptom_14            5\n",
       "15  Symptom_15            4\n",
       "16  Symptom_16            4\n",
       "17  Symptom_17            2"
      ]
     },
     "metadata": {},
     "output_type": "display_data"
    },
    {
     "data": {
      "text/plain": []
     },
     "execution_count": 4,
     "metadata": {},
     "output_type": "execute_result"
    }
   ],
   "source": [
    "df[cat_col].nunique().reset_index(name='cardinality')"
   ]
  },
  {
   "cell_type": "code",
   "execution_count": 5,
   "id": "c00a1ae1",
   "metadata": {
    "ExecuteTime": {
     "end_time": "2021-05-30T08:50:13.509987Z",
     "start_time": "2021-05-30T08:50:13.498987Z"
    }
   },
   "outputs": [
    {
     "data": {
      "text/plain": [
       "133"
      ]
     },
     "execution_count": 5,
     "metadata": {},
     "output_type": "execute_result"
    }
   ],
   "source": [
    "data_encoder = LabelEncoder()\n",
    "sym = pd.read_csv(\"symptom_severity.csv\").Symptom\n",
    "sym = list(sym) + [\"0\"]\n",
    "data_encoder = data_encoder.fit(sym)\n",
    "len(data_encoder.classes_)"
   ]
  },
  {
   "cell_type": "code",
   "execution_count": 6,
   "id": "63f4ffd0",
   "metadata": {
    "ExecuteTime": {
     "end_time": "2021-05-30T08:50:15.236312Z",
     "start_time": "2021-05-30T08:50:15.197313Z"
    }
   },
   "outputs": [],
   "source": [
    "for col in cat_col:\n",
    "    df[col] = df[col].str.replace(\" \", \"\")\n",
    "#df.to_csv(\"clean_dataset.csv\", index=False)"
   ]
  },
  {
   "cell_type": "code",
   "execution_count": 7,
   "id": "e9a803e3",
   "metadata": {
    "ExecuteTime": {
     "end_time": "2021-05-30T08:50:16.508031Z",
     "start_time": "2021-05-30T08:50:16.471001Z"
    }
   },
   "outputs": [],
   "source": [
    "for col in cat_col[1:]:\n",
    "    df[col] = data_encoder.transform(df[col])"
   ]
  },
  {
   "cell_type": "code",
   "execution_count": 8,
   "id": "26a60042",
   "metadata": {
    "ExecuteTime": {
     "end_time": "2021-05-30T08:50:18.230133Z",
     "start_time": "2021-05-30T08:50:18.212132Z"
    }
   },
   "outputs": [
    {
     "data": {
      "text/html": [
       "<div>\n",
       "<style scoped>\n",
       "    .dataframe tbody tr th:only-of-type {\n",
       "        vertical-align: middle;\n",
       "    }\n",
       "\n",
       "    .dataframe tbody tr th {\n",
       "        vertical-align: top;\n",
       "    }\n",
       "\n",
       "    .dataframe thead th {\n",
       "        text-align: right;\n",
       "    }\n",
       "</style>\n",
       "<table border=\"1\" class=\"dataframe\">\n",
       "  <thead>\n",
       "    <tr style=\"text-align: right;\">\n",
       "      <th></th>\n",
       "      <th>Disease</th>\n",
       "      <th>Symptom_1</th>\n",
       "      <th>Symptom_2</th>\n",
       "      <th>Symptom_3</th>\n",
       "      <th>Symptom_4</th>\n",
       "      <th>Symptom_5</th>\n",
       "      <th>Symptom_6</th>\n",
       "      <th>Symptom_7</th>\n",
       "      <th>Symptom_8</th>\n",
       "      <th>Symptom_9</th>\n",
       "      <th>Symptom_10</th>\n",
       "      <th>Symptom_11</th>\n",
       "      <th>Symptom_12</th>\n",
       "      <th>Symptom_13</th>\n",
       "      <th>Symptom_14</th>\n",
       "      <th>Symptom_15</th>\n",
       "      <th>Symptom_16</th>\n",
       "      <th>Symptom_17</th>\n",
       "    </tr>\n",
       "  </thead>\n",
       "  <tbody>\n",
       "    <tr>\n",
       "      <th>0</th>\n",
       "      <td>(vertigo)ParoymsalPositionalVertigo</td>\n",
       "      <td>123</td>\n",
       "      <td>45</td>\n",
       "      <td>72</td>\n",
       "      <td>105</td>\n",
       "      <td>121</td>\n",
       "      <td>0</td>\n",
       "      <td>0</td>\n",
       "      <td>0</td>\n",
       "      <td>0</td>\n",
       "      <td>0</td>\n",
       "      <td>0</td>\n",
       "      <td>0</td>\n",
       "      <td>0</td>\n",
       "      <td>0</td>\n",
       "      <td>0</td>\n",
       "      <td>0</td>\n",
       "      <td>0</td>\n",
       "    </tr>\n",
       "    <tr>\n",
       "      <th>1</th>\n",
       "      <td>(vertigo)ParoymsalPositionalVertigo</td>\n",
       "      <td>123</td>\n",
       "      <td>45</td>\n",
       "      <td>72</td>\n",
       "      <td>105</td>\n",
       "      <td>62</td>\n",
       "      <td>121</td>\n",
       "      <td>0</td>\n",
       "      <td>0</td>\n",
       "      <td>0</td>\n",
       "      <td>0</td>\n",
       "      <td>0</td>\n",
       "      <td>0</td>\n",
       "      <td>0</td>\n",
       "      <td>0</td>\n",
       "      <td>0</td>\n",
       "      <td>0</td>\n",
       "      <td>0</td>\n",
       "    </tr>\n",
       "    <tr>\n",
       "      <th>2</th>\n",
       "      <td>(vertigo)ParoymsalPositionalVertigo</td>\n",
       "      <td>123</td>\n",
       "      <td>45</td>\n",
       "      <td>72</td>\n",
       "      <td>105</td>\n",
       "      <td>62</td>\n",
       "      <td>0</td>\n",
       "      <td>0</td>\n",
       "      <td>0</td>\n",
       "      <td>0</td>\n",
       "      <td>0</td>\n",
       "      <td>0</td>\n",
       "      <td>0</td>\n",
       "      <td>0</td>\n",
       "      <td>0</td>\n",
       "      <td>0</td>\n",
       "      <td>0</td>\n",
       "      <td>0</td>\n",
       "    </tr>\n",
       "    <tr>\n",
       "      <th>3</th>\n",
       "      <td>(vertigo)ParoymsalPositionalVertigo</td>\n",
       "      <td>123</td>\n",
       "      <td>45</td>\n",
       "      <td>72</td>\n",
       "      <td>105</td>\n",
       "      <td>62</td>\n",
       "      <td>121</td>\n",
       "      <td>0</td>\n",
       "      <td>0</td>\n",
       "      <td>0</td>\n",
       "      <td>0</td>\n",
       "      <td>0</td>\n",
       "      <td>0</td>\n",
       "      <td>0</td>\n",
       "      <td>0</td>\n",
       "      <td>0</td>\n",
       "      <td>0</td>\n",
       "      <td>0</td>\n",
       "    </tr>\n",
       "    <tr>\n",
       "      <th>4</th>\n",
       "      <td>(vertigo)ParoymsalPositionalVertigo</td>\n",
       "      <td>123</td>\n",
       "      <td>45</td>\n",
       "      <td>72</td>\n",
       "      <td>105</td>\n",
       "      <td>62</td>\n",
       "      <td>121</td>\n",
       "      <td>0</td>\n",
       "      <td>0</td>\n",
       "      <td>0</td>\n",
       "      <td>0</td>\n",
       "      <td>0</td>\n",
       "      <td>0</td>\n",
       "      <td>0</td>\n",
       "      <td>0</td>\n",
       "      <td>0</td>\n",
       "      <td>0</td>\n",
       "      <td>0</td>\n",
       "    </tr>\n",
       "  </tbody>\n",
       "</table>\n",
       "</div>"
      ],
      "text/plain": [
       "                               Disease  Symptom_1  Symptom_2  Symptom_3  \\\n",
       "0  (vertigo)ParoymsalPositionalVertigo        123         45         72   \n",
       "1  (vertigo)ParoymsalPositionalVertigo        123         45         72   \n",
       "2  (vertigo)ParoymsalPositionalVertigo        123         45         72   \n",
       "3  (vertigo)ParoymsalPositionalVertigo        123         45         72   \n",
       "4  (vertigo)ParoymsalPositionalVertigo        123         45         72   \n",
       "\n",
       "   Symptom_4  Symptom_5  Symptom_6  Symptom_7  Symptom_8  Symptom_9  \\\n",
       "0        105        121          0          0          0          0   \n",
       "1        105         62        121          0          0          0   \n",
       "2        105         62          0          0          0          0   \n",
       "3        105         62        121          0          0          0   \n",
       "4        105         62        121          0          0          0   \n",
       "\n",
       "   Symptom_10  Symptom_11  Symptom_12  Symptom_13  Symptom_14  Symptom_15  \\\n",
       "0           0           0           0           0           0           0   \n",
       "1           0           0           0           0           0           0   \n",
       "2           0           0           0           0           0           0   \n",
       "3           0           0           0           0           0           0   \n",
       "4           0           0           0           0           0           0   \n",
       "\n",
       "   Symptom_16  Symptom_17  \n",
       "0           0           0  \n",
       "1           0           0  \n",
       "2           0           0  \n",
       "3           0           0  \n",
       "4           0           0  "
      ]
     },
     "metadata": {},
     "output_type": "display_data"
    },
    {
     "data": {
      "text/plain": []
     },
     "execution_count": 8,
     "metadata": {},
     "output_type": "execute_result"
    }
   ],
   "source": [
    "df.head()"
   ]
  },
  {
   "cell_type": "code",
   "execution_count": 9,
   "id": "1ba5e1df",
   "metadata": {
    "ExecuteTime": {
     "end_time": "2021-05-30T08:50:19.891500Z",
     "start_time": "2021-05-30T08:50:19.869523Z"
    }
   },
   "outputs": [
    {
     "data": {
      "text/plain": [
       "[29, 92, 88, 17, 5, 89, 12, 46, 37, 107]"
      ]
     },
     "execution_count": 9,
     "metadata": {},
     "output_type": "execute_result"
    }
   ],
   "source": [
    "training_index = []\n",
    "for x in df.index:\n",
    "    if x % 120 == 0 and x != 0:\n",
    "        for y in np.random.choice(df[x-120:x].index, size=(24)):\n",
    "            training_index.append(y)\n",
    "len(training_index)\n",
    "training_index[0:10]"
   ]
  },
  {
   "cell_type": "code",
   "execution_count": 10,
   "id": "ef21712b",
   "metadata": {
    "ExecuteTime": {
     "end_time": "2021-05-30T08:50:21.282009Z",
     "start_time": "2021-05-30T08:50:21.266003Z"
    }
   },
   "outputs": [
    {
     "data": {
      "text/html": [
       "<div>\n",
       "<style scoped>\n",
       "    .dataframe tbody tr th:only-of-type {\n",
       "        vertical-align: middle;\n",
       "    }\n",
       "\n",
       "    .dataframe tbody tr th {\n",
       "        vertical-align: top;\n",
       "    }\n",
       "\n",
       "    .dataframe thead th {\n",
       "        text-align: right;\n",
       "    }\n",
       "</style>\n",
       "<table border=\"1\" class=\"dataframe\">\n",
       "  <thead>\n",
       "    <tr style=\"text-align: right;\">\n",
       "      <th></th>\n",
       "      <th>Disease</th>\n",
       "      <th>Symptom_1</th>\n",
       "      <th>Symptom_2</th>\n",
       "      <th>Symptom_3</th>\n",
       "      <th>Symptom_4</th>\n",
       "      <th>Symptom_5</th>\n",
       "      <th>Symptom_6</th>\n",
       "      <th>Symptom_7</th>\n",
       "      <th>Symptom_8</th>\n",
       "      <th>Symptom_9</th>\n",
       "      <th>Symptom_10</th>\n",
       "      <th>Symptom_11</th>\n",
       "      <th>Symptom_12</th>\n",
       "      <th>Symptom_13</th>\n",
       "      <th>Symptom_14</th>\n",
       "      <th>Symptom_15</th>\n",
       "      <th>Symptom_16</th>\n",
       "      <th>Symptom_17</th>\n",
       "    </tr>\n",
       "  </thead>\n",
       "  <tbody>\n",
       "    <tr>\n",
       "      <th>4915</th>\n",
       "      <td>hepatitisA</td>\n",
       "      <td>57</td>\n",
       "      <td>123</td>\n",
       "      <td>132</td>\n",
       "      <td>29</td>\n",
       "      <td>72</td>\n",
       "      <td>61</td>\n",
       "      <td>1</td>\n",
       "      <td>32</td>\n",
       "      <td>65</td>\n",
       "      <td>131</td>\n",
       "      <td>69</td>\n",
       "      <td>0</td>\n",
       "      <td>0</td>\n",
       "      <td>0</td>\n",
       "      <td>0</td>\n",
       "      <td>0</td>\n",
       "      <td>0</td>\n",
       "    </tr>\n",
       "    <tr>\n",
       "      <th>4916</th>\n",
       "      <td>hepatitisA</td>\n",
       "      <td>57</td>\n",
       "      <td>123</td>\n",
       "      <td>132</td>\n",
       "      <td>29</td>\n",
       "      <td>72</td>\n",
       "      <td>61</td>\n",
       "      <td>1</td>\n",
       "      <td>32</td>\n",
       "      <td>65</td>\n",
       "      <td>131</td>\n",
       "      <td>69</td>\n",
       "      <td>0</td>\n",
       "      <td>0</td>\n",
       "      <td>0</td>\n",
       "      <td>0</td>\n",
       "      <td>0</td>\n",
       "      <td>0</td>\n",
       "    </tr>\n",
       "    <tr>\n",
       "      <th>4917</th>\n",
       "      <td>hepatitisA</td>\n",
       "      <td>57</td>\n",
       "      <td>123</td>\n",
       "      <td>132</td>\n",
       "      <td>29</td>\n",
       "      <td>72</td>\n",
       "      <td>61</td>\n",
       "      <td>1</td>\n",
       "      <td>32</td>\n",
       "      <td>65</td>\n",
       "      <td>131</td>\n",
       "      <td>69</td>\n",
       "      <td>0</td>\n",
       "      <td>0</td>\n",
       "      <td>0</td>\n",
       "      <td>0</td>\n",
       "      <td>0</td>\n",
       "      <td>0</td>\n",
       "    </tr>\n",
       "    <tr>\n",
       "      <th>4918</th>\n",
       "      <td>hepatitisA</td>\n",
       "      <td>57</td>\n",
       "      <td>123</td>\n",
       "      <td>132</td>\n",
       "      <td>29</td>\n",
       "      <td>72</td>\n",
       "      <td>61</td>\n",
       "      <td>1</td>\n",
       "      <td>32</td>\n",
       "      <td>65</td>\n",
       "      <td>131</td>\n",
       "      <td>69</td>\n",
       "      <td>0</td>\n",
       "      <td>0</td>\n",
       "      <td>0</td>\n",
       "      <td>0</td>\n",
       "      <td>0</td>\n",
       "      <td>0</td>\n",
       "    </tr>\n",
       "    <tr>\n",
       "      <th>4919</th>\n",
       "      <td>hepatitisA</td>\n",
       "      <td>57</td>\n",
       "      <td>123</td>\n",
       "      <td>132</td>\n",
       "      <td>29</td>\n",
       "      <td>61</td>\n",
       "      <td>1</td>\n",
       "      <td>32</td>\n",
       "      <td>65</td>\n",
       "      <td>131</td>\n",
       "      <td>69</td>\n",
       "      <td>0</td>\n",
       "      <td>0</td>\n",
       "      <td>0</td>\n",
       "      <td>0</td>\n",
       "      <td>0</td>\n",
       "      <td>0</td>\n",
       "      <td>0</td>\n",
       "    </tr>\n",
       "  </tbody>\n",
       "</table>\n",
       "</div>"
      ],
      "text/plain": [
       "         Disease  Symptom_1  Symptom_2  Symptom_3  Symptom_4  Symptom_5  \\\n",
       "4915  hepatitisA         57        123        132         29         72   \n",
       "4916  hepatitisA         57        123        132         29         72   \n",
       "4917  hepatitisA         57        123        132         29         72   \n",
       "4918  hepatitisA         57        123        132         29         72   \n",
       "4919  hepatitisA         57        123        132         29         61   \n",
       "\n",
       "      Symptom_6  Symptom_7  Symptom_8  Symptom_9  Symptom_10  Symptom_11  \\\n",
       "4915         61          1         32         65         131          69   \n",
       "4916         61          1         32         65         131          69   \n",
       "4917         61          1         32         65         131          69   \n",
       "4918         61          1         32         65         131          69   \n",
       "4919          1         32         65        131          69           0   \n",
       "\n",
       "      Symptom_12  Symptom_13  Symptom_14  Symptom_15  Symptom_16  Symptom_17  \n",
       "4915           0           0           0           0           0           0  \n",
       "4916           0           0           0           0           0           0  \n",
       "4917           0           0           0           0           0           0  \n",
       "4918           0           0           0           0           0           0  \n",
       "4919           0           0           0           0           0           0  "
      ]
     },
     "metadata": {},
     "output_type": "display_data"
    },
    {
     "data": {
      "text/plain": []
     },
     "execution_count": 10,
     "metadata": {},
     "output_type": "execute_result"
    }
   ],
   "source": [
    "training_data = df.drop(training_index)\n",
    "training_data.tail()"
   ]
  },
  {
   "cell_type": "code",
   "execution_count": 11,
   "id": "dcc68277",
   "metadata": {
    "ExecuteTime": {
     "end_time": "2021-05-30T08:50:22.833446Z",
     "start_time": "2021-05-30T08:50:22.809402Z"
    }
   },
   "outputs": [
    {
     "data": {
      "text/html": [
       "<div>\n",
       "<style scoped>\n",
       "    .dataframe tbody tr th:only-of-type {\n",
       "        vertical-align: middle;\n",
       "    }\n",
       "\n",
       "    .dataframe tbody tr th {\n",
       "        vertical-align: top;\n",
       "    }\n",
       "\n",
       "    .dataframe thead th {\n",
       "        text-align: right;\n",
       "    }\n",
       "</style>\n",
       "<table border=\"1\" class=\"dataframe\">\n",
       "  <thead>\n",
       "    <tr style=\"text-align: right;\">\n",
       "      <th></th>\n",
       "      <th>Disease</th>\n",
       "      <th>Symptom_1</th>\n",
       "      <th>Symptom_2</th>\n",
       "      <th>Symptom_3</th>\n",
       "      <th>Symptom_4</th>\n",
       "      <th>Symptom_5</th>\n",
       "      <th>Symptom_6</th>\n",
       "      <th>Symptom_7</th>\n",
       "      <th>Symptom_8</th>\n",
       "      <th>Symptom_9</th>\n",
       "      <th>Symptom_10</th>\n",
       "      <th>Symptom_11</th>\n",
       "      <th>Symptom_12</th>\n",
       "      <th>Symptom_13</th>\n",
       "      <th>Symptom_14</th>\n",
       "      <th>Symptom_15</th>\n",
       "      <th>Symptom_16</th>\n",
       "      <th>Symptom_17</th>\n",
       "    </tr>\n",
       "  </thead>\n",
       "  <tbody>\n",
       "    <tr>\n",
       "      <th>29</th>\n",
       "      <td>(vertigo)ParoymsalPositionalVertigo</td>\n",
       "      <td>123</td>\n",
       "      <td>45</td>\n",
       "      <td>72</td>\n",
       "      <td>105</td>\n",
       "      <td>62</td>\n",
       "      <td>121</td>\n",
       "      <td>0</td>\n",
       "      <td>0</td>\n",
       "      <td>0</td>\n",
       "      <td>0</td>\n",
       "      <td>0</td>\n",
       "      <td>0</td>\n",
       "      <td>0</td>\n",
       "      <td>0</td>\n",
       "      <td>0</td>\n",
       "      <td>0</td>\n",
       "      <td>0</td>\n",
       "    </tr>\n",
       "    <tr>\n",
       "      <th>92</th>\n",
       "      <td>(vertigo)ParoymsalPositionalVertigo</td>\n",
       "      <td>123</td>\n",
       "      <td>45</td>\n",
       "      <td>72</td>\n",
       "      <td>105</td>\n",
       "      <td>62</td>\n",
       "      <td>121</td>\n",
       "      <td>0</td>\n",
       "      <td>0</td>\n",
       "      <td>0</td>\n",
       "      <td>0</td>\n",
       "      <td>0</td>\n",
       "      <td>0</td>\n",
       "      <td>0</td>\n",
       "      <td>0</td>\n",
       "      <td>0</td>\n",
       "      <td>0</td>\n",
       "      <td>0</td>\n",
       "    </tr>\n",
       "    <tr>\n",
       "      <th>88</th>\n",
       "      <td>(vertigo)ParoymsalPositionalVertigo</td>\n",
       "      <td>123</td>\n",
       "      <td>45</td>\n",
       "      <td>72</td>\n",
       "      <td>105</td>\n",
       "      <td>62</td>\n",
       "      <td>121</td>\n",
       "      <td>0</td>\n",
       "      <td>0</td>\n",
       "      <td>0</td>\n",
       "      <td>0</td>\n",
       "      <td>0</td>\n",
       "      <td>0</td>\n",
       "      <td>0</td>\n",
       "      <td>0</td>\n",
       "      <td>0</td>\n",
       "      <td>0</td>\n",
       "      <td>0</td>\n",
       "    </tr>\n",
       "    <tr>\n",
       "      <th>17</th>\n",
       "      <td>(vertigo)ParoymsalPositionalVertigo</td>\n",
       "      <td>123</td>\n",
       "      <td>45</td>\n",
       "      <td>72</td>\n",
       "      <td>62</td>\n",
       "      <td>121</td>\n",
       "      <td>0</td>\n",
       "      <td>0</td>\n",
       "      <td>0</td>\n",
       "      <td>0</td>\n",
       "      <td>0</td>\n",
       "      <td>0</td>\n",
       "      <td>0</td>\n",
       "      <td>0</td>\n",
       "      <td>0</td>\n",
       "      <td>0</td>\n",
       "      <td>0</td>\n",
       "      <td>0</td>\n",
       "    </tr>\n",
       "    <tr>\n",
       "      <th>5</th>\n",
       "      <td>(vertigo)ParoymsalPositionalVertigo</td>\n",
       "      <td>123</td>\n",
       "      <td>45</td>\n",
       "      <td>72</td>\n",
       "      <td>105</td>\n",
       "      <td>62</td>\n",
       "      <td>121</td>\n",
       "      <td>0</td>\n",
       "      <td>0</td>\n",
       "      <td>0</td>\n",
       "      <td>0</td>\n",
       "      <td>0</td>\n",
       "      <td>0</td>\n",
       "      <td>0</td>\n",
       "      <td>0</td>\n",
       "      <td>0</td>\n",
       "      <td>0</td>\n",
       "      <td>0</td>\n",
       "    </tr>\n",
       "  </tbody>\n",
       "</table>\n",
       "</div>"
      ],
      "text/plain": [
       "                                Disease  Symptom_1  Symptom_2  Symptom_3  \\\n",
       "29  (vertigo)ParoymsalPositionalVertigo        123         45         72   \n",
       "92  (vertigo)ParoymsalPositionalVertigo        123         45         72   \n",
       "88  (vertigo)ParoymsalPositionalVertigo        123         45         72   \n",
       "17  (vertigo)ParoymsalPositionalVertigo        123         45         72   \n",
       "5   (vertigo)ParoymsalPositionalVertigo        123         45         72   \n",
       "\n",
       "    Symptom_4  Symptom_5  Symptom_6  Symptom_7  Symptom_8  Symptom_9  \\\n",
       "29        105         62        121          0          0          0   \n",
       "92        105         62        121          0          0          0   \n",
       "88        105         62        121          0          0          0   \n",
       "17         62        121          0          0          0          0   \n",
       "5         105         62        121          0          0          0   \n",
       "\n",
       "    Symptom_10  Symptom_11  Symptom_12  Symptom_13  Symptom_14  Symptom_15  \\\n",
       "29           0           0           0           0           0           0   \n",
       "92           0           0           0           0           0           0   \n",
       "88           0           0           0           0           0           0   \n",
       "17           0           0           0           0           0           0   \n",
       "5            0           0           0           0           0           0   \n",
       "\n",
       "    Symptom_16  Symptom_17  \n",
       "29           0           0  \n",
       "92           0           0  \n",
       "88           0           0  \n",
       "17           0           0  \n",
       "5            0           0  "
      ]
     },
     "metadata": {},
     "output_type": "display_data"
    },
    {
     "data": {
      "text/plain": []
     },
     "execution_count": 11,
     "metadata": {},
     "output_type": "execute_result"
    }
   ],
   "source": [
    "test_data = df.iloc[training_index]\n",
    "test_data.head()"
   ]
  },
  {
   "cell_type": "code",
   "execution_count": 12,
   "id": "4249b6f6",
   "metadata": {
    "ExecuteTime": {
     "end_time": "2021-05-30T08:50:24.401264Z",
     "start_time": "2021-05-30T08:50:24.382249Z"
    }
   },
   "outputs": [
    {
     "data": {
      "text/plain": [
       "array(['(vertigo)ParoymsalPositionalVertigo', 'AIDS', 'Acne',\n",
       "       'Alcoholichepatitis', 'Allergy', 'Arthritis', 'BronchialAsthma',\n",
       "       'Cervicalspondylosis', 'Chickenpox', 'Chroniccholestasis',\n",
       "       'CommonCold', 'Dengue', 'Diabetes', 'Dimorphichemmorhoids(piles)',\n",
       "       'DrugReaction', 'Fungalinfection', 'GERD', 'Gastroenteritis',\n",
       "       'Heartattack', 'HepatitisB', 'HepatitisC', 'HepatitisD',\n",
       "       'HepatitisE', 'Hypertension', 'Hyperthyroidism', 'Hypoglycemia',\n",
       "       'Hypothyroidism', 'Impetigo', 'Jaundice', 'Malaria', 'Migraine',\n",
       "       'Osteoarthristis', 'Paralysis(brainhemorrhage)',\n",
       "       'Pepticulcerdiseae', 'Pneumonia', 'Psoriasis', 'Tuberculosis',\n",
       "       'Typhoid', 'Urinarytractinfection', 'Varicoseveins', 'hepatitisA'],\n",
       "      dtype=object)"
      ]
     },
     "execution_count": 12,
     "metadata": {},
     "output_type": "execute_result"
    }
   ],
   "source": [
    "encoder = LabelEncoder()\n",
    "encoder = encoder.fit(df.Disease)\n",
    "encoder.classes_"
   ]
  },
  {
   "cell_type": "code",
   "execution_count": 13,
   "id": "2d8aacfc",
   "metadata": {
    "ExecuteTime": {
     "end_time": "2021-05-30T08:50:26.647902Z",
     "start_time": "2021-05-30T08:50:26.626648Z"
    }
   },
   "outputs": [
    {
     "data": {
      "text/plain": [
       "(4058, 17)"
      ]
     },
     "execution_count": 13,
     "metadata": {},
     "output_type": "execute_result"
    }
   ],
   "source": [
    "train_y = encoder.transform(training_data[\"Disease\"])\n",
    "train_x = training_data.drop(\"Disease\", axis=1)\n",
    "train_x.shape"
   ]
  },
  {
   "cell_type": "code",
   "execution_count": 14,
   "id": "9318ab6c",
   "metadata": {
    "ExecuteTime": {
     "end_time": "2021-05-30T08:50:27.917881Z",
     "start_time": "2021-05-30T08:50:27.898880Z"
    }
   },
   "outputs": [
    {
     "data": {
      "text/plain": [
       "(960, 17)"
      ]
     },
     "execution_count": 14,
     "metadata": {},
     "output_type": "execute_result"
    }
   ],
   "source": [
    "test_y = encoder.transform(test_data[\"Disease\"])\n",
    "test_x = test_data.drop(\"Disease\", axis=1)\n",
    "test_x.shape"
   ]
  },
  {
   "cell_type": "code",
   "execution_count": 18,
   "id": "402f2097",
   "metadata": {
    "ExecuteTime": {
     "end_time": "2021-05-30T08:18:59.314798Z",
     "start_time": "2021-05-30T08:18:56.071622Z"
    }
   },
   "outputs": [],
   "source": [
    "import tensorflow as tf\n",
    "physical_devices = tf.config.list_physical_devices('GPU')\n",
    "tf.config.experimental.set_memory_growth(physical_devices[0], enable=True)"
   ]
  },
  {
   "cell_type": "code",
   "execution_count": 15,
   "id": "dd72f110",
   "metadata": {
    "ExecuteTime": {
     "end_time": "2021-05-30T08:50:35.279875Z",
     "start_time": "2021-05-30T08:50:35.274873Z"
    }
   },
   "outputs": [
    {
     "name": "stdout",
     "output_type": "stream",
     "text": [
      "(4058, 1, 17)\n",
      "(960, 1, 17)\n"
     ]
    }
   ],
   "source": [
    "#np.reshape(train_x.values, [4059, 1, 17]).view(\"<f4\")\n",
    "train_x = np.reshape(train_x.values, [train_x.shape[0], 1, train_x.shape[1]])\n",
    "test_x = np.reshape(test_x.values, [test_x.shape[0], 1, test_x.shape[1]])\n",
    "print (train_x.shape)\n",
    "print(test_x.shape)"
   ]
  },
  {
   "cell_type": "code",
   "execution_count": 16,
   "id": "daec9a44",
   "metadata": {
    "ExecuteTime": {
     "end_time": "2021-05-30T08:50:37.332833Z",
     "start_time": "2021-05-30T08:50:36.689590Z"
    }
   },
   "outputs": [
    {
     "name": "stdout",
     "output_type": "stream",
     "text": [
      "Model: \"sequential_1\"\n",
      "_________________________________________________________________\n",
      "Layer (type)                 Output Shape              Param #   \n",
      "=================================================================\n",
      "lstm_2 (LSTM)                (None, 1, 32)             6400      \n",
      "_________________________________________________________________\n",
      "lstm_3 (LSTM)                (None, 64)                24832     \n",
      "_________________________________________________________________\n",
      "dropout_1 (Dropout)          (None, 64)                0         \n",
      "_________________________________________________________________\n",
      "dense_2 (Dense)              (None, 100)               6500      \n",
      "_________________________________________________________________\n",
      "dense_3 (Dense)              (None, 41)                4141      \n",
      "=================================================================\n",
      "Total params: 41,873\n",
      "Trainable params: 41,873\n",
      "Non-trainable params: 0\n",
      "_________________________________________________________________\n"
     ]
    }
   ],
   "source": [
    "tf.random.set_seed(99)\n",
    "model_full_1 = tf.keras.Sequential([\n",
    "    tf.keras.layers.LSTM(32, input_shape=[1, 17], return_sequences=True),\n",
    "    tf.keras.layers.LSTM(64),\n",
    "    tf.keras.layers.Dropout(0.2),\n",
    "    tf.keras.layers.Dense(100, activation=\"relu\"),\n",
    "    tf.keras.layers.Dense(41, activation=\"softmax\")\n",
    "])\n",
    "model_full_1.summary()"
   ]
  },
  {
   "cell_type": "code",
   "execution_count": 17,
   "id": "9d1df5f2",
   "metadata": {
    "ExecuteTime": {
     "end_time": "2021-05-30T08:51:26.105540Z",
     "start_time": "2021-05-30T08:50:39.523482Z"
    }
   },
   "outputs": [
    {
     "name": "stdout",
     "output_type": "stream",
     "text": [
      "Epoch 1/50\n",
      "127/127 - 4s - loss: 3.2098 - accuracy: 0.3603 - val_loss: 2.0080 - val_accuracy: 0.5948\n",
      "Epoch 2/50\n",
      "127/127 - 1s - loss: 1.1274 - accuracy: 0.7686 - val_loss: 0.5614 - val_accuracy: 0.8896\n",
      "Epoch 3/50\n",
      "127/127 - 1s - loss: 0.4849 - accuracy: 0.8940 - val_loss: 0.2931 - val_accuracy: 0.9333\n",
      "Epoch 4/50\n",
      "127/127 - 1s - loss: 0.3135 - accuracy: 0.9211 - val_loss: 0.2035 - val_accuracy: 0.9521\n",
      "Epoch 5/50\n",
      "127/127 - 1s - loss: 0.2263 - accuracy: 0.9421 - val_loss: 0.1455 - val_accuracy: 0.9563\n",
      "Epoch 6/50\n",
      "127/127 - 1s - loss: 0.1726 - accuracy: 0.9512 - val_loss: 0.1069 - val_accuracy: 0.9740\n",
      "Epoch 7/50\n",
      "127/127 - 1s - loss: 0.1415 - accuracy: 0.9566 - val_loss: 0.1141 - val_accuracy: 0.9594\n",
      "Epoch 8/50\n",
      "127/127 - 1s - loss: 0.1191 - accuracy: 0.9655 - val_loss: 0.0628 - val_accuracy: 0.9812\n",
      "Epoch 9/50\n",
      "127/127 - 1s - loss: 0.0935 - accuracy: 0.9724 - val_loss: 0.0510 - val_accuracy: 0.9927\n",
      "Epoch 10/50\n",
      "127/127 - 1s - loss: 0.0774 - accuracy: 0.9795 - val_loss: 0.0427 - val_accuracy: 0.9896\n",
      "Epoch 11/50\n",
      "127/127 - 1s - loss: 0.0681 - accuracy: 0.9805 - val_loss: 0.0353 - val_accuracy: 0.9906\n",
      "Epoch 12/50\n",
      "127/127 - 1s - loss: 0.0509 - accuracy: 0.9884 - val_loss: 0.0304 - val_accuracy: 0.9875\n",
      "Epoch 13/50\n",
      "127/127 - 1s - loss: 0.0516 - accuracy: 0.9837 - val_loss: 0.0337 - val_accuracy: 0.9885\n",
      "Epoch 14/50\n",
      "127/127 - 1s - loss: 0.0452 - accuracy: 0.9889 - val_loss: 0.0218 - val_accuracy: 0.9948\n",
      "Epoch 15/50\n",
      "127/127 - 1s - loss: 0.0456 - accuracy: 0.9877 - val_loss: 0.0543 - val_accuracy: 0.9802\n",
      "Epoch 16/50\n",
      "127/127 - 1s - loss: 0.0542 - accuracy: 0.9840 - val_loss: 0.0308 - val_accuracy: 0.9865\n",
      "Epoch 17/50\n",
      "127/127 - 1s - loss: 0.0379 - accuracy: 0.9869 - val_loss: 0.0140 - val_accuracy: 0.9958\n",
      "Epoch 18/50\n",
      "127/127 - 1s - loss: 0.0311 - accuracy: 0.9914 - val_loss: 0.0115 - val_accuracy: 0.9969\n",
      "Epoch 19/50\n",
      "127/127 - 1s - loss: 0.0261 - accuracy: 0.9924 - val_loss: 0.0172 - val_accuracy: 0.9969\n",
      "Epoch 20/50\n",
      "127/127 - 1s - loss: 0.0264 - accuracy: 0.9933 - val_loss: 0.0134 - val_accuracy: 0.9948\n",
      "Epoch 21/50\n",
      "127/127 - 1s - loss: 0.0291 - accuracy: 0.9916 - val_loss: 0.0103 - val_accuracy: 0.9958\n",
      "Epoch 22/50\n",
      "127/127 - 1s - loss: 0.0227 - accuracy: 0.9961 - val_loss: 0.0102 - val_accuracy: 0.9969\n",
      "Epoch 23/50\n",
      "127/127 - 1s - loss: 0.0172 - accuracy: 0.9963 - val_loss: 0.0051 - val_accuracy: 1.0000\n",
      "Epoch 24/50\n",
      "127/127 - 1s - loss: 0.0151 - accuracy: 0.9961 - val_loss: 0.0070 - val_accuracy: 1.0000\n",
      "Epoch 25/50\n",
      "127/127 - 1s - loss: 0.0265 - accuracy: 0.9931 - val_loss: 0.0111 - val_accuracy: 0.9990\n",
      "Epoch 26/50\n",
      "127/127 - 1s - loss: 0.0200 - accuracy: 0.9948 - val_loss: 0.0110 - val_accuracy: 0.9958\n",
      "Epoch 27/50\n",
      "127/127 - 1s - loss: 0.0169 - accuracy: 0.9958 - val_loss: 0.0077 - val_accuracy: 0.9958\n",
      "Epoch 28/50\n",
      "127/127 - 1s - loss: 0.0266 - accuracy: 0.9956 - val_loss: 0.0313 - val_accuracy: 0.9906\n",
      "Epoch 29/50\n",
      "127/127 - 1s - loss: 0.0828 - accuracy: 0.9754 - val_loss: 0.0425 - val_accuracy: 0.9896\n",
      "Epoch 30/50\n",
      "127/127 - 1s - loss: 0.0553 - accuracy: 0.9835 - val_loss: 0.0071 - val_accuracy: 1.0000\n",
      "Epoch 31/50\n",
      "127/127 - 1s - loss: 0.0170 - accuracy: 0.9961 - val_loss: 0.0164 - val_accuracy: 0.9979\n",
      "Epoch 32/50\n",
      "127/127 - 1s - loss: 0.0190 - accuracy: 0.9963 - val_loss: 0.0034 - val_accuracy: 1.0000\n",
      "Epoch 33/50\n",
      "127/127 - 1s - loss: 0.0118 - accuracy: 0.9968 - val_loss: 0.0029 - val_accuracy: 1.0000\n",
      "Epoch 34/50\n",
      "127/127 - 1s - loss: 0.0100 - accuracy: 0.9985 - val_loss: 0.0020 - val_accuracy: 1.0000\n",
      "Epoch 35/50\n",
      "127/127 - 1s - loss: 0.0055 - accuracy: 0.9998 - val_loss: 0.0015 - val_accuracy: 1.0000\n",
      "Epoch 36/50\n",
      "127/127 - 1s - loss: 0.0062 - accuracy: 0.9988 - val_loss: 0.0013 - val_accuracy: 1.0000\n",
      "Epoch 37/50\n",
      "127/127 - 1s - loss: 0.0036 - accuracy: 1.0000 - val_loss: 0.0012 - val_accuracy: 1.0000\n",
      "Epoch 38/50\n",
      "127/127 - 1s - loss: 0.0082 - accuracy: 0.9975 - val_loss: 7.8718e-04 - val_accuracy: 1.0000\n",
      "Epoch 39/50\n",
      "127/127 - 1s - loss: 0.0178 - accuracy: 0.9961 - val_loss: 0.0041 - val_accuracy: 1.0000\n",
      "Epoch 40/50\n",
      "127/127 - 1s - loss: 0.0143 - accuracy: 0.9956 - val_loss: 0.0054 - val_accuracy: 0.9990\n",
      "Epoch 41/50\n",
      "127/127 - 1s - loss: 0.0141 - accuracy: 0.9956 - val_loss: 0.0015 - val_accuracy: 1.0000\n",
      "Epoch 42/50\n",
      "127/127 - 1s - loss: 0.0046 - accuracy: 0.9995 - val_loss: 9.7103e-04 - val_accuracy: 1.0000\n",
      "Epoch 43/50\n",
      "127/127 - 1s - loss: 0.0378 - accuracy: 0.9921 - val_loss: 0.0129 - val_accuracy: 0.9927\n",
      "Epoch 44/50\n",
      "127/127 - 1s - loss: 0.0138 - accuracy: 0.9966 - val_loss: 0.0014 - val_accuracy: 1.0000\n",
      "Epoch 45/50\n",
      "127/127 - 1s - loss: 0.0100 - accuracy: 0.9988 - val_loss: 0.0011 - val_accuracy: 1.0000\n",
      "Epoch 46/50\n",
      "127/127 - 1s - loss: 0.0044 - accuracy: 0.9990 - val_loss: 9.6190e-04 - val_accuracy: 1.0000\n",
      "Epoch 47/50\n",
      "127/127 - 1s - loss: 0.0062 - accuracy: 0.9993 - val_loss: 0.0010 - val_accuracy: 1.0000\n",
      "Epoch 48/50\n",
      "127/127 - 1s - loss: 0.0041 - accuracy: 0.9993 - val_loss: 9.9634e-04 - val_accuracy: 1.0000\n",
      "Epoch 49/50\n",
      "127/127 - 1s - loss: 0.0039 - accuracy: 0.9990 - val_loss: 6.6153e-04 - val_accuracy: 1.0000\n",
      "Epoch 50/50\n",
      "127/127 - 1s - loss: 0.0024 - accuracy: 0.9998 - val_loss: 4.4873e-04 - val_accuracy: 1.0000\n"
     ]
    }
   ],
   "source": [
    "model_full_1.compile(loss='sparse_categorical_crossentropy', optimizer='adam', metrics=['accuracy'])\n",
    "num_epochs = 50\n",
    "history = model_full_1.fit(train_x, train_y, epochs=num_epochs, verbose=2, validation_data=(test_x, test_y))"
   ]
  },
  {
   "cell_type": "code",
   "execution_count": 18,
   "id": "26beb0ff",
   "metadata": {
    "ExecuteTime": {
     "end_time": "2021-05-30T08:51:30.367413Z",
     "start_time": "2021-05-30T08:51:30.240363Z"
    }
   },
   "outputs": [
    {
     "name": "stdout",
     "output_type": "stream",
     "text": [
      "Evaluate on test data\n",
      "30/30 [==============================] - 0s 3ms/step - loss: 4.4873e-04 - accuracy: 1.0000\n",
      "test loss, test acc: [0.00044873167644254863, 1.0]\n"
     ]
    }
   ],
   "source": [
    "# Evaluate the model on the test data using `evaluate`\n",
    "print(\"Evaluate on test data\")\n",
    "results = model_full_1.evaluate(test_x, test_y)\n",
    "print(\"test loss, test acc:\", results)"
   ]
  },
  {
   "cell_type": "code",
   "execution_count": 19,
   "id": "3b7ba676",
   "metadata": {
    "ExecuteTime": {
     "end_time": "2021-05-30T08:51:34.576767Z",
     "start_time": "2021-05-30T08:51:34.438715Z"
    }
   },
   "outputs": [
    {
     "data": {
      "image/png": "[encoded data removed]",
      "text/plain": [
       "<Figure size 432x288 with 1 Axes>"
      ]
     },
     "metadata": {
      "needs_background": "light"
     },
     "output_type": "display_data"
    }
   ],
   "source": [
    "plt.plot(history.history[\"loss\"], label=\"Train Loss\")\n",
    "plt.plot(history.history[\"val_loss\"], label=\"Val Loss\")\n",
    "plt.legend()\n",
    "plt.show()"
   ]
  },
  {
   "cell_type": "code",
   "execution_count": 20,
   "id": "a29d181a",
   "metadata": {
    "ExecuteTime": {
     "end_time": "2021-05-30T08:51:36.202590Z",
     "start_time": "2021-05-30T08:51:36.094071Z"
    }
   },
   "outputs": [
    {
     "data": {
      "image/png": "[encoded data removed]",
      "text/plain": [
       "<Figure size 432x288 with 1 Axes>"
      ]
     },
     "metadata": {
      "needs_background": "light"
     },
     "output_type": "display_data"
    }
   ],
   "source": [
    "plt.plot(history.history[\"accuracy\"], label=\"Train Acc\")\n",
    "plt.plot(history.history[\"val_accuracy\"], label=\"Val Acc\")\n",
    "plt.legend()\n",
    "plt.show()"
   ]
  },
  {
   "cell_type": "code",
   "execution_count": 80,
   "id": "302ddb11",
   "metadata": {
    "ExecuteTime": {
     "end_time": "2021-05-30T08:42:41.055343Z",
     "start_time": "2021-05-30T08:42:39.409774Z"
    }
   },
   "outputs": [],
   "source": [
    "model_full_1.save('base_lstm')"
   ]
  },
  {
   "cell_type": "code",
   "execution_count": null,
   "id": "14457a8e",
   "metadata": {},
   "outputs": [],
   "source": []
  }
 ],
 "metadata": {
  "kernelspec": {
   "display_name": "Python 3",
   "language": "python",
   "name": "python3"
  },
  "language_info": {
   "codemirror_mode": {
    "name": "ipython",
    "version": 3
   },
   "file_extension": ".py",
   "mimetype": "text/x-python",
   "name": "python",
   "nbconvert_exporter": "python",
   "pygments_lexer": "ipython3",
   "version": "3.7.3"
  },
  "toc": {
   "base_numbering": 1,
   "nav_menu": {},
   "number_sections": true,
   "sideBar": true,
   "skip_h1_title": false,
   "title_cell": "Table of Contents",
   "title_sidebar": "Contents",
   "toc_cell": false,
   "toc_position": {},
   "toc_section_display": true,
   "toc_window_display": false
  }
 },
 "nbformat": 4,
 "nbformat_minor": 5
}
